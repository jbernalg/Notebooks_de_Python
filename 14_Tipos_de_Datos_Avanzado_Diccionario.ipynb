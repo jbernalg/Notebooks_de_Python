{
  "cells": [
    {
      "cell_type": "markdown",
      "metadata": {
        "id": "914C9EugyQre"
      },
      "source": [
        "# __Tipo de dato avanzado: Diccionarios__"
      ]
    },
    {
      "attachments": {
        "image.png": {
          "image/png": "[encoded data removed]"
        }
      },
      "cell_type": "markdown",
      "metadata": {
        "id": "7ImWC1hk0_dw"
      },
      "source": [
        "Los diccionarios en Python son un tipo de arreglo, una colección ordenada (en la versión 3.7) o desordenada (en la versión 3.6 y anteriores) que permite almacenar datos en pares en forma de llave y valor.\n",
        "\n",
        "![image.png](attachment:image.png)\n",
        "\n",
        "Algunas propiedades de los diccionarios en Python son las siguientes:\n",
        "\n",
        "- Son dinámicos, pueden crecer o decrecer, se pueden agregar o eliminar elementos.\n",
        "\n",
        "- Son indexados, los elementos del diccionario son accesibles a través de llaves (keys).\n",
        "\n",
        "- Son anidados, un diccionario puede contener a otro diccionario en su campo valor (value).\n",
        "\n",
        "- No admiten datos duplicados en las llaves."
      ]
    },
    {
      "cell_type": "markdown",
      "metadata": {},
      "source": [
        "## Crear diccionarios en Python"
      ]
    },
    {
      "cell_type": "markdown",
      "metadata": {},
      "source": [
        "__Forma 1: con parénteis__\n",
        "\n",
        "Los diccionarios se pueden crear con paréntesis {} separando con una coma cada par key: value. En el siguiente ejemplo tenemos cuatro keys junto a su respectivos values."
      ]
    },
    {
      "cell_type": "code",
      "execution_count": 1,
      "metadata": {
        "colab": {
          "base_uri": "https://localhost:8080/"
        },
        "id": "4hIK4ldS0THF",
        "outputId": "b7094bb0-bb82-4767-9064-3b0648159041"
      },
      "outputs": [
        {
          "name": "stdout",
          "output_type": "stream",
          "text": [
            "{'clave': 'valor', 'nombre': 'Python', 'version': 3.6, 'fecha_lanzamiento': 2016}\n"
          ]
        }
      ],
      "source": [
        "lenguaje1 = {\n",
        "    \"clave\" : \"valor\", # Primer elemento\n",
        "    \"nombre\" : \"Python\", #Segundo elemento\n",
        "    \"version\" : 3.6, #Tercer elemento\n",
        "    \"fecha_lanzamiento\" : 2016\n",
        "}\n",
        "print(lenguaje1)"
      ]
    },
    {
      "cell_type": "markdown",
      "metadata": {},
      "source": [
        "__Forma 2: con el método dict()__\n",
        "\n",
        "Otra forma equivalente de crear un diccionario en Python es usando _dict()_ e introduciendo los pares key: value entre paréntesis."
      ]
    },
    {
      "cell_type": "code",
      "execution_count": 1,
      "metadata": {},
      "outputs": [
        {
          "name": "stdout",
          "output_type": "stream",
          "text": [
            "{'Nombre': 'Miguel', 'Edad': 24, 'Documento': 23125465}\n"
          ]
        }
      ],
      "source": [
        "datos_personales = dict([\n",
        "    ('Nombre', 'Miguel'),\n",
        "    ('Edad', 24),\n",
        "    ('Documento', 23125465)\n",
        "])\n",
        "\n",
        "print(datos_personales)"
      ]
    },
    {
      "cell_type": "markdown",
      "metadata": {},
      "source": [
        "También podemos usar el constructor _dict()_ para crear un diccionario."
      ]
    },
    {
      "cell_type": "code",
      "execution_count": 2,
      "metadata": {},
      "outputs": [
        {
          "name": "stdout",
          "output_type": "stream",
          "text": [
            "{'Nombre': 'Dani', 'Edad': 31, 'Documento': 32674245}\n"
          ]
        }
      ],
      "source": [
        "estudiante = dict(Nombre='Dani',\n",
        "                  Edad=31,\n",
        "                  Documento=32674245)\n",
        "\n",
        "print(estudiante)"
      ]
    },
    {
      "cell_type": "markdown",
      "metadata": {},
      "source": [
        "## Tipos de datos que soportan los diccionarios"
      ]
    },
    {
      "cell_type": "markdown",
      "metadata": {
        "id": "9xr8duIB0rQM"
      },
      "source": [
        "__Los valores__ de un diccionario pueden ser cualquier tipo de dato: *enteros, decimales, texto, booleanos, listas, entre otros.*\n"
      ]
    },
    {
      "cell_type": "code",
      "execution_count": 3,
      "metadata": {},
      "outputs": [
        {
          "name": "stdout",
          "output_type": "stream",
          "text": [
            "{'clave': True, 'nombre': 'Python', 'version': 3.6, 'fecha_lanzamiento': 2016, 'versiones_antiguas': [3.2, 3.4, 3.5], 'creador_year': ('Rossent', 1992)}\n"
          ]
        }
      ],
      "source": [
        "info_lenguaje = {\n",
        "    \"clave\" : True, # Primer elemento\n",
        "    \"nombre\" : \"Python\", #Segundo elemento\n",
        "    \"version\" : 3.6, #Tercer elemento\n",
        "    \"fecha_lanzamiento\" : 2016,\n",
        "    \"versiones_antiguas\": [3.2, 3.4, 3.5],\n",
        "    \"creador_year\": ('Rossent', 1992)\n",
        "}\n",
        "\n",
        "print(info_lenguaje)"
      ]
    },
    {
      "cell_type": "markdown",
      "metadata": {},
      "source": [
        "__Las claves__ en un diccionario deben ser inmutables y únicas. Esto significa que no pueden ser listas, conjuntos ni diccionarios porque son mutables."
      ]
    },
    {
      "cell_type": "code",
      "execution_count": 4,
      "metadata": {},
      "outputs": [
        {
          "name": "stdout",
          "output_type": "stream",
          "text": [
            "{1: 'verdadero', 3.14: 'pi', 'nombre': 'Ana', (2, 3): 'par'}\n"
          ]
        }
      ],
      "source": [
        "diccionario = {\n",
        "    1: \"uno\",          # Entero como clave\n",
        "    3.14: \"pi\",        # Flotante como clave\n",
        "    \"nombre\": \"Ana\",   # String como clave\n",
        "    (2, 3): \"par\",     # Tupla como clave\n",
        "    True: \"verdadero\"  # Booleano como clave\n",
        "}\n",
        "\n",
        "print(diccionario)"
      ]
    },
    {
      "cell_type": "markdown",
      "metadata": {},
      "source": [
        "## Tipo de dato de un diccionario"
      ]
    },
    {
      "cell_type": "markdown",
      "metadata": {},
      "source": [
        "Desde la perspectiva de Python, los diccionarios se definen como objetos con el tipo de datos 'dict'."
      ]
    },
    {
      "cell_type": "code",
      "execution_count": 6,
      "metadata": {},
      "outputs": [
        {
          "name": "stdout",
          "output_type": "stream",
          "text": [
            "<class 'dict'>\n"
          ]
        }
      ],
      "source": [
        "print(type(lenguaje1))"
      ]
    },
    {
      "cell_type": "markdown",
      "metadata": {},
      "source": [
        "Con la misma función _type()_, podemos conocer el tipo de dato del valor de cualquier clave."
      ]
    },
    {
      "cell_type": "code",
      "execution_count": 9,
      "metadata": {},
      "outputs": [
        {
          "name": "stdout",
          "output_type": "stream",
          "text": [
            "<class 'float'>\n"
          ]
        }
      ],
      "source": [
        "print(type(lenguaje1[\"version\"]))"
      ]
    },
    {
      "cell_type": "markdown",
      "metadata": {
        "id": "s02F1_ZD3ZS2"
      },
      "source": [
        "## Acceder a un elemento\n"
      ]
    },
    {
      "cell_type": "markdown",
      "metadata": {},
      "source": [
        "__Acceso mediante key__\n",
        "\n",
        "Se puede acceder a los elementos de un diccionario haciendo referencia a su nombre clave, entre corchetes."
      ]
    },
    {
      "cell_type": "code",
      "execution_count": 2,
      "metadata": {},
      "outputs": [],
      "source": [
        "lenguaje1 = {\n",
        "    \"clave\" : \"valor\", # Primer elemento\n",
        "    \"nombre\" : \"Python\", #Segundo elemento\n",
        "    \"version\" : 3.6, #Tercer elemento\n",
        "    \"fecha_lanzamiento\" : 2016\n",
        "}"
      ]
    },
    {
      "cell_type": "code",
      "execution_count": 3,
      "metadata": {
        "colab": {
          "base_uri": "https://localhost:8080/"
        },
        "id": "EGr7ubT034vL",
        "outputId": "448a3b04-8847-4453-a80f-f80df434e74b"
      },
      "outputs": [
        {
          "name": "stdout",
          "output_type": "stream",
          "text": [
            "Python\n"
          ]
        }
      ],
      "source": [
        "# mostrar el contenido de la llave \"nombre\"\n",
        "print(lenguaje1[\"nombre\"])"
      ]
    },
    {
      "cell_type": "markdown",
      "metadata": {
        "id": "1nkiKKb75fLa"
      },
      "source": [
        "__Acceso mediante get()__\n",
        "\n",
        "También existe un método llamado _get()_ que le dará el mismo resultado."
      ]
    },
    {
      "cell_type": "code",
      "execution_count": 16,
      "metadata": {
        "colab": {
          "base_uri": "https://localhost:8080/"
        },
        "id": "rr6SHMoa5k_L",
        "outputId": "448f6093-cee8-4229-bcdb-db2c5db8b8ed"
      },
      "outputs": [
        {
          "name": "stdout",
          "output_type": "stream",
          "text": [
            "Python\n"
          ]
        }
      ],
      "source": [
        "print(lenguaje1.get(\"nombre\"))"
      ]
    },
    {
      "cell_type": "markdown",
      "metadata": {
        "id": "R8lQIFZTEK1O"
      },
      "source": [
        "## Agregar elementos"
      ]
    },
    {
      "cell_type": "markdown",
      "metadata": {},
      "source": [
        "La adición de un elemento al diccionario la realizamos utilizando una nueva clave de índice y asignándole un valor."
      ]
    },
    {
      "cell_type": "code",
      "execution_count": 11,
      "metadata": {},
      "outputs": [],
      "source": [
        "lenguaje1 = {\n",
        "    \"clave\" : \"valor\", # Primer elemento\n",
        "    \"nombre\" : \"Python\", #Segundo elemento\n",
        "    \"version\" : 3.6, #Tercer elemento\n",
        "    \"fecha_lanzamiento\" : 2016\n",
        "}"
      ]
    },
    {
      "cell_type": "code",
      "execution_count": 5,
      "metadata": {
        "colab": {
          "base_uri": "https://localhost:8080/"
        },
        "id": "I327StgPEZCm",
        "outputId": "9d9f5eb9-27b3-4357-e0bb-bbaa7dac82db"
      },
      "outputs": [
        {
          "name": "stdout",
          "output_type": "stream",
          "text": [
            "{'clave': 'valor', 'nombre': 'Python', 'version': 3.6, 'fecha_lanzamiento': 2016, 'creador': 'Guido van Rossum'}\n"
          ]
        }
      ],
      "source": [
        "lenguaje1[\"creador\"] = \"Guido van Rossum\"\n",
        "print(lenguaje1)"
      ]
    },
    {
      "cell_type": "markdown",
      "metadata": {
        "id": "9WNfRLbiNEIl"
      },
      "source": [
        "## Remover elementos"
      ]
    },
    {
      "cell_type": "markdown",
      "metadata": {},
      "source": [
        "__Método _pop()___\n",
        "\n",
        "El método _pop()_ elimina el elemento con el nombre de clave especificado."
      ]
    },
    {
      "cell_type": "code",
      "execution_count": 12,
      "metadata": {},
      "outputs": [],
      "source": [
        "lenguaje1 = {\n",
        "    \"clave\" : \"valor\", # Primer elemento\n",
        "    \"nombre\" : \"Python\", #Segundo elemento\n",
        "    \"version\" : 3.6, #Tercer elemento\n",
        "    \"fecha_lanzamiento\" : 2016\n",
        "}"
      ]
    },
    {
      "cell_type": "code",
      "execution_count": 13,
      "metadata": {
        "colab": {
          "base_uri": "https://localhost:8080/"
        },
        "id": "a2XTsG6vObhf",
        "outputId": "ed5564b1-960f-4bab-de6c-3c847100b941"
      },
      "outputs": [
        {
          "name": "stdout",
          "output_type": "stream",
          "text": [
            "{'clave': 'valor', 'nombre': 'Python', 'fecha_lanzamiento': 2016}\n"
          ]
        }
      ],
      "source": [
        "lenguaje1.pop(\"version\")\n",
        "print(lenguaje1)"
      ]
    },
    {
      "cell_type": "markdown",
      "metadata": {
        "id": "ndLZcBx9O77Y"
      },
      "source": [
        "__Método _popitem()___\n",
        "\n",
        "El método _popitem()_ elimina el último elemento insertado (en las versiones anteriores a la 3.7, se elimina un elemento aleatorio en su lugar)."
      ]
    },
    {
      "cell_type": "code",
      "execution_count": null,
      "metadata": {
        "colab": {
          "base_uri": "https://localhost:8080/"
        },
        "id": "6seA58YEQu3u",
        "outputId": "ec9c25dc-afee-4b69-ae53-c8f86cc98ffc"
      },
      "outputs": [
        {
          "name": "stdout",
          "output_type": "stream",
          "text": [
            "{'clave': 'valor', 'nombre': 'Python', 'version': 3.6}\n"
          ]
        }
      ],
      "source": [
        "lenguaje1 = {\n",
        "    \"clave\" : \"valor\", # Elemento\n",
        "    \"nombre\" : \"Python\",\n",
        "    \"version\" : 3.6,\n",
        "    \"fecha_lanzamiento\" : 2016\n",
        "}\n",
        "\n",
        "lenguaje1.popitem()\n",
        "print(lenguaje1)"
      ]
    },
    {
      "cell_type": "markdown",
      "metadata": {
        "id": "y4nKAodCQyI9"
      },
      "source": [
        "__del__\n",
        "\n",
        "La palabra clave ***del*** elimina el elemento con el nombre de clave especificado.\n"
      ]
    },
    {
      "cell_type": "code",
      "execution_count": 15,
      "metadata": {
        "colab": {
          "base_uri": "https://localhost:8080/"
        },
        "id": "5W5M18_jRXQ1",
        "outputId": "413d2c2e-936f-4057-a35e-f1ce7c5b5353"
      },
      "outputs": [
        {
          "name": "stdout",
          "output_type": "stream",
          "text": [
            "{'clave': 'valor', 'nombre': 'Python'}\n"
          ]
        }
      ],
      "source": [
        "del lenguaje1[\"version\"]\n",
        "print(lenguaje1)"
      ]
    },
    {
      "cell_type": "markdown",
      "metadata": {
        "id": "U5QtUFTTR3E-"
      },
      "source": [
        "Cuidado! Recuerda siempre colocar la clave, de lo contrario se eliminará la variable."
      ]
    },
    {
      "cell_type": "code",
      "execution_count": null,
      "metadata": {},
      "outputs": [
        {
          "ename": "NameError",
          "evalue": "name 'lenguaje1' is not defined",
          "output_type": "error",
          "traceback": [
            "\u001b[0;31m---------------------------------------------------------------------------\u001b[0m",
            "\u001b[0;31mNameError\u001b[0m                                 Traceback (most recent call last)",
            "Cell \u001b[0;32mIn [10], line 2\u001b[0m\n\u001b[1;32m      1\u001b[0m \u001b[38;5;28;01mdel\u001b[39;00m lenguaje1\n\u001b[0;32m----> 2\u001b[0m \u001b[38;5;28mprint\u001b[39m(\u001b[43mlenguaje1\u001b[49m)\n",
            "\u001b[0;31mNameError\u001b[0m: name 'lenguaje1' is not defined"
          ]
        }
      ],
      "source": [
        "lenguaje1 = {\n",
        "    \"clave\" : \"valor\", # Elemento\n",
        "    \"nombre\" : \"Python\",\n",
        "    \"version\" : 3.6,\n",
        "    \"fecha_lanzamiento\" : 2016\n",
        "}\n",
        "\n",
        "del lenguaje1\n",
        "print(lenguaje1)"
      ]
    },
    {
      "cell_type": "markdown",
      "metadata": {
        "id": "5iN7rE2kThhT"
      },
      "source": [
        "__Método clear()__\n",
        "\n",
        "El método clear() vacía el diccionario, no quedará ningún elemento."
      ]
    },
    {
      "cell_type": "code",
      "execution_count": 16,
      "metadata": {},
      "outputs": [
        {
          "name": "stdout",
          "output_type": "stream",
          "text": [
            "None\n"
          ]
        }
      ],
      "source": [
        "lenguaje1 = {\n",
        "    \"clave\" : \"valor\", # Elemento\n",
        "    \"nombre\" : \"Python\",\n",
        "    \"version\" : 3.6,\n",
        "    \"fecha_lanzamiento\" : 2016\n",
        "}\n",
        "\n",
        "print(lenguaje1.clear())"
      ]
    },
    {
      "cell_type": "markdown",
      "metadata": {},
      "source": [
        "Esto causará un error porque \"lenguaje1\" ya no existe."
      ]
    },
    {
      "cell_type": "markdown",
      "metadata": {
        "id": "wkbJrD-9BkX6"
      },
      "source": [
        "## Actualizar elementos"
      ]
    },
    {
      "cell_type": "markdown",
      "metadata": {},
      "source": [
        "__Primera Forma:__ Modificando el valor de una llave específica."
      ]
    },
    {
      "cell_type": "code",
      "execution_count": 25,
      "metadata": {
        "colab": {
          "base_uri": "https://localhost:8080/"
        },
        "id": "lP0NbY2HCs4X",
        "outputId": "33024ddf-84c8-44ea-ba6e-b712c6484e98"
      },
      "outputs": [
        {
          "name": "stdout",
          "output_type": "stream",
          "text": [
            "{'clave': 'valor', 'nombre': 'Python', 'version': 3.0, 'fecha_lanzamiento': 2016}\n"
          ]
        }
      ],
      "source": [
        "lenguaje1 = {\n",
        "    \"clave\" : \"valor\", # Primer elemento\n",
        "    \"nombre\" : \"Python\", #Segundo elemento\n",
        "    \"version\" : 3.6, #Tercer elemento\n",
        "    \"fecha_lanzamiento\" : 2016\n",
        "}\n",
        "\n",
        "lenguaje1[\"version\"] = 3.0\n",
        "print(lenguaje1)"
      ]
    },
    {
      "cell_type": "markdown",
      "metadata": {
        "id": "KumjxNOGCv8W"
      },
      "source": [
        "__Segunda forma:__ es llamando al método _update()_ que le dará el mismo resultado."
      ]
    },
    {
      "cell_type": "code",
      "execution_count": 26,
      "metadata": {
        "colab": {
          "base_uri": "https://localhost:8080/"
        },
        "id": "d1PS9_KJCNXj",
        "outputId": "d46e989d-2019-4d07-c6cc-a41ed14ac4be"
      },
      "outputs": [
        {
          "name": "stdout",
          "output_type": "stream",
          "text": [
            "{'clave': 'valor', 'nombre': 'Python', 'version': 3.6, 'fecha_lanzamiento': 2016}\n"
          ]
        }
      ],
      "source": [
        "lenguaje1.update({\"version\": 3.6})\n",
        "print(lenguaje1)"
      ]
    },
    {
      "cell_type": "markdown",
      "metadata": {
        "id": "BB2UjJIDXE2O"
      },
      "source": [
        "## Copiar un diccionario"
      ]
    },
    {
      "cell_type": "markdown",
      "metadata": {},
      "source": [
        "No puede copiar un diccionario simplemente escribiendo\n",
        "\n",
        "```\n",
        "lenguaje1_copia = lenguaje1\n",
        "```\n",
        "\n",
        "porque *lenguaje1_copia* solo será una referencia a *lenguaje1*, y los cambios realizados en *lenguaje1* también se realizarán automáticamente en lenguaje1_copia.\n",
        "Existen distintas formas de copiar un diccionario, una forma es utilizar el método de diccionario incorporado _copy()_."
      ]
    },
    {
      "cell_type": "code",
      "execution_count": 17,
      "metadata": {
        "colab": {
          "base_uri": "https://localhost:8080/"
        },
        "id": "0Akk_i4bXEdY",
        "outputId": "cd2137f1-6010-43c4-9da9-d7fdf438af78"
      },
      "outputs": [
        {
          "name": "stdout",
          "output_type": "stream",
          "text": [
            "Original: {'clave': 'valor', 'nombre': 'Python', 'version': 3.6, 'fecha_lanzamiento': 2016}\n",
            "Copia: {'clave': 'valor', 'nombre': 'Python', 'version': 3.6, 'fecha_lanzamiento': 2016}\n"
          ]
        }
      ],
      "source": [
        "lenguaje1 = {\n",
        "    \"clave\" : \"valor\", # Elemento\n",
        "    \"nombre\" : \"Python\",\n",
        "    \"version\" : 3.6,\n",
        "    \"fecha_lanzamiento\" : 2016\n",
        "}\n",
        "\n",
        "lenguaje1_copia = lenguaje1.copy()\n",
        "print(f'Original: {lenguaje1}\\nCopia: {lenguaje1_copia}')"
      ]
    },
    {
      "cell_type": "markdown",
      "metadata": {
        "id": "9Z5nE8H7Yn3c"
      },
      "source": [
        "Otra forma de hacer una copia es usar la función incorporada _dict()_."
      ]
    },
    {
      "cell_type": "code",
      "execution_count": 18,
      "metadata": {
        "colab": {
          "base_uri": "https://localhost:8080/"
        },
        "id": "cIFdEyFsYrF6",
        "outputId": "86ff117c-65d9-43bb-c002-68feba00cd2a"
      },
      "outputs": [
        {
          "name": "stdout",
          "output_type": "stream",
          "text": [
            "Original: {'clave': 'valor', 'nombre': 'Python', 'version': 3.6, 'fecha_lanzamiento': 2016}\n",
            "Copia: {'clave': 'valor', 'nombre': 'Python', 'version': 3.6, 'fecha_lanzamiento': 2016}\n"
          ]
        }
      ],
      "source": [
        "lenguaje1_copia = dict(lenguaje1)\n",
        "print(f'Original: {lenguaje1}\\nCopia: {lenguaje1_copia}')"
      ]
    },
    {
      "cell_type": "markdown",
      "metadata": {},
      "source": [
        "## Búsqueda de claves"
      ]
    },
    {
      "cell_type": "markdown",
      "metadata": {},
      "source": [
        "Para determinar si una clave específica está presente en un diccionario, use la palabra clave in."
      ]
    },
    {
      "cell_type": "code",
      "execution_count": 2,
      "metadata": {},
      "outputs": [
        {
          "name": "stdout",
          "output_type": "stream",
          "text": [
            "True\n",
            "False\n"
          ]
        }
      ],
      "source": [
        "lenguaje1 = {\n",
        "    \"clave\" : \"valor\", # Elemento\n",
        "    \"nombre\" : \"Python\",\n",
        "    \"version\" : 3.6,\n",
        "    \"fecha_lanzamiento\" : 2016\n",
        "}\n",
        "\n",
        "x = \"fecha_lanzamiento\"\n",
        "y = \"saludos\"\n",
        "\n",
        "print(x in lenguaje1)\n",
        "print(y in lenguaje1)"
      ]
    },
    {
      "cell_type": "markdown",
      "metadata": {},
      "source": [
        "## Recorrer diccionarios"
      ]
    },
    {
      "cell_type": "markdown",
      "metadata": {},
      "source": [
        "Puede recorrer un diccionario utilizando un bucle **for**.\n",
        "Al recorrer un diccionario, el valor de retorno son las claves del diccionario, pero también existen métodos para devolver los valores.\n",
        "\n",
        "Imprimir todos los **nombres** de las claves en el diccionario, uno por uno"
      ]
    },
    {
      "cell_type": "code",
      "execution_count": 3,
      "metadata": {},
      "outputs": [],
      "source": [
        "lenguaje1 = {\n",
        "    \"clave\" : \"valor\", # Elemento\n",
        "    \"nombre\" : \"Python\",\n",
        "    \"version\" : 3.6,\n",
        "    \"fecha_lanzamiento\" : 2016\n",
        "}"
      ]
    },
    {
      "cell_type": "code",
      "execution_count": 4,
      "metadata": {},
      "outputs": [
        {
          "name": "stdout",
          "output_type": "stream",
          "text": [
            "clave\n",
            "nombre\n",
            "version\n",
            "fecha_lanzamiento\n"
          ]
        }
      ],
      "source": [
        "for x in lenguaje1:\n",
        "  print(x)"
      ]
    },
    {
      "cell_type": "markdown",
      "metadata": {},
      "source": [
        "Imprimir todos los **valores** en el diccionario, uno por uno"
      ]
    },
    {
      "cell_type": "code",
      "execution_count": 5,
      "metadata": {},
      "outputs": [
        {
          "name": "stdout",
          "output_type": "stream",
          "text": [
            "valor\n",
            "Python\n",
            "3.6\n",
            "2016\n"
          ]
        }
      ],
      "source": [
        "for x in lenguaje1:\n",
        "  print(lenguaje1[x])"
      ]
    },
    {
      "cell_type": "markdown",
      "metadata": {},
      "source": [
        "## Diccionarios Anidados"
      ]
    },
    {
      "cell_type": "markdown",
      "metadata": {},
      "source": [
        "Un diccionario puede contener diccionarios, esto se llama diccionarios anidados."
      ]
    },
    {
      "cell_type": "code",
      "execution_count": 10,
      "metadata": {},
      "outputs": [
        {
          "data": {
            "text/plain": [
              "{'estudiante1': {'nombre': 'Mayerli', 'ID': 204},\n",
              " 'estudiante2': {'nombre': 'Matias', 'ID': 207},\n",
              " 'estudiante3': {'nombre': 'Raul', 'ID': 211}}"
            ]
          },
          "execution_count": 10,
          "metadata": {},
          "output_type": "execute_result"
        }
      ],
      "source": [
        "clase5A = {\n",
        "  \"estudiante1\" : {\n",
        "    \"nombre\" : \"Mayerli\",\n",
        "    \"ID\" : 204\n",
        "  },\n",
        "  \"estudiante2\" : {\n",
        "    \"nombre\" : \"Matias\",\n",
        "    \"ID\" : 207\n",
        "  },\n",
        "  \"estudiante3\" : {\n",
        "    \"nombre\" : \"Raul\",\n",
        "    \"ID\" : 211\n",
        "  }\n",
        "}\n",
        "\n",
        "clase5A"
      ]
    },
    {
      "cell_type": "markdown",
      "metadata": {},
      "source": [
        "O, si desea agregar tres diccionarios a un diccionario nuevo.\n",
        "Cree tres diccionarios, luego cree un diccionario que contendrá los otros tres diccionarios."
      ]
    },
    {
      "cell_type": "code",
      "execution_count": 11,
      "metadata": {},
      "outputs": [
        {
          "data": {
            "text/plain": [
              "{'estudiante1': {'nombre': 'Mayerli', 'ID': 204},\n",
              " 'estudiante2': {'nombre': 'Matias', 'ID': 207},\n",
              " 'estudiante3': {'nombre': 'Raul', 'ID': 211}}"
            ]
          },
          "execution_count": 11,
          "metadata": {},
          "output_type": "execute_result"
        }
      ],
      "source": [
        "estudiante1 = {\n",
        "  \"nombre\" : \"Mayerli\",\n",
        "  \"ID\" : 204\n",
        "}\n",
        "estudiante2 = {\n",
        "  \"nombre\" : \"Matias\",\n",
        "  \"ID\" : 207\n",
        "}\n",
        "estudiante3 = {\n",
        "  \"nombre\" : \"Raul\",\n",
        "  \"ID\" : 211\n",
        "}\n",
        "\n",
        "clase5B = {\n",
        "  \"estudiante1\" : estudiante1,\n",
        "  \"estudiante2\" : estudiante2,\n",
        "  \"estudiante3\" : estudiante3\n",
        "}\n",
        "\n",
        "clase5B"
      ]
    },
    {
      "cell_type": "markdown",
      "metadata": {
        "id": "zWOjBRpdeE4a"
      },
      "source": [
        "## Otros métodos aplicados a diccionarios"
      ]
    },
    {
      "cell_type": "markdown",
      "metadata": {},
      "source": [
        "### __fromkeys()__"
      ]
    },
    {
      "cell_type": "markdown",
      "metadata": {
        "id": "BoXL_iU05ws4"
      },
      "source": [
        "Este método crea un diccionario con el mismo valor para diferentes claves. Toma como clave los elementos del iterable que se pasa como parámetro.\n"
      ]
    },
    {
      "cell_type": "code",
      "execution_count": 12,
      "metadata": {
        "colab": {
          "base_uri": "https://localhost:8080/"
        },
        "id": "s9w0ohLU6F_w",
        "outputId": "cf6c506e-9e53-4354-b847-82cfe1348359"
      },
      "outputs": [
        {
          "data": {
            "text/plain": [
              "{'n': 'saludos',\n",
              " 'o': 'saludos',\n",
              " 'm': 'saludos',\n",
              " 'b': 'saludos',\n",
              " 'r': 'saludos',\n",
              " 'e': 'saludos'}"
            ]
          },
          "execution_count": 12,
          "metadata": {},
          "output_type": "execute_result"
        }
      ],
      "source": [
        "diccionario = dict.fromkeys('nombre','saludos')\n",
        "diccionario"
      ]
    },
    {
      "cell_type": "markdown",
      "metadata": {
        "id": "afAhGdjM6o4y"
      },
      "source": [
        "Si se pasa un valor que no sea un iterable arroja error."
      ]
    },
    {
      "cell_type": "code",
      "execution_count": 13,
      "metadata": {
        "colab": {
          "base_uri": "https://localhost:8080/"
        },
        "id": "OPbU8Ubf7CF4",
        "outputId": "1dbc4de6-2974-43bd-d178-6e31a776abae"
      },
      "outputs": [
        {
          "ename": "TypeError",
          "evalue": "'int' object is not iterable",
          "output_type": "error",
          "traceback": [
            "\u001b[0;31m---------------------------------------------------------------------------\u001b[0m",
            "\u001b[0;31mTypeError\u001b[0m                                 Traceback (most recent call last)",
            "Cell \u001b[0;32mIn [13], line 1\u001b[0m\n\u001b[0;32m----> 1\u001b[0m diccionario \u001b[38;5;241m=\u001b[39m \u001b[38;5;28;43mdict\u001b[39;49m\u001b[38;5;241;43m.\u001b[39;49m\u001b[43mfromkeys\u001b[49m\u001b[43m(\u001b[49m\u001b[38;5;241;43m1\u001b[39;49m\u001b[43m,\u001b[49m\u001b[38;5;124;43m'\u001b[39;49m\u001b[38;5;124;43msaludos\u001b[39;49m\u001b[38;5;124;43m'\u001b[39;49m\u001b[43m)\u001b[49m\n",
            "\u001b[0;31mTypeError\u001b[0m: 'int' object is not iterable"
          ]
        }
      ],
      "source": [
        "diccionario = dict.fromkeys(1,'saludos')"
      ]
    },
    {
      "cell_type": "markdown",
      "metadata": {},
      "source": [
        "Crear un diccionario donde todos los valores sean vacíos."
      ]
    },
    {
      "cell_type": "code",
      "execution_count": 14,
      "metadata": {},
      "outputs": [
        {
          "data": {
            "text/plain": [
              "{'nombre': None, 'saludos': None}"
            ]
          },
          "execution_count": 14,
          "metadata": {},
          "output_type": "execute_result"
        }
      ],
      "source": [
        "diccionario = dict.fromkeys(['nombre','saludos'])\n",
        "diccionario"
      ]
    },
    {
      "cell_type": "markdown",
      "metadata": {},
      "source": [
        "Crear un diccionario donde todas las llaves tengan el mismo valor."
      ]
    },
    {
      "cell_type": "code",
      "execution_count": 15,
      "metadata": {},
      "outputs": [
        {
          "data": {
            "text/plain": [
              "{'carlos': 32, 'pedro': 32, 'samuel': 32}"
            ]
          },
          "execution_count": 15,
          "metadata": {},
          "output_type": "execute_result"
        }
      ],
      "source": [
        "diccionario = dict.fromkeys(['carlos','pedro','samuel'], 32)\n",
        "diccionario"
      ]
    },
    {
      "cell_type": "markdown",
      "metadata": {
        "id": "ieENgPBp-Tbu"
      },
      "source": [
        "### __len()__"
      ]
    },
    {
      "cell_type": "markdown",
      "metadata": {},
      "source": [
        "El método _len​​()_ devuelve la longitud del diccionario."
      ]
    },
    {
      "cell_type": "code",
      "execution_count": 16,
      "metadata": {
        "colab": {
          "base_uri": "https://localhost:8080/"
        },
        "id": "vs-n2rtS-bls",
        "outputId": "61203346-8443-4852-9c45-b5520515e077"
      },
      "outputs": [
        {
          "name": "stdout",
          "output_type": "stream",
          "text": [
            "4\n"
          ]
        }
      ],
      "source": [
        "lenguaje1 = {\n",
        "    \"clave\" : \"valor\", # Elemento\n",
        "    \"nombre\" : \"Python\",\n",
        "    \"version\" : 3.6,\n",
        "    \"fecha_lanzamiento\" : 2016\n",
        "}\n",
        "\n",
        "print(len(lenguaje1))"
      ]
    },
    {
      "cell_type": "markdown",
      "metadata": {
        "id": "giYuYbzS-m0K"
      },
      "source": [
        "La lista de valores es una vista del diccionario, lo que significa que cualquier cambio realizado en el diccionario se reflejará en la lista de valores."
      ]
    },
    {
      "cell_type": "code",
      "execution_count": 22,
      "metadata": {
        "colab": {
          "base_uri": "https://localhost:8080/"
        },
        "id": "3uhZa9jT-qCw",
        "outputId": "148047f8-6673-4940-d6a0-98cb54b40af6"
      },
      "outputs": [
        {
          "name": "stdout",
          "output_type": "stream",
          "text": [
            "dict_values(['valor', 'Python', 3.7, 2016, ['Windows', 'Linux/Unix', 'Mac OS X']])\n"
          ]
        }
      ],
      "source": [
        "lenguaje1[\"version\"] = 3.7\n",
        "print(lenguaje1.values())"
      ]
    },
    {
      "cell_type": "markdown",
      "metadata": {},
      "source": [
        "### __append()__"
      ]
    },
    {
      "cell_type": "markdown",
      "metadata": {},
      "source": [
        "Este método agrega un nuevo valor a una llave existente. Sólo funciona para agregar un valor a un value de tipo lista."
      ]
    },
    {
      "cell_type": "code",
      "execution_count": 18,
      "metadata": {},
      "outputs": [
        {
          "data": {
            "text/plain": [
              "{'nombre': 'Manuel',\n",
              " 'apellido': 'Mesa',\n",
              " 'edad': 22,\n",
              " 'peso': 88,\n",
              " 'altura': [1.8, 1.79, 1.82, 1.92]}"
            ]
          },
          "execution_count": 18,
          "metadata": {},
          "output_type": "execute_result"
        }
      ],
      "source": [
        "persona = {\n",
        "    'nombre': 'Manuel',\n",
        "    'apellido': 'Mesa',\n",
        "    'edad': 22,\n",
        "    'peso': 88,\n",
        "    'altura': [1.80, 1.79, 1.82] \n",
        "}\n",
        "\n",
        "persona['altura'].append(1.92)\n",
        "persona"
      ]
    },
    {
      "cell_type": "markdown",
      "metadata": {},
      "source": [
        "Si no es de tipo lista, detiene el programa y arroja error."
      ]
    },
    {
      "cell_type": "code",
      "execution_count": 19,
      "metadata": {},
      "outputs": [
        {
          "ename": "AttributeError",
          "evalue": "'int' object has no attribute 'append'",
          "output_type": "error",
          "traceback": [
            "\u001b[0;31m---------------------------------------------------------------------------\u001b[0m",
            "\u001b[0;31mAttributeError\u001b[0m                            Traceback (most recent call last)",
            "Cell \u001b[0;32mIn [19], line 1\u001b[0m\n\u001b[0;32m----> 1\u001b[0m \u001b[43mpersona\u001b[49m\u001b[43m[\u001b[49m\u001b[38;5;124;43m'\u001b[39;49m\u001b[38;5;124;43medad\u001b[39;49m\u001b[38;5;124;43m'\u001b[39;49m\u001b[43m]\u001b[49m\u001b[38;5;241;43m.\u001b[39;49m\u001b[43mappend\u001b[49m(\u001b[38;5;241m19\u001b[39m)\n\u001b[1;32m      2\u001b[0m \u001b[38;5;28mprint\u001b[39m(persona[\u001b[38;5;124m'\u001b[39m\u001b[38;5;124medad\u001b[39m\u001b[38;5;124m'\u001b[39m])\n",
            "\u001b[0;31mAttributeError\u001b[0m: 'int' object has no attribute 'append'"
          ]
        }
      ],
      "source": [
        "persona['edad'].append(19)\n",
        "print(persona['edad'])"
      ]
    },
    {
      "cell_type": "markdown",
      "metadata": {
        "id": "tcyKcD7g_GvP"
      },
      "source": [
        "### __items()__\n"
      ]
    },
    {
      "cell_type": "markdown",
      "metadata": {},
      "source": [
        "El método _items()_ devuelve cada elemento de un diccionario, como tuplas en una lista."
      ]
    },
    {
      "cell_type": "code",
      "execution_count": 17,
      "metadata": {
        "colab": {
          "base_uri": "https://localhost:8080/"
        },
        "id": "KN8hXu1A_fpx",
        "outputId": "806711d0-ea80-47ab-eaa7-46fc23f99f3b"
      },
      "outputs": [
        {
          "name": "stdout",
          "output_type": "stream",
          "text": [
            "dict_items([('clave', 'valor'), ('nombre', 'Python'), ('version', 3.6), ('fecha_lanzamiento', 2016)])\n"
          ]
        }
      ],
      "source": [
        "lenguaje1 = {\n",
        "    \"clave\" : \"valor\", # Elemento\n",
        "    \"nombre\" : \"Python\",\n",
        "    \"version\" : 3.6,\n",
        "    \"fecha_lanzamiento\" : 2016\n",
        "}\n",
        "\n",
        "print(lenguaje1.items())"
      ]
    },
    {
      "cell_type": "markdown",
      "metadata": {},
      "source": [
        "### __keys()__"
      ]
    },
    {
      "cell_type": "markdown",
      "metadata": {},
      "source": [
        "Devuelve una vista con todas las claves del diccionario."
      ]
    },
    {
      "cell_type": "code",
      "execution_count": 20,
      "metadata": {},
      "outputs": [
        {
          "data": {
            "text/plain": [
              "dict_keys(['clave', 'nombre', 'version', 'fecha_lanzamiento'])"
            ]
          },
          "execution_count": 20,
          "metadata": {},
          "output_type": "execute_result"
        }
      ],
      "source": [
        "lenguaje1 = {\n",
        "    \"clave\" : \"valor\", # Elemento\n",
        "    \"nombre\" : \"Python\",\n",
        "    \"version\" : 3.6,\n",
        "    \"fecha_lanzamiento\" : 2016\n",
        "}\n",
        "\n",
        "lenguaje1.keys()"
      ]
    },
    {
      "cell_type": "markdown",
      "metadata": {},
      "source": [
        "### __values()__"
      ]
    },
    {
      "cell_type": "markdown",
      "metadata": {},
      "source": [
        "Devuelve una vista con todos los valores del diccionario."
      ]
    },
    {
      "cell_type": "code",
      "execution_count": 21,
      "metadata": {},
      "outputs": [
        {
          "data": {
            "text/plain": [
              "dict_values(['valor', 'Python', 3.6, 2016])"
            ]
          },
          "execution_count": 21,
          "metadata": {},
          "output_type": "execute_result"
        }
      ],
      "source": [
        "lenguaje1 = {\n",
        "    \"clave\" : \"valor\", # Elemento\n",
        "    \"nombre\" : \"Python\",\n",
        "    \"version\" : 3.6,\n",
        "    \"fecha_lanzamiento\" : 2016\n",
        "}\n",
        "\n",
        "lenguaje1.values()"
      ]
    },
    {
      "cell_type": "markdown",
      "metadata": {},
      "source": [
        "### __setdefault()__"
      ]
    },
    {
      "cell_type": "markdown",
      "metadata": {},
      "source": [
        "Devuelve el valor de una clave si existe; si no, la agrega con un valor por defecto."
      ]
    },
    {
      "cell_type": "code",
      "execution_count": 22,
      "metadata": {},
      "outputs": [
        {
          "data": {
            "text/plain": [
              "{'clave': 'valor',\n",
              " 'nombre': 'Python',\n",
              " 'version': 3.6,\n",
              " 'fecha_lanzamiento': 2016}"
            ]
          },
          "execution_count": 22,
          "metadata": {},
          "output_type": "execute_result"
        }
      ],
      "source": [
        "lenguaje1 = {\n",
        "    \"clave\" : \"valor\", # Elemento\n",
        "    \"nombre\" : \"Python\",\n",
        "    \"version\" : 3.6,\n",
        "    \"fecha_lanzamiento\" : 2016\n",
        "}\n",
        "\n",
        "lenguaje1.setdefault('version', 3.8)\n",
        "lenguaje1"
      ]
    }
  ],
  "metadata": {
    "colab": {
      "provenance": []
    },
    "kernelspec": {
      "display_name": "chat",
      "language": "python",
      "name": "python3"
    },
    "language_info": {
      "codemirror_mode": {
        "name": "ipython",
        "version": 3
      },
      "file_extension": ".py",
      "mimetype": "text/x-python",
      "name": "python",
      "nbconvert_exporter": "python",
      "pygments_lexer": "ipython3",
      "version": "3.10.6"
    }
  },
  "nbformat": 4,
  "nbformat_minor": 0
}
