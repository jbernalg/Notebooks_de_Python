{
 "cells": [
  {
   "cell_type": "markdown",
   "metadata": {},
   "source": [
    "# __Variables en Python__"
   ]
  },
  {
   "cell_type": "markdown",
   "metadata": {},
   "source": [
    "Una variable permite almacenar un valor al asignarlo a un nombre el cual puede ser utilizado para referirse al valor mas adelante en el programa.\n",
    "\n",
    "Las variables en Python se pueden crear asignando un valor a un nombre sin necesidad de declararlas antes. La asignacion se realiza mediante el signo _'='_."
   ]
  },
  {
   "cell_type": "code",
   "execution_count": null,
   "metadata": {},
   "outputs": [
    {
     "name": "stdout",
     "output_type": "stream",
     "text": [
      "123\n",
      "34.11\n",
      "Hola Mundo\n",
      "True\n"
     ]
    }
   ],
   "source": [
    "var1 = 123\n",
    "var2 = 34.11\n",
    "var3 = 'Hola Mundo'\n",
    "var4 = True"
   ]
  },
  {
   "cell_type": "markdown",
   "metadata": {},
   "source": [
    "Utiliza la funcion _print()_ para mostrar por pantalla el valor de la variable"
   ]
  },
  {
   "cell_type": "code",
   "execution_count": 12,
   "metadata": {},
   "outputs": [
    {
     "name": "stdout",
     "output_type": "stream",
     "text": [
      "123\n",
      "34.11\n",
      "Hola Mundo\n",
      "True\n"
     ]
    }
   ],
   "source": [
    "print(var1)\n",
    "print(var2)\n",
    "print(var3)\n",
    "print(var4)"
   ]
  },
  {
   "cell_type": "markdown",
   "metadata": {},
   "source": [
    "_Se declaran, luego se definen.._"
   ]
  },
  {
   "cell_type": "code",
   "execution_count": 4,
   "metadata": {},
   "outputs": [
    {
     "name": "stdout",
     "output_type": "stream",
     "text": [
      "Pedro Pedrito\n"
     ]
    }
   ],
   "source": [
    "# declarar   definir\n",
    "nombre = 'Pedro Pedrito'\n",
    "print(nombre)"
   ]
  },
  {
   "cell_type": "markdown",
   "metadata": {},
   "source": [
    "_Son modificables.._"
   ]
  },
  {
   "cell_type": "code",
   "execution_count": 5,
   "metadata": {},
   "outputs": [
    {
     "name": "stdout",
     "output_type": "stream",
     "text": [
      "Guillermo\n"
     ]
    }
   ],
   "source": [
    "nombre = 'Jose'\n",
    "nombre = 'Betania'\n",
    "nombre = 'Guillermo'\n",
    "print(nombre)"
   ]
  },
  {
   "cell_type": "markdown",
   "metadata": {},
   "source": [
    "_Son operables.._"
   ]
  },
  {
   "cell_type": "code",
   "execution_count": 6,
   "metadata": {},
   "outputs": [
    {
     "name": "stdout",
     "output_type": "stream",
     "text": [
      "15\n"
     ]
    }
   ],
   "source": [
    "num = 10\n",
    "num += 5\n",
    "print(num)"
   ]
  },
  {
   "cell_type": "markdown",
   "metadata": {},
   "source": [
    "_Se concatenan.._"
   ]
  },
  {
   "cell_type": "code",
   "execution_count": 7,
   "metadata": {},
   "outputs": [
    {
     "name": "stdout",
     "output_type": "stream",
     "text": [
      "Hola Miguel. Bienvenido!\n"
     ]
    }
   ],
   "source": [
    "nombre = 'Miguel'\n",
    "bienvenida = 'Hola '+ nombre + '. Bienvenido!'\n",
    "print(bienvenida)"
   ]
  },
  {
   "cell_type": "markdown",
   "metadata": {},
   "source": [
    "_Se pueden asignar multiples variables en la misma linea.._"
   ]
  },
  {
   "cell_type": "code",
   "execution_count": 13,
   "metadata": {},
   "outputs": [
    {
     "name": "stdout",
     "output_type": "stream",
     "text": [
      "2 4 6\n"
     ]
    }
   ],
   "source": [
    "x, y, z = 2, 4, 6\n",
    "print(x, y, z)"
   ]
  },
  {
   "cell_type": "markdown",
   "metadata": {},
   "source": [
    "### _Concatenacion f-string_"
   ]
  },
  {
   "cell_type": "markdown",
   "metadata": {},
   "source": [
    "Convierte cualquier dato a tipo texto "
   ]
  },
  {
   "cell_type": "code",
   "execution_count": 9,
   "metadata": {},
   "outputs": [
    {
     "name": "stdout",
     "output_type": "stream",
     "text": [
      "Hola Gaby. Bienvenida!\n"
     ]
    }
   ],
   "source": [
    "nombre = 'Gaby'\n",
    "bienvenida = f'Hola {nombre}. Bienvenida!'\n",
    "print(bienvenida)"
   ]
  },
  {
   "cell_type": "markdown",
   "metadata": {},
   "source": [
    "### _Borrar contenido de la variable_"
   ]
  },
  {
   "cell_type": "markdown",
   "metadata": {},
   "source": [
    "Se utiliza el comando _del_ y al hacerlo, la variable declarada queda sin valor arrojando un error."
   ]
  },
  {
   "cell_type": "code",
   "execution_count": 10,
   "metadata": {},
   "outputs": [
    {
     "ename": "NameError",
     "evalue": "name 'nombre' is not defined",
     "output_type": "error",
     "traceback": [
      "\u001b[0;31m---------------------------------------------------------------------------\u001b[0m",
      "\u001b[0;31mNameError\u001b[0m                                 Traceback (most recent call last)",
      "Input \u001b[0;32mIn [10]\u001b[0m, in \u001b[0;36m<cell line: 3>\u001b[0;34m()\u001b[0m\n\u001b[1;32m      1\u001b[0m nombre \u001b[38;5;241m=\u001b[39m \u001b[38;5;124m'\u001b[39m\u001b[38;5;124mJesus\u001b[39m\u001b[38;5;124m'\u001b[39m\n\u001b[1;32m      2\u001b[0m \u001b[38;5;28;01mdel\u001b[39;00m nombre\n\u001b[0;32m----> 3\u001b[0m \u001b[38;5;28mprint\u001b[39m(\u001b[43mnombre\u001b[49m)\n",
      "\u001b[0;31mNameError\u001b[0m: name 'nombre' is not defined"
     ]
    }
   ],
   "source": [
    "nombre = 'Jesus'\n",
    "del nombre\n",
    "print(nombre)"
   ]
  },
  {
   "cell_type": "markdown",
   "metadata": {},
   "source": [
    "### *Operador de pertenencia*"
   ]
  },
  {
   "cell_type": "markdown",
   "metadata": {},
   "source": [
    "Busca una variable dentro de otra y devuelve un booleano"
   ]
  },
  {
   "cell_type": "code",
   "execution_count": 11,
   "metadata": {},
   "outputs": [
    {
     "name": "stdout",
     "output_type": "stream",
     "text": [
      "Hola Gaby. Bienvenida!\n",
      "True\n",
      "True\n"
     ]
    }
   ],
   "source": [
    "nombre = 'Gaby'\n",
    "bienvenida = f'Hola {nombre}. Bienvenida!'\n",
    "print(bienvenida)\n",
    "\n",
    "# buscar secuencia 'ola' en la variable bienvenida\n",
    "print('ola' in bienvenida)\n",
    "\n",
    "# buscar Gaby en la variable 'bienvenida'\n",
    "print('Gaby' in bienvenida)"
   ]
  },
  {
   "cell_type": "markdown",
   "metadata": {},
   "source": [
    "### *Desempaquetado*"
   ]
  },
  {
   "cell_type": "markdown",
   "metadata": {},
   "source": [
    "Consiste en asignarle valores contenidos en un array a varias variables. Funciona solo cuando la cantidad de valores es igual a la cantidad de variables"
   ]
  },
  {
   "cell_type": "code",
   "execution_count": 14,
   "metadata": {},
   "outputs": [
    {
     "name": "stdout",
     "output_type": "stream",
     "text": [
      "cilantro\n",
      "cebolla\n"
     ]
    }
   ],
   "source": [
    "# declaramos un tipo de dato conocido como tupla\n",
    "datos = ('cilantro', 'cebolla')\n",
    "verdura_1, verdura_2 = datos\n",
    "print(verdura_1)\n",
    "print(verdura_2)"
   ]
  },
  {
   "cell_type": "code",
   "execution_count": null,
   "metadata": {},
   "outputs": [],
   "source": []
  },
  {
   "cell_type": "markdown",
   "metadata": {},
   "source": [
    "# __Nombres de Variables__"
   ]
  },
  {
   "cell_type": "markdown",
   "metadata": {},
   "source": [
    "Podemos asignar el nombre que queramos, respetando no usar las palabras reservadas de Python ni espacio, guiones o numeros al principio.\n",
    "\n",
    "Es importante tener en cuenta que las variables adoptan la naturaleza del tipo de datos que se almacena en ellas."
   ]
  },
  {
   "cell_type": "code",
   "execution_count": null,
   "metadata": {},
   "outputs": [],
   "source": [
    "# nombres de variables validos\n",
    "_variable = 'Variable válida'\n",
    "vari_able = 12\n",
    "variable20 = 20\n",
    "variable = True\n",
    "variaBLe = 54.1"
   ]
  },
  {
   "cell_type": "code",
   "execution_count": null,
   "metadata": {},
   "outputs": [
    {
     "ename": "SyntaxError",
     "evalue": "invalid syntax (2842578349.py, line 2)",
     "output_type": "error",
     "traceback": [
      "\u001b[0;36m  Input \u001b[0;32mIn [16]\u001b[0;36m\u001b[0m\n\u001b[0;31m    2variable = 'Variable no valida'\u001b[0m\n\u001b[0m     ^\u001b[0m\n\u001b[0;31mSyntaxError\u001b[0m\u001b[0;31m:\u001b[0m invalid syntax\n"
     ]
    }
   ],
   "source": [
    "# nombres de variables no validos\n",
    "2variable = 'Variable no valida'\n",
    "var-iable = 112\n",
    "var iable = False"
   ]
  },
  {
   "cell_type": "markdown",
   "metadata": {},
   "source": [
    "### _Palabras reservadas de Python_"
   ]
  },
  {
   "cell_type": "markdown",
   "metadata": {},
   "source": [
    "Son utilizadas por Python internamente, por lo que no podemos usarlas para nombrar variables o funciones. Conozcamos cuales son:"
   ]
  },
  {
   "cell_type": "code",
   "execution_count": 17,
   "metadata": {},
   "outputs": [
    {
     "name": "stdout",
     "output_type": "stream",
     "text": [
      "['False', 'None', 'True', '__peg_parser__', 'and', 'as', 'assert', 'async', 'await', 'break', 'class', 'continue', 'def', 'del', 'elif', 'else', 'except', 'finally', 'for', 'from', 'global', 'if', 'import', 'in', 'is', 'lambda', 'nonlocal', 'not', 'or', 'pass', 'raise', 'return', 'try', 'while', 'with', 'yield']\n"
     ]
    }
   ],
   "source": [
    "import keyword\n",
    "print(keyword.kwlist)"
   ]
  },
  {
   "cell_type": "markdown",
   "metadata": {},
   "source": [
    "### _Estilos de Variables_"
   ]
  },
  {
   "cell_type": "markdown",
   "metadata": {},
   "source": [
    "\n",
    "A la hora de definir el nombre de las variables existen diferentes estilos segun el PEP8 de Python <a href=\"https://www.python.org/dev/peps/pep-0008/#naming-conventions\" target=\"_blank\">Link</a>\n",
    "\n",
    "* $b$: una sola letra minuscula.\n",
    "\n",
    "* $B$: una sola letra mayuscula\n",
    "\n",
    "* $lowercase$: Todas minusculas.\n",
    "\n",
    "* $lower\\_case\\_with\\_underscores$: Todas minusculas separadas por piso. Conocida como snakecase.\n",
    "\n",
    "* $UPPERCASE$: Todas mayusculas.\n",
    "\n",
    "* $UPPER\\_CASE\\_WITH\\_UNDERSCORES$: Todas mayusculas separadas por piso.\n",
    "\n",
    "* $CapitalizedWords$: Tambien llamadas CapWords o CamelCase. Letra inicial de la palabra en mayuscula, las demas en minuscula.\n",
    "\n",
    "* $mixedCase$: Se diferencia de CamelCase en que la letra de la primera palabra es minuscula.\n",
    "\n",
    "* $Capitalized\\_Words\\_With\\_Underscores$: Estilo poco estetico.\n",
    "\n",
    "* Nota: Cuando utilice acronimos en CamelCase, escriba todas las letras del acronimo en mayuscula (HTTPServer).\n",
    "\n",
    "El estilo mas recomendado por los desarrolladores es _snakecase_ aunque no es una regla definitiva. Puedes usar el estilo de tu preferencia. En lo que sigue, veamos un ejemplo de cada estilo"
   ]
  },
  {
   "cell_type": "code",
   "execution_count": 18,
   "metadata": {},
   "outputs": [],
   "source": [
    "# lowercase\n",
    "variable = 'Hola mundo'\n",
    "# uppercase\n",
    "VARIABLE = 'Constante'\n",
    "# lowercase with underscores\n",
    "variable_minusculas_con_guion_bajo = 123\n",
    "# uppercase with underscores\n",
    "VARIABLES_MAYUSCULAS_CON_GUION_BAJO = 456\n",
    "# CamelCase\n",
    "VariableName = 'CapWords o CamelCase'\n",
    "# mixedCase\n",
    "nombreVariable = 'mixedCase style'"
   ]
  },
  {
   "cell_type": "markdown",
   "metadata": {},
   "source": [
    "# __Tipo de Dato de la Variable__"
   ]
  },
  {
   "cell_type": "markdown",
   "metadata": {},
   "source": [
    "Podemos conocer el tipo de dato de una variable con la función _type()_ de python"
   ]
  },
  {
   "cell_type": "code",
   "execution_count": 19,
   "metadata": {},
   "outputs": [
    {
     "data": {
      "text/plain": [
       "int"
      ]
     },
     "execution_count": 19,
     "metadata": {},
     "output_type": "execute_result"
    }
   ],
   "source": [
    "a = 123\n",
    "type(a)"
   ]
  },
  {
   "cell_type": "code",
   "execution_count": 20,
   "metadata": {},
   "outputs": [
    {
     "data": {
      "text/plain": [
       "str"
      ]
     },
     "execution_count": 20,
     "metadata": {},
     "output_type": "execute_result"
    }
   ],
   "source": [
    "b = 'Hola mundo!!!'\n",
    "type(b)"
   ]
  },
  {
   "cell_type": "code",
   "execution_count": 21,
   "metadata": {},
   "outputs": [
    {
     "data": {
      "text/plain": [
       "bool"
      ]
     },
     "execution_count": 21,
     "metadata": {},
     "output_type": "execute_result"
    }
   ],
   "source": [
    "c = False\n",
    "type(c)"
   ]
  },
  {
   "cell_type": "markdown",
   "metadata": {},
   "source": [
    "# __Alcance de las Variables__"
   ]
  },
  {
   "cell_type": "markdown",
   "metadata": {},
   "source": [
    "Cuando definimos una variable es importante conocer el alcance o scope que tiene, es decir, el uso de la variable en una o diferentes areas del codigo.\n",
    "\n",
    "Veamos el siguiente ejemplo: Al inicio la variable x se asigna con valor 10 y tiene un alcance global. Por otro lado, la variable x declarada con valor 5 dentro de la funcion tiene un alcance local. Esto significa que cuando hacemos _print(x)_ estamos accediendo a la variable global x y no a la x definida dentro de la funcion"
   ]
  },
  {
   "cell_type": "code",
   "execution_count": 22,
   "metadata": {},
   "outputs": [
    {
     "name": "stdout",
     "output_type": "stream",
     "text": [
      "10\n"
     ]
    }
   ],
   "source": [
    "x = 10\n",
    "\n",
    "def funcion():\n",
    "    x = 5\n",
    "\n",
    "print(x)"
   ]
  },
  {
   "cell_type": "markdown",
   "metadata": {},
   "source": [
    "Mas adelante, en un futuro notebooks vamos a profundizar mas sobre este tema!"
   ]
  }
 ],
 "metadata": {
  "kernelspec": {
   "display_name": "base",
   "language": "python",
   "name": "python3"
  },
  "language_info": {
   "codemirror_mode": {
    "name": "ipython",
    "version": 3
   },
   "file_extension": ".py",
   "mimetype": "text/x-python",
   "name": "python",
   "nbconvert_exporter": "python",
   "pygments_lexer": "ipython3",
   "version": "3.9.12"
  }
 },
 "nbformat": 4,
 "nbformat_minor": 2
}
