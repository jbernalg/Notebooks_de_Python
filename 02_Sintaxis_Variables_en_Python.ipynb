{
 "cells": [
  {
   "cell_type": "markdown",
   "metadata": {},
   "source": [
    "# __Sintaxis en Python__"
   ]
  },
  {
   "cell_type": "markdown",
   "metadata": {},
   "source": [
    "Hace referencia al conjunto de reglas que definen como se tiene que escribir el codigo en un lenguaje de programacion.\n",
    "\n",
    "La sintaxis es a la programacion lo que la gramatica es a los idiomas. Sin embargo, el uso de un lenguaje de programación va mucho más allá de la sintaxis.\n",
    "\n",
    "Python no soporta el uso de $ ni hace falta terminar las líneas con ; como en otros lenguajes, y tampoco hay que usar {} en estructuras de control como en el if.\n",
    "\n",
    "la sintaxis de Python es muy parecida al lenguaje natural o pseudocódigo, lo que hace que sea relativamente fácil de leer."
   ]
  },
  {
   "cell_type": "code",
   "execution_count": 1,
   "metadata": {},
   "outputs": [
    {
     "name": "stdout",
     "output_type": "stream",
     "text": [
      "El valor de (a+b)*c es 54\n"
     ]
    }
   ],
   "source": [
    "# definimos una variable x como una cadena\n",
    "x = 'El valor de (a+b)*c es'\n",
    "\n",
    "# realizamos multiples asignaciones\n",
    "a, b, c = 4, 2, 9\n",
    "\n",
    "# realizamos la operacion\n",
    "d = (a + b)*c\n",
    "\n",
    "# definimos una variable booleana\n",
    "imprimir = True\n",
    "\n",
    "# verificamos que la variable sea verdadera\n",
    "if imprimir:\n",
    "    print(x, d)"
   ]
  }
 ],
 "metadata": {
  "kernelspec": {
   "display_name": "base",
   "language": "python",
   "name": "python3"
  },
  "language_info": {
   "codemirror_mode": {
    "name": "ipython",
    "version": 3
   },
   "file_extension": ".py",
   "mimetype": "text/x-python",
   "name": "python",
   "nbconvert_exporter": "python",
   "pygments_lexer": "ipython3",
   "version": "3.9.12"
  }
 },
 "nbformat": 4,
 "nbformat_minor": 2
}
