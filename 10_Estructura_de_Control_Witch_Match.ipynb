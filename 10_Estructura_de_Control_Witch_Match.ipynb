{
 "cells": [
  {
   "cell_type": "markdown",
   "metadata": {},
   "source": [
    "# __Switch en Python__"
   ]
  },
  {
   "cell_type": "markdown",
   "metadata": {},
   "source": [
    "El switch es una herramienta que nos permite ejecutar diferentes secciones de codigo dependiendo de una condicion. Su funcionalidad es similar a usar varios _if_, pero Python no cuenta con esta herramienta. Sin embargo, hay formas de simular su comportamiento."
   ]
  },
  {
   "cell_type": "markdown",
   "metadata": {},
   "source": [
    "## Introduccion al Switch"
   ]
  },
  {
   "cell_type": "markdown",
   "metadata": {},
   "source": [
    "Sabemos que el uso del _if_ junto con _else_ y _elif_ permite ejecutar un codigo determinado dependiendo de una condicion."
   ]
  },
  {
   "cell_type": "code",
   "execution_count": 2,
   "metadata": {},
   "outputs": [
    {
     "name": "stdout",
     "output_type": "stream",
     "text": [
      "Se escribe c\n"
     ]
    }
   ],
   "source": [
    "# definimos una variable\n",
    "cond = 3\n",
    "\n",
    "# condicionales\n",
    "if cond == 1:\n",
    "    print('Se ecribe a')\n",
    "elif cond == 2:\n",
    "    print('Se escribe b')\n",
    "elif cond == 3:\n",
    "    print('Se escribe c')\n",
    "else:\n",
    "    print('Se escribe d')"
   ]
  },
  {
   "cell_type": "markdown",
   "metadata": {},
   "source": [
    "Este comportamiento podria facilmente obtenerse con un _Switch_, pero como ya sabemos esta estructura no existe en Python. Ademas, al analizar como funciona por debajo, hay cierta ventaja en cuanto al rendimiento al utilizar _Switch_ en vez de _if_. Todas las condiciones van siendo evaluadas hasta que se cumple y se sale. En el siguiente ejemplo tenemos 10 condiciones y queremos acceder a septima condicion."
   ]
  },
  {
   "cell_type": "markdown",
   "metadata": {},
   "source": [
    "cond = 7"
   ]
  }
 ],
 "metadata": {
  "kernelspec": {
   "display_name": "chat",
   "language": "python",
   "name": "python3"
  },
  "language_info": {
   "codemirror_mode": {
    "name": "ipython",
    "version": 3
   },
   "file_extension": ".py",
   "mimetype": "text/x-python",
   "name": "python",
   "nbconvert_exporter": "python",
   "pygments_lexer": "ipython3",
   "version": "3.10.6"
  }
 },
 "nbformat": 4,
 "nbformat_minor": 2
}
