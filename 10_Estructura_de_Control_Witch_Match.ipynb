{
 "cells": [
  {
   "cell_type": "markdown",
   "metadata": {},
   "source": [
    "# __Switch en Python__"
   ]
  },
  {
   "cell_type": "markdown",
   "metadata": {},
   "source": [
    "El switch es una herramienta que nos permite ejecutar diferentes secciones de codigo dependiendo de una condicion. Su funcionalidad es similar a usar varios _if_, pero Python no cuenta con esta herramienta. Sin embargo, hay formas de simular su comportamiento."
   ]
  },
  {
   "cell_type": "markdown",
   "metadata": {},
   "source": [
    "## Introduccion al Switch"
   ]
  },
  {
   "cell_type": "markdown",
   "metadata": {},
   "source": [
    "Sabemos que el uso del _if_ junto con _else_ y _elif_ permite ejecutar un codigo determinado dependiendo de una condicion."
   ]
  },
  {
   "cell_type": "code",
   "execution_count": 2,
   "metadata": {},
   "outputs": [
    {
     "name": "stdout",
     "output_type": "stream",
     "text": [
      "Se escribe c\n"
     ]
    }
   ],
   "source": [
    "# definimos una variable\n",
    "cond = 3\n",
    "\n",
    "# condicionales\n",
    "if cond == 1:\n",
    "    print('Se ecribe a')\n",
    "elif cond == 2:\n",
    "    print('Se escribe b')\n",
    "elif cond == 3:\n",
    "    print('Se escribe c')\n",
    "else:\n",
    "    print('Se escribe d')"
   ]
  },
  {
   "cell_type": "markdown",
   "metadata": {},
   "source": [
    "Este comportamiento podria facilmente obtenerse con un _Switch_, pero como ya sabemos esta estructura no existe en Python. Ademas, al analizar como funciona por debajo, hay cierta ventaja en cuanto al rendimiento al utilizar _Switch_ en vez de _if_. Todas las condiciones van siendo evaluadas hasta que se cumple y se sale. En el siguiente ejemplo tenemos 10 condiciones y queremos acceder a septima condicion."
   ]
  },
  {
   "cell_type": "code",
   "execution_count": 3,
   "metadata": {},
   "outputs": [
    {
     "name": "stdout",
     "output_type": "stream",
     "text": [
      "7\n"
     ]
    }
   ],
   "source": [
    "cond = 7\n",
    "\n",
    "if cond == 1:\n",
    "    print('1')\n",
    "elif cond == 2:\n",
    "    print('2')\n",
    "elif cond == 3:\n",
    "    print('3')\n",
    "elif cond == 4:\n",
    "    print('4')\n",
    "elif cond == 5:\n",
    "    print('5')\n",
    "elif cond == 6:\n",
    "    print('6')\n",
    "elif cond == 7:\n",
    "    print('7')\n",
    "elif cond == 8:\n",
    "    print('8')\n",
    "elif cond == 9:\n",
    "    print('9')\n",
    "elif cond == 10:\n",
    "    print('10')\n",
    "else:\n",
    "    print('x')"
   ]
  },
  {
   "cell_type": "markdown",
   "metadata": {},
   "source": [
    "El tiempo de ejecucion es distinto si la condicion es 1 o es 7. Si es 1 se evalua el primer _if_ y al cumplir la condicion, se ejecuta y sale. Si es 7, se evalua cada condicion hasta llegar a 7.\n",
    "\n",
    "Sin embargo, en _Switch_ todos los elementos tienen el mismo tiempo de acceso debido a que implementa lookup tables. Si se trabaja con un gran numero de condiciones, el uso del _switch_ sobre el _if_ podria notarse."
   ]
  },
  {
   "cell_type": "markdown",
   "metadata": {},
   "source": [
    "## Emulando Switch en Python"
   ]
  },
  {
   "cell_type": "markdown",
   "metadata": {},
   "source": [
    "Una forma de emular un _Switch_ en Python es haciendo uso de un diccionario."
   ]
  },
  {
   "cell_type": "code",
   "execution_count": 4,
   "metadata": {},
   "outputs": [],
   "source": [
    "# funcion con varias condiciones\n",
    "\n",
    "def opera(operador, a, b):\n",
    "    if operador == 'suma':\n",
    "        return a + b\n",
    "    elif operador == 'resta':\n",
    "        return a - b\n",
    "    elif operador == 'multiplica':\n",
    "        return a * b\n",
    "    elif operador == 'divide':\n",
    "        return a / b\n",
    "    else: \n",
    "        return None"
   ]
  },
  {
   "cell_type": "markdown",
   "metadata": {},
   "source": [
    "Vamos a convertir el codigo anterior en un diccionario que simule el _Switch_."
   ]
  },
  {
   "cell_type": "code",
   "execution_count": 5,
   "metadata": {},
   "outputs": [],
   "source": [
    "def opera2(operador, a, b):\n",
    "    return {\n",
    "        'suma': lambda: a + b,\n",
    "        'resta': lambda: a - b,\n",
    "        'multiplica': lambda: a * b,\n",
    "        'divide': lambda: a / b\n",
    "    }.get(operador, lambda:None)"
   ]
  },
  {
   "cell_type": "markdown",
   "metadata": {},
   "source": [
    "Probamos la funcion _opera_ que usa solo _if_."
   ]
  },
  {
   "cell_type": "code",
   "execution_count": 6,
   "metadata": {},
   "outputs": [
    {
     "data": {
      "text/plain": [
       "5"
      ]
     },
     "execution_count": 6,
     "metadata": {},
     "output_type": "execute_result"
    }
   ],
   "source": [
    "opera('resta', 9, 4)"
   ]
  },
  {
   "cell_type": "markdown",
   "metadata": {},
   "source": [
    "Vamos a probar la funcion _opera2_ recordando que debemos usar () para realizar la llamada a la funcion ya que lo que se devuelve es una funcion lambda."
   ]
  },
  {
   "cell_type": "code",
   "execution_count": 8,
   "metadata": {},
   "outputs": [
    {
     "data": {
      "text/plain": [
       "6"
      ]
     },
     "execution_count": 8,
     "metadata": {},
     "output_type": "execute_result"
    }
   ],
   "source": [
    "opera2('multiplica', 2, 3)()"
   ]
  }
 ],
 "metadata": {
  "kernelspec": {
   "display_name": "chat",
   "language": "python",
   "name": "python3"
  },
  "language_info": {
   "codemirror_mode": {
    "name": "ipython",
    "version": 3
   },
   "file_extension": ".py",
   "mimetype": "text/x-python",
   "name": "python",
   "nbconvert_exporter": "python",
   "pygments_lexer": "ipython3",
   "version": "3.10.6"
  }
 },
 "nbformat": 4,
 "nbformat_minor": 2
}
