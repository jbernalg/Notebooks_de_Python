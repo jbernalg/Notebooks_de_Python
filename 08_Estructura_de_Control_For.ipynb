{
 "cells": [
  {
   "cell_type": "markdown",
   "metadata": {
    "id": "Ln5wsID8qEbZ"
   },
   "source": [
    "# **El ciclo $for$ en Python**"
   ]
  },
  {
   "attachments": {
    "image.png": {
     "image/png": "[encoded data removed]"
    }
   },
   "cell_type": "markdown",
   "metadata": {},
   "source": [
    "El _for_ es un tipo de bucle donde el número de iteraciones está definido de antemano.  El ciclo _for_ debe contener un __iterable__ que define las veces que se ejecutará el código. Veamos la sintáxis del bucle _for_.\n",
    "\n",
    "![image.png](attachment:image.png)\n",
    "\n",
    "Vamos a comprender lo que es un iterable y un iterador.\n"
   ]
  },
  {
   "cell_type": "markdown",
   "metadata": {},
   "source": [
    "## 1. Iterables e iteradores"
   ]
  },
  {
   "cell_type": "markdown",
   "metadata": {},
   "source": [
    "Para entender cómo funcionan los bucles _for_ en Python, debemos entender los conceptos de iterables e iteradores."
   ]
  },
  {
   "cell_type": "markdown",
   "metadata": {},
   "source": [
    "#### _Iterables_"
   ]
  },
  {
   "cell_type": "markdown",
   "metadata": {},
   "source": [
    "Son aquellos objetos que como su nombre indica pueden ser iterados, lo que dicho de otra forma es, que puedan ser indexados. Podemos acceder a todos los elementos de una lista a través de los índices, por lo que sería un iterable.\n",
    "\n",
    "Algunos ejemplos de iterables son las listas, tuplas, cadenas o diccionarios."
   ]
  },
  {
   "cell_type": "markdown",
   "metadata": {},
   "source": [
    "#### _Cómo saber si un objeto de Python es un iterable?_"
   ]
  },
  {
   "cell_type": "markdown",
   "metadata": {},
   "source": [
    "Para ello, utilizamos la función _isinstance()_. Esta función recibe como parámetro el objeto y el tipo que se requiere verificar y devuelve _True_ si ambos tipos coinciden y _False_ de lo contrario."
   ]
  },
  {
   "cell_type": "code",
   "execution_count": 1,
   "metadata": {},
   "outputs": [
    {
     "name": "stdout",
     "output_type": "stream",
     "text": [
      "True\n",
      "True\n",
      "False\n"
     ]
    },
    {
     "name": "stderr",
     "output_type": "stream",
     "text": [
      "/tmp/ipykernel_608/2727737870.py:2: DeprecationWarning: Using or importing the ABCs from 'collections' instead of from 'collections.abc' is deprecated since Python 3.3, and in 3.10 it will stop working\n",
      "  from collections import Iterable\n"
     ]
    }
   ],
   "source": [
    "# importamos el objeto Iterable\n",
    "from collections import Iterable\n",
    "\n",
    "# definimos tres variables de distinto tipo\n",
    "lista = [1,2,3,4]\n",
    "cadena = 'Python'\n",
    "numero = 12\n",
    "\n",
    "# verificamos si las variables son iterables\n",
    "print(isinstance(lista, Iterable))\n",
    "print(isinstance(cadena, Iterable))\n",
    "print(isinstance(numero, Iterable))\n"
   ]
  },
  {
   "cell_type": "markdown",
   "metadata": {},
   "source": [
    "> Vemos que las listas y las cadena son iterables, pero número que es un entero no lo es.\n",
    "\n",
    "Veamos lo que ocurre si pasamos la variable _numero_ como iterador en un bucle _for_"
   ]
  },
  {
   "cell_type": "code",
   "execution_count": 2,
   "metadata": {},
   "outputs": [
    {
     "ename": "TypeError",
     "evalue": "'int' object is not iterable",
     "output_type": "error",
     "traceback": [
      "\u001b[0;31m---------------------------------------------------------------------------\u001b[0m",
      "\u001b[0;31mTypeError\u001b[0m                                 Traceback (most recent call last)",
      "Input \u001b[0;32mIn [2]\u001b[0m, in \u001b[0;36m<cell line: 3>\u001b[0;34m()\u001b[0m\n\u001b[1;32m      1\u001b[0m numero \u001b[38;5;241m=\u001b[39m \u001b[38;5;241m17\u001b[39m\n\u001b[0;32m----> 3\u001b[0m \u001b[38;5;28;01mfor\u001b[39;00m i \u001b[38;5;129;01min\u001b[39;00m numero:\n\u001b[1;32m      4\u001b[0m     \u001b[38;5;28mprint\u001b[39m(i)\n",
      "\u001b[0;31mTypeError\u001b[0m: 'int' object is not iterable"
     ]
    }
   ],
   "source": [
    "numero = 17\n",
    "\n",
    "for i in numero:\n",
    "    print(i)"
   ]
  },
  {
   "cell_type": "markdown",
   "metadata": {},
   "source": [
    "> Era de esperarse un error ya que _numero_ no es un iterable!"
   ]
  },
  {
   "cell_type": "markdown",
   "metadata": {},
   "source": [
    "#### _Iteradores_"
   ]
  },
  {
   "cell_type": "markdown",
   "metadata": {},
   "source": [
    "Son objetos que hacen referencia a un elemento, y que tienen el método _next_ que permite hacer referencia al siguiente. Para entender los iteradores es importante conocer la función _iter()_ en Python. Dicha función puede ser llamada sobre un objeto que sea iterable y nos devolverá un iterador."
   ]
  },
  {
   "cell_type": "code",
   "execution_count": 3,
   "metadata": {},
   "outputs": [
    {
     "name": "stdout",
     "output_type": "stream",
     "text": [
      "<list_iterator object at 0x7f37184b20d0>\n",
      "<class 'list_iterator'>\n"
     ]
    }
   ],
   "source": [
    "# definimos una lista\n",
    "lista = [3,1,7,2]\n",
    "\n",
    "# aplicamos iter() sobre la lista\n",
    "it = iter(lista)\n",
    "\n",
    "# imprimimos el resultado de iter()\n",
    "print(it)\n",
    "\n",
    "# imprimimos el tipo del resultado de iter()\n",
    "print(type(it))"
   ]
  },
  {
   "cell_type": "markdown",
   "metadata": {},
   "source": [
    "> Nos devuelve un iterador de la clase _list_iterador_\n",
    "\n",
    "Esta variable iteradora hace referencia a la lista original y nos permite acceder a sus elementos con la función _next()_. Cada vez que llamamos _next()_ sobre _it_ nos devuelve el siguiente elemento de la lista original. Para acceder al elemento 4, tenemos que llamar 4 veces a _next()_"
   ]
  },
  {
   "cell_type": "code",
   "execution_count": null,
   "metadata": {},
   "outputs": [
    {
     "name": "stdout",
     "output_type": "stream",
     "text": [
      "3\n",
      "1\n",
      "7\n"
     ]
    }
   ],
   "source": [
    "# definimos una lista\n",
    "lista = [3,1,7,2]\n",
    "\n",
    "# aplicamos iter() sobre la lista\n",
    "it = iter(lista)\n",
    "\n",
    "print(next(it))\n",
    "#     [3, 1, 7, 2]\n",
    "#      ^\n",
    "#      |\n",
    "#     it\n",
    "print(next(it))\n",
    "#     [3, 1, 7, 2]\n",
    "#         ^\n",
    "#         |\n",
    "#        it\n",
    "print(next(it))\n",
    "#     [3, 1, 7, 2]\n",
    "#            ^\n",
    "#            |\n",
    "#           it"
   ]
  },
  {
   "cell_type": "markdown",
   "metadata": {},
   "source": [
    "> Es importante notar que el iterador empieza apuntando fuera de la lista y no hace referencia al primer elemento hasta que no se llama a _next()_ por primera vez."
   ]
  },
  {
   "cell_type": "markdown",
   "metadata": {},
   "source": [
    "Dado que el iterador _it_ hace referencia a la lista, si llamamos más veces a _next()_ que la longitud de la lista, se nos devolverá un error _StopIteration_. No hay forma de volver al elemento anterior."
   ]
  },
  {
   "cell_type": "code",
   "execution_count": 6,
   "metadata": {},
   "outputs": [
    {
     "name": "stdout",
     "output_type": "stream",
     "text": [
      "5\n",
      "6\n"
     ]
    },
    {
     "ename": "StopIteration",
     "evalue": "",
     "output_type": "error",
     "traceback": [
      "\u001b[0;31m---------------------------------------------------------------------------\u001b[0m",
      "\u001b[0;31mStopIteration\u001b[0m                             Traceback (most recent call last)",
      "Input \u001b[0;32mIn [6]\u001b[0m, in \u001b[0;36m<cell line: 10>\u001b[0;34m()\u001b[0m\n\u001b[1;32m      8\u001b[0m \u001b[38;5;28mprint\u001b[39m(\u001b[38;5;28mnext\u001b[39m(it))\n\u001b[1;32m      9\u001b[0m \u001b[38;5;28mprint\u001b[39m(\u001b[38;5;28mnext\u001b[39m(it))\n\u001b[0;32m---> 10\u001b[0m \u001b[38;5;28mprint\u001b[39m(\u001b[38;5;28;43mnext\u001b[39;49m\u001b[43m(\u001b[49m\u001b[43mit\u001b[49m\u001b[43m)\u001b[49m)\n",
      "\u001b[0;31mStopIteration\u001b[0m: "
     ]
    }
   ],
   "source": [
    "# deinimos una lista\n",
    "lista = [5, 6]\n",
    "\n",
    "# definimos el iterador\n",
    "it = iter(lista)\n",
    "\n",
    "# mostramos elementos del iterador\n",
    "print(next(it))\n",
    "print(next(it))\n",
    "print(next(it))"
   ]
  },
  {
   "cell_type": "markdown",
   "metadata": {},
   "source": [
    "Es posible tener dierentes iteradores para la misma lista y serán totalmente independientes. Sólo dependerá de la lista pero no entre ellos."
   ]
  },
  {
   "cell_type": "code",
   "execution_count": 7,
   "metadata": {},
   "outputs": [
    {
     "name": "stdout",
     "output_type": "stream",
     "text": [
      "5\n",
      "6\n",
      "7\n",
      "5\n"
     ]
    }
   ],
   "source": [
    "# definimos una lista\n",
    "lista = [5, 6, 7]\n",
    "\n",
    "# deinimos dos iteradores de la misma lista\n",
    "it1 = iter(lista)\n",
    "it2 = iter(lista)\n",
    "\n",
    "# mostramos los elementos \n",
    "print(next(it1)) #5\n",
    "print(next(it1)) #6\n",
    "print(next(it1)) #7\n",
    "print(next(it2)) #5"
   ]
  },
  {
   "cell_type": "markdown",
   "metadata": {
    "id": "ZtpIVr8JaH05"
   },
   "source": [
    "## 2. Rango $range()$"
   ]
  },
  {
   "cell_type": "markdown",
   "metadata": {},
   "source": [
    "La función $range()$ genera una secuencia de números, iniciando en cero ($0$) (por defecto), con un incremento de uno en uno (por defecto) y parando un posición antes del número indicado entre los paréntesis.\n",
    "\n",
    "$$range(num)$$\n",
    "\n",
    "La estructura anterior, es el uso básico y por defecto de la función rango."
   ]
  },
  {
   "cell_type": "code",
   "execution_count": 1,
   "metadata": {
    "id": "_hB__ttQaH05"
   },
   "outputs": [
    {
     "data": {
      "text/plain": [
       "range(0, 10)"
      ]
     },
     "execution_count": 1,
     "metadata": {},
     "output_type": "execute_result"
    }
   ],
   "source": [
    "range(10)"
   ]
  },
  {
   "cell_type": "markdown",
   "metadata": {
    "id": "5HiUUfIYaH06"
   },
   "source": [
    "La estructura anterior genera un vector, pero para poder hacer visible su forma, se debe usar también la función lista $list()$ o tuplas $tuple()$, las cuales trataremos más adelante."
   ]
  },
  {
   "cell_type": "code",
   "execution_count": 2,
   "metadata": {
    "id": "ju0YPjwWaH07"
   },
   "outputs": [
    {
     "data": {
      "text/plain": [
       "[0, 1, 2, 3, 4, 5, 6, 7, 8, 9]"
      ]
     },
     "execution_count": 2,
     "metadata": {},
     "output_type": "execute_result"
    }
   ],
   "source": [
    "lista = list(range(10))\n",
    "lista"
   ]
  },
  {
   "cell_type": "markdown",
   "metadata": {
    "id": "D1uJCsz2aH07"
   },
   "source": [
    "La función $range()$ también puede usarse con dos argumentos. Entiendase como argumento, los elemntos que van dentro de los paréntesis. Esto generará un vector que empieza en el **primer argumento** (primer número dentro de los paréntesis) y termina en el **segundo argumento** (segundo número dentro de los paréntesis) **menos uno**.\n",
    "\n",
    "$$range(inicio , fin)$$\n",
    "\n"
   ]
  },
  {
   "cell_type": "code",
   "execution_count": 3,
   "metadata": {
    "id": "RV4K9EuhaH07"
   },
   "outputs": [
    {
     "data": {
      "text/plain": [
       "[0, 1, 2, 3, 4, 5, 6, 7, 8, 9]"
      ]
     },
     "execution_count": 3,
     "metadata": {},
     "output_type": "execute_result"
    }
   ],
   "source": [
    "list(range(0,10))"
   ]
  },
  {
   "cell_type": "code",
   "execution_count": 6,
   "metadata": {
    "id": "7W_qLCsFaH08"
   },
   "outputs": [
    {
     "data": {
      "text/plain": [
       "[11, 12, 13, 14, 15, 16, 17, 18, 19, 20, 21, 22, 23, 24, 25, 26, 27, 28]"
      ]
     },
     "execution_count": 6,
     "metadata": {},
     "output_type": "execute_result"
    }
   ],
   "source": [
    "list(range(11,29))"
   ]
  },
  {
   "cell_type": "markdown",
   "metadata": {},
   "source": [
    "Podemos acceder a un elemento de la lista anterior de la siguiente forma:"
   ]
  },
  {
   "cell_type": "code",
   "execution_count": 5,
   "metadata": {
    "id": "AMDc-4RQaH08"
   },
   "outputs": [
    {
     "data": {
      "text/plain": [
       "21"
      ]
     },
     "execution_count": 5,
     "metadata": {},
     "output_type": "execute_result"
    }
   ],
   "source": [
    "list(range(11,29))[10]"
   ]
  },
  {
   "cell_type": "markdown",
   "metadata": {
    "id": "oruhyg4zaH08"
   },
   "source": [
    "La función $range()$ también puede usarse con tres argumentos. Esto generará un vector que empieza en el **primer argumento**, termina en el **segundo argumento menos uno** y el tercer argumento indica el **paso del vector**.\n",
    "\n",
    "$$range(inicio , fin ,paso)$$"
   ]
  },
  {
   "cell_type": "code",
   "execution_count": 7,
   "metadata": {
    "id": "_KZRImZOaH09"
   },
   "outputs": [
    {
     "data": {
      "text/plain": [
       "[0, 3, 6, 9, 12, 15, 18, 21, 24, 27]"
      ]
     },
     "execution_count": 7,
     "metadata": {},
     "output_type": "execute_result"
    }
   ],
   "source": [
    "list(range(0,30,3))"
   ]
  },
  {
   "cell_type": "code",
   "execution_count": 8,
   "metadata": {
    "id": "bdr7YT5ZaH09"
   },
   "outputs": [
    {
     "name": "stdout",
     "output_type": "stream",
     "text": [
      "[2, 5, 8]\n"
     ]
    }
   ],
   "source": [
    "Vi = int(input('Inicio: '))\n",
    "Vf = int(input('Fin: '))\n",
    "p = int(input('Paso: '))\n",
    "print(list(range(Vi,Vf,p)))"
   ]
  },
  {
   "cell_type": "markdown",
   "metadata": {
    "id": "okjtZJVraH09"
   },
   "source": [
    "## 3. Ciclo $for$"
   ]
  },
  {
   "cell_type": "markdown",
   "metadata": {},
   "source": [
    "La instrucción <b><i>for</i></b> ejecuta una secuencia de instrucciones un número determinado de veces. (El usuario y/o el programador define cuántas veces se repite el proceso)."
   ]
  },
  {
   "cell_type": "markdown",
   "metadata": {
    "id": "yFld8bMGaH09"
   },
   "source": [
    "![for.png](data:image/png;base64,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)\n"
   ]
  },
  {
   "cell_type": "markdown",
   "metadata": {
    "id": "bJyKBKc4aH0-"
   },
   "source": [
    "\n",
    "La palabra reservada es <b><i>for</i></b>, seguido va la instrucción del iterable que recorrerá el ciclo y termina la línea  usando los dos puntos (<b><i>:</i></b>). Finalmente, como en el resto de las estructuras de control, para delimitar el código que está incluido en el ciclo se usa la <b><i>indentación</i></b>.\n",
    "\n"
   ]
  },
  {
   "cell_type": "markdown",
   "metadata": {
    "id": "2xnDu4gCaH0-"
   },
   "source": [
    "![for_text.png](data:image/png;base64,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)"
   ]
  },
  {
   "cell_type": "markdown",
   "metadata": {
    "id": "tW4D46kLaH0-"
   },
   "source": [
    "Las instrucciones indentadas en el ciclo <b><i>for</i></b> se van a repetir tantas veces como elementos haya en el elemento iterable."
   ]
  },
  {
   "cell_type": "code",
   "execution_count": 8,
   "metadata": {
    "id": "ghf3HG5TaH0-"
   },
   "outputs": [
    {
     "name": "stdout",
     "output_type": "stream",
     "text": [
      "Hello world !!!\n",
      "Hello world !!!\n",
      "Hello world !!!\n",
      "Hello world !!!\n",
      "Hello world !!!\n"
     ]
    }
   ],
   "source": [
    "for i in range(5): # [0, 1, 2, 3, 4]\n",
    "    print(\"Hello world !!!\")"
   ]
  },
  {
   "cell_type": "markdown",
   "metadata": {
    "id": "oJyinJ75aH0-"
   },
   "source": [
    "<b>Nota:</b> la variable en la estructura del ciclo <b><i>for</i></b> (en el caso anterior $i$) toma los valores del iterable. En el primer ciclo o iteración recibe el primer valor del rango, en el segundo ciclo vale el segundo valor del rango y así sucesivamente hasta recorrer todos los elementos del iterable."
   ]
  },
  {
   "cell_type": "code",
   "execution_count": 10,
   "metadata": {
    "id": "h0aAkg6HaH0-"
   },
   "outputs": [
    {
     "name": "stdout",
     "output_type": "stream",
     "text": [
      "Iteración #0 -> i*2 = 0\n",
      "Iteración #1 -> i*2 = 2\n",
      "Iteración #2 -> i*2 = 4\n",
      "Iteración #3 -> i*2 = 6\n",
      "Iteración #4 -> i*2 = 8\n"
     ]
    }
   ],
   "source": [
    "for i in range(5):  # [0, 1, 2, 3, 4]\n",
    "    print(\"Iteración #{0} -> i*2 = {1}\".format(i,i*2))"
   ]
  },
  {
   "cell_type": "code",
   "execution_count": null,
   "metadata": {
    "id": "tm-FxhAyaH0_"
   },
   "outputs": [
    {
     "name": "stdout",
     "output_type": "stream",
     "text": [
      "Iteración #0\n",
      "Iteración #1\n",
      "Iteración #2\n"
     ]
    }
   ],
   "source": [
    "n = int(input('Ingrese el número de iteraciones: '))\n",
    "for j in range(n): \n",
    "    print(\"Iteración #\" + str(j))"
   ]
  },
  {
   "cell_type": "code",
   "execution_count": 12,
   "metadata": {
    "id": "adMpE74laH0_"
   },
   "outputs": [
    {
     "name": "stdout",
     "output_type": "stream",
     "text": [
      "Iteración #0\n",
      "Iteración #1\n",
      "Iteración #2\n",
      "Iteración #3\n",
      "Iteración #4\n",
      "Iteración #5\n",
      "Iteración #6\n"
     ]
    }
   ],
   "source": [
    "for k in [0, 1, 2, 3, 4, 5, 6]:\n",
    "    print(\"Iteración #\" + str(k))"
   ]
  },
  {
   "cell_type": "code",
   "execution_count": 13,
   "metadata": {
    "id": "h9Kt3SmLaH0_"
   },
   "outputs": [
    {
     "name": "stdout",
     "output_type": "stream",
     "text": [
      "H\n",
      "o\n",
      "l\n",
      "a\n",
      " \n",
      "m\n",
      "u\n",
      "n\n",
      "d\n",
      "o\n",
      " \n",
      "!\n",
      "!\n",
      "!\n"
     ]
    }
   ],
   "source": [
    "for i in \"Hola mundo !!!\":\n",
    "    print(i)"
   ]
  },
  {
   "cell_type": "markdown",
   "metadata": {},
   "source": [
    "## 4. $Break$ y $Continue$"
   ]
  },
  {
   "cell_type": "markdown",
   "metadata": {
    "id": "f4XQnQLyaH0_"
   },
   "source": [
    "Son sentencias que se utilizan en los bucles para modiicar el flujo de ejecución. La semántica de estas instrucciones es la misma en las estructuras de control _for_ y _while_."
   ]
  },
  {
   "cell_type": "markdown",
   "metadata": {},
   "source": [
    "#### __Break__"
   ]
  },
  {
   "cell_type": "markdown",
   "metadata": {},
   "source": [
    "Esta sentencia, termina un bucle inmediatamente, sin importar si la condición del bucle se ha cumplido o no. Se usa principalmente para detener la iteración cuando se cumple una condición específica.\n",
    "\n",
    "En el siguiente ejemplo, vamos a buscar un número en una lista y detener el bucle."
   ]
  },
  {
   "cell_type": "code",
   "execution_count": 2,
   "metadata": {},
   "outputs": [
    {
     "name": "stdout",
     "output_type": "stream",
     "text": [
      "Numero par encontrado: 10\n",
      "fin del bucle\n"
     ]
    }
   ],
   "source": [
    "# lista de numeros\n",
    "numeros = [1,3,5,7,9,10,12]\n",
    "\n",
    "# buscamos el primer numero para y terminamos el bucle\n",
    "for num in numeros:\n",
    "    if num % 2 == 0:\n",
    "        print(f'Numero par encontrado: {num}')\n",
    "        # salimos del bucle en encontrar el primer par\n",
    "        break\n",
    "\n",
    "print('fin del bucle')"
   ]
  },
  {
   "cell_type": "code",
   "execution_count": 14,
   "metadata": {
    "id": "W5kAjbAKaH0_"
   },
   "outputs": [
    {
     "name": "stdout",
     "output_type": "stream",
     "text": [
      "Ciclo #1\n",
      "Ciclo #2\n",
      "Ciclo #4\n",
      "Ciclo #5\n",
      "Ciclo #7\n",
      "\n",
      "Fin del programa, j= 9 y k = 5\n"
     ]
    }
   ],
   "source": [
    "j = 0\n",
    "k = 0\n",
    "for i in range(10): # [0,1,2,3,4,5,6,7,8,9]\n",
    "    j += 1\n",
    "    if i % 3 == 0:\n",
    "        continue\n",
    "\n",
    "    if i >= 8:\n",
    "        break\n",
    "\n",
    "    print('Ciclo #{0}'.format(i))\n",
    "    k += 1\n",
    "print('\\nFin del programa, j= {0} y k = {1}'.format(j,k))"
   ]
  },
  {
   "cell_type": "markdown",
   "metadata": {},
   "source": [
    "#### __Continue__"
   ]
  },
  {
   "cell_type": "markdown",
   "metadata": {},
   "source": [
    "Salta la iteración actual del bucle y pasa a la siguiente sin ejecutar las instrucciones restantes en el bloque del bucle. Se usa para omitir ciertas condiciones o valores durante la ejecución de un bucle.\n",
    "\n",
    "En el siguiente ejemplo vamos a imprimir sólo números impares de una lista."
   ]
  },
  {
   "cell_type": "code",
   "execution_count": 3,
   "metadata": {
    "id": "0snKQf-IaH0_"
   },
   "outputs": [
    {
     "name": "stdout",
     "output_type": "stream",
     "text": [
      "Numero impar: 1\n",
      "Numero impar: 3\n",
      "Numero impar: 5\n",
      "Fin del bucle\n"
     ]
    }
   ],
   "source": [
    "# lista de numeros\n",
    "numeros = [1,2,3,4,5,6]\n",
    "\n",
    "# saltamos los numeros pares\n",
    "for num in numeros:\n",
    "    if num % 2 == 0:\n",
    "        continue\n",
    "    print(f'Numero impar: {num}')\n",
    "print('Fin del bucle')"
   ]
  },
  {
   "cell_type": "markdown",
   "metadata": {},
   "source": [
    "## 5. $for$ anidados"
   ]
  },
  {
   "cell_type": "markdown",
   "metadata": {},
   "source": [
    "Es posible anidar los _for_, es decir, meter uno dentro de otro. Puede ser muy util si queremos iterar algun objeto que en cada elemento, tiene a su vez otra clase iterable como una lista de listas que al final es una matriz."
   ]
  },
  {
   "cell_type": "code",
   "execution_count": 4,
   "metadata": {},
   "outputs": [],
   "source": [
    "# lista de listas\n",
    "matriz = [[32,11,4],\n",
    "          [2,56,71],\n",
    "          [65,7,12]]"
   ]
  },
  {
   "cell_type": "markdown",
   "metadata": {},
   "source": [
    "Si iteramos usando un sólo _for_, estamos accediendo a la segunda lista, pero no a los elementos individuales."
   ]
  },
  {
   "cell_type": "code",
   "execution_count": 5,
   "metadata": {},
   "outputs": [
    {
     "name": "stdout",
     "output_type": "stream",
     "text": [
      "[32, 11, 4]\n",
      "[2, 56, 71]\n",
      "[65, 7, 12]\n"
     ]
    }
   ],
   "source": [
    "for ele in matriz:\n",
    "    print(ele)"
   ]
  },
  {
   "cell_type": "markdown",
   "metadata": {},
   "source": [
    "Para acceder a cada elemento individual, anidamos dos _for_. Uno de ellos se encargará de iterar las columnas y el otro las filas."
   ]
  },
  {
   "cell_type": "code",
   "execution_count": 6,
   "metadata": {},
   "outputs": [
    {
     "name": "stdout",
     "output_type": "stream",
     "text": [
      "32\n",
      "11\n",
      "4\n",
      "2\n",
      "56\n",
      "71\n",
      "65\n",
      "7\n",
      "12\n"
     ]
    }
   ],
   "source": [
    "for i in matriz:\n",
    "    for j in i:\n",
    "        print(j)"
   ]
  },
  {
   "cell_type": "markdown",
   "metadata": {
    "id": "abpXfFpFaH1A"
   },
   "source": [
    "# Ejercicio con el ciclo $for$"
   ]
  },
  {
   "cell_type": "markdown",
   "metadata": {},
   "source": [
    "### Ejercicio 1\n",
    "\n",
    "Imprime las letras de una palabra de forma inversa. Palabra (python), inversa (nohtyp)"
   ]
  },
  {
   "cell_type": "code",
   "execution_count": 7,
   "metadata": {},
   "outputs": [
    {
     "name": "stdout",
     "output_type": "stream",
     "text": [
      "a\n",
      "l\n",
      "o\n",
      "h\n"
     ]
    }
   ],
   "source": [
    "# definimos la palabra\n",
    "text = 'hola'\n",
    "# iteramos con for\n",
    "for i in text[::-1]:\n",
    "    print(i)"
   ]
  },
  {
   "cell_type": "markdown",
   "metadata": {},
   "source": [
    "### Ejercicio 2\n",
    "Desarrollar un algoritmo en Python que calcule el promedio de las edades de sus empleados y adicional que cuente cuántas son mujeres, hombres u otros."
   ]
  },
  {
   "cell_type": "code",
   "execution_count": 15,
   "metadata": {
    "id": "_h2uRg29aH1A"
   },
   "outputs": [
    {
     "name": "stdout",
     "output_type": "stream",
     "text": [
      "Ingrese el numero de empleados: 3\n",
      "Ingrese la informacion del empleado 1\n",
      "Edad: 23\n",
      "Seleccione una de las opciones:\n",
      "    1. Mujer\n",
      "    2. Hombre\n",
      "    3. Otro\n",
      "    >2\n",
      "Ingrese la informacion del empleado 2\n",
      "Edad: 18\n",
      "Seleccione una de las opciones:\n",
      "    1. Mujer\n",
      "    2. Hombre\n",
      "    3. Otro\n",
      "    >1\n",
      "Ingrese la informacion del empleado 3\n",
      "Edad: 20\n",
      "Seleccione una de las opciones:\n",
      "    1. Mujer\n",
      "    2. Hombre\n",
      "    3. Otro\n",
      "    >3\n",
      "Promedio de edades:  20.333333333333332\n",
      "Cantidad Mujeres:  1\n",
      "Cantidad Hombres:  1\n",
      "Cantidad Otro:  1\n"
     ]
    }
   ],
   "source": [
    "n_empl = int(input('Ingrese el numero de empleados: '))\n",
    "\n",
    "# acumulador edades\n",
    "edades = 0\n",
    "# acumulador generos\n",
    "h = 0\n",
    "m = 0\n",
    "o = 0\n",
    "\n",
    "for i in range(1, n_empl+1):\n",
    "    print(f'Ingrese la informacion del empleado {i}')\n",
    "    edad = int(input('Edad: '))\n",
    "    edades = edades + edad\n",
    "    \n",
    "    genero = int(input('''Seleccione una de las opciones:\n",
    "    1. Mujer\n",
    "    2. Hombre\n",
    "    3. Otro\n",
    "    >'''))\n",
    "    \n",
    "    # conteo de genero\n",
    "    if genero == 1:\n",
    "        m = m + 1\n",
    "    elif genero == 2:\n",
    "        h = h + 1\n",
    "    elif genero == 3:\n",
    "        o = o + 1\n",
    "        \n",
    "# mostrar resultados\n",
    "print('Promedio de edades: ', edades/n_empl)\n",
    "print('Cantidad Mujeres: ', m)\n",
    "print('Cantidad Hombres: ', h)\n",
    "print('Cantidad Otro: ', o)\n",
    "        "
   ]
  },
  {
   "attachments": {
    "image.png": {
     "image/png": "[encoded data removed]"
    }
   },
   "cell_type": "markdown",
   "metadata": {},
   "source": [
    "### Ejercicio 3\n",
    "Escriba un programa en Python para imprimir el patrón alfabético \"A\".\n",
    "\n",
    "![image.png](attachment:image.png)"
   ]
  },
  {
   "cell_type": "code",
   "execution_count": 26,
   "metadata": {},
   "outputs": [
    {
     "name": "stdout",
     "output_type": "stream",
     "text": [
      "  ***  \n",
      " *   * \n",
      " *   * \n",
      " ***** \n",
      " *   * \n",
      " *   * \n",
      " *   * \n",
      "\n"
     ]
    }
   ],
   "source": [
    "result = ''\n",
    "\n",
    "# iteramos sobre las filas de 0 a 6\n",
    "for fila in range(0,7):\n",
    "\n",
    "    # iteramos sobre las columnas de 0 a 6\n",
    "    for columna in range(0,7):\n",
    "        \n",
    "        if ((columna == 1 or columna == 5) and fila != 0) or ((fila == 0 or fila == 3) and (columna > 1 and columna < 5)):\n",
    "            result = result + '*'\n",
    "        else:\n",
    "            result = result + ' '\n",
    "\n",
    "    result = result + '\\n'\n",
    "\n",
    "\n",
    "print(result)"
   ]
  },
  {
   "attachments": {
    "image.png": {
     "image/png": "[encoded data removed]"
    }
   },
   "cell_type": "markdown",
   "metadata": {},
   "source": [
    "### Ejercicio 4\n",
    "Escriba un programa en Python para imprimir el patrón alfabético \"D\".\n",
    "\n",
    "![image.png](attachment:image.png)"
   ]
  },
  {
   "cell_type": "code",
   "execution_count": 29,
   "metadata": {},
   "outputs": [
    {
     "name": "stdout",
     "output_type": "stream",
     "text": [
      " ****  \n",
      " *   * \n",
      " *   * \n",
      " *   * \n",
      " *   * \n",
      " *   * \n",
      " ****  \n",
      "\n"
     ]
    }
   ],
   "source": [
    "result = ''\n",
    "\n",
    "for fila in range(0, 7):\n",
    "\n",
    "    for columna in range(0, 7):\n",
    "\n",
    "        if (columna == 1 or (fila == 0 or fila == 6) and (columna > 1 and columna < 5)) or (columna == 5 and fila != 0 and fila != 6):\n",
    "            result = result + '*'\n",
    "        else:\n",
    "            result = result + ' '\n",
    "    result = result + '\\n'\n",
    "\n",
    "print(result)"
   ]
  },
  {
   "cell_type": "markdown",
   "metadata": {},
   "source": [
    "### Ejercicio 5\n",
    "Escriba un programa en Python para calcular la edad de un perro en años caninos.\n",
    "\n",
    "**Nota**: Durante los primeros dos años, un año canino equivale a 10,5 años humanos. Después de eso, cada año canino equivale a 4 años humanos."
   ]
  },
  {
   "cell_type": "code",
   "execution_count": 39,
   "metadata": {},
   "outputs": [
    {
     "name": "stdout",
     "output_type": "stream",
     "text": [
      "La edad del perro en años-perro es de 45.0 años!\n"
     ]
    }
   ],
   "source": [
    "age_human = int(input('Ingrese la edad del perro en años humanos: '))\n",
    "\n",
    "# contador de edad canina\n",
    "age_dog = 0\n",
    "\n",
    "# control de flujo\n",
    "if age_human > 0:\n",
    "    \n",
    "    # iteramos sobre cada age human\n",
    "    for age in range(1, age_human+1):\n",
    "\n",
    "        # control de flujo\n",
    "        if age < 3:\n",
    "            age_dog += 10.5\n",
    "        else:\n",
    "            age_dog += 4\n",
    "    print(f'La edad del perro en años-perro es de {age_dog} años!')\n",
    "else:\n",
    "    print('Ingrese una edad correcta!')"
   ]
  },
  {
   "cell_type": "markdown",
   "metadata": {},
   "source": [
    "### Ejercicio 6\n",
    "\n",
    "Escriba un programa en Python para crear la tabla de multiplicación (del 1 al 10) de un número."
   ]
  },
  {
   "cell_type": "code",
   "execution_count": 40,
   "metadata": {},
   "outputs": [
    {
     "name": "stdout",
     "output_type": "stream",
     "text": [
      "2 x 1 = 2\n",
      "2 x 2 = 4\n",
      "2 x 3 = 6\n",
      "2 x 4 = 8\n",
      "2 x 5 = 10\n",
      "2 x 6 = 12\n",
      "2 x 7 = 14\n",
      "2 x 8 = 16\n",
      "2 x 9 = 18\n",
      "2 x 10 = 20\n"
     ]
    }
   ],
   "source": [
    "num_Tabla = int(input('Ingrese un numero: '))\n",
    "\n",
    "# creamos la tabla mediante una iteracion\n",
    "for i in range(1, 11):\n",
    "    print(f'{num_Tabla} x {i} = {num_Tabla*i}')"
   ]
  },
  {
   "cell_type": "markdown",
   "metadata": {},
   "source": [
    "### Ejercicio 7\n",
    "\n",
    "Dado un número entero positivo, implementa el algoritmo de la secuencia de Collatz y muestra cuántos pasos se requieren para llegar a 1.\n",
    "\n",
    "**Nota**: La secuencia de Collatz es una secuencia de números enteros generada a partir de un número inicial positivo $n$ mediante el siguiente proceso iterativo:\n",
    "\n",
    "1. si $n$ es par se divide entre 2.\n",
    "2. si $n$ es impar se multiplica por 3 y se le suma 1."
   ]
  },
  {
   "cell_type": "code",
   "execution_count": 47,
   "metadata": {},
   "outputs": [
    {
     "name": "stdout",
     "output_type": "stream",
     "text": [
      "3, 10, 5, 16, 8, 4, 2, 1, \n",
      "Para llegar a 1 a partir del numero dado se requieren 8 pasos\n"
     ]
    }
   ],
   "source": [
    "# numero inicial\n",
    "num = int(input('Ingrese un numero entero positivo: '))\n",
    "\n",
    "result = 0\n",
    "contador = 0\n",
    "\n",
    "while result != 1:\n",
    "\n",
    "    # es par\n",
    "    if num%2 == 0:\n",
    "        result = num/2\n",
    "    else:\n",
    "        result = 3*num + 1\n",
    "\n",
    "    num = result\n",
    "    contador += 1\n",
    "\n",
    "    print(int(num), end=', ')\n",
    "\n",
    "print()\n",
    "print(f'Para llegar a 1 a partir del numero dado se requieren {contador} pasos')"
   ]
  },
  {
   "cell_type": "markdown",
   "metadata": {},
   "source": [
    "### Ejercicio 8\n",
    "Escribe un programa que calcule la suma de los primeros 100 números primos.\n"
   ]
  },
  {
   "cell_type": "code",
   "execution_count": 15,
   "metadata": {},
   "outputs": [
    {
     "name": "stdout",
     "output_type": "stream",
     "text": [
      "1060\n"
     ]
    }
   ],
   "source": [
    "# variable que almacena la suma\n",
    "suma = 0\n",
    "\n",
    "# iterar sobre cada numero del 2 al 100\n",
    "for i in range(2, 101):\n",
    "\n",
    "    # contador de divisores\n",
    "    count = 0\n",
    "\n",
    "    # iterar desde 1 hasta i\n",
    "    for j in range(1,i+1):\n",
    "        \n",
    "        # si division es entera, contar divisor\n",
    "        if i%j == 0:\n",
    "            count += 1\n",
    "\n",
    "    # si divisor es igual a 2, sumar i\n",
    "    if count < 3:\n",
    "        suma = suma + i\n",
    "\n",
    "# mostrar suma\n",
    "print(suma)       "
   ]
  },
  {
   "cell_type": "markdown",
   "metadata": {},
   "source": [
    "### Ejercicio 9\n",
    "\n",
    "Genera todos los números de Armstrong de tres cifras (también conocidos como números narcisistas). Un número de Armstrong es aquel que es igual a la suma de sus propios dígitos cada uno elevado a la potencia de la cantidad de dígitos"
   ]
  },
  {
   "cell_type": "code",
   "execution_count": 18,
   "metadata": {},
   "outputs": [
    {
     "name": "stdout",
     "output_type": "stream",
     "text": [
      "153\n",
      "370\n",
      "371\n",
      "407\n"
     ]
    }
   ],
   "source": [
    "\n",
    "# iterar sobre cada numero de 3 cifras\n",
    "for i in range(100, 1000):\n",
    "\n",
    "    # convertir a string\n",
    "    str_num = str(i)\n",
    "\n",
    "    #inicializamos sumador\n",
    "    suma = 0\n",
    "\n",
    "    # iteramos sobre cada digito\n",
    "    for digit in range(3):\n",
    "        # obtener digito\n",
    "        elem = int(str_num[digit])\n",
    "        # sumar el valor del digito elevado a la tercera\n",
    "        suma += elem**3\n",
    "\n",
    "    # si es un numero de Armstrong, mostrarlo!\n",
    "    if suma == i:\n",
    "        print(i)"
   ]
  },
  {
   "cell_type": "code",
   "execution_count": 17,
   "metadata": {},
   "outputs": [
    {
     "data": {
      "text/plain": [
       "'100'"
      ]
     },
     "execution_count": 17,
     "metadata": {},
     "output_type": "execute_result"
    }
   ],
   "source": [
    "str(100)"
   ]
  },
  {
   "cell_type": "markdown",
   "metadata": {},
   "source": [
    "### Ejercicio 10\n",
    "\n",
    "Dada una matriz ($nxn$), escribe un programa que determine si es un cuadrado mágico (es decir, si la suma de los números en cada fila, columna y diagonal es la misma)."
   ]
  },
  {
   "cell_type": "code",
   "execution_count": 20,
   "metadata": {},
   "outputs": [
    {
     "name": "stdout",
     "output_type": "stream",
     "text": [
      "Es una matriz magica!\n"
     ]
    }
   ],
   "source": [
    "matriz_cuadrada = [[2,7,6], [9,5,1], [4,3,8]]\n",
    "# size lista\n",
    "size_list = len(matriz_cuadrada)\n",
    "\n",
    "# suma del primer elemento de lista\n",
    "sum_referen = 0\n",
    "for i in matriz_cuadrada[0]:\n",
    "    sum_referen += i\n",
    "\n",
    "\n",
    "while True:\n",
    "\n",
    "    # filas\n",
    "    for i in range(size_list):\n",
    "        suma = 0\n",
    "        for j in range(size_list):\n",
    "            suma += matriz_cuadrada[i][j]\n",
    "        \n",
    "    if suma != sum_referen:\n",
    "        print('No es una matriz magica')\n",
    "        break\n",
    "    \n",
    "\n",
    "    # columnas\n",
    "    for i in range(size_list):\n",
    "        suma = 0\n",
    "        for j in range(size_list):\n",
    "            suma += matriz_cuadrada[j][i]\n",
    "\n",
    "    if suma != sum_referen:\n",
    "        print('No es una matriz magica')\n",
    "        break\n",
    "        \n",
    "    # diagonales\n",
    "    suma = 0\n",
    "    for i in range(size_list):\n",
    "        suma += matriz_cuadrada[i][i]\n",
    "    \n",
    "    if suma != sum_referen:\n",
    "        print('No es una matriz magica')\n",
    "        break\n",
    "\n",
    "    suma = 0\n",
    "    index = size_list\n",
    "    for i in range(size_list):\n",
    "        index -= 1\n",
    "        suma += matriz_cuadrada[i][index]\n",
    "    \n",
    "    if suma != sum_referen:\n",
    "        print('No es una matriz magica')\n",
    "        break\n",
    "\n",
    "    print('Es una matriz magica!')\n",
    "    break\n",
    "\n"
   ]
  }
 ],
 "metadata": {
  "colab": {
   "provenance": []
  },
  "kernelspec": {
   "display_name": "base",
   "language": "python",
   "name": "python3"
  },
  "language_info": {
   "codemirror_mode": {
    "name": "ipython",
    "version": 3
   },
   "file_extension": ".py",
   "mimetype": "text/x-python",
   "name": "python",
   "nbconvert_exporter": "python",
   "pygments_lexer": "ipython3",
   "version": "3.9.12"
  }
 },
 "nbformat": 4,
 "nbformat_minor": 1
}
