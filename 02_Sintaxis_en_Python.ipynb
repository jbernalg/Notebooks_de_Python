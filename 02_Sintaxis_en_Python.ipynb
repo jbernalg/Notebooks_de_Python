{
 "cells": [
  {
   "cell_type": "markdown",
   "metadata": {},
   "source": [
    "# __Sintaxis en Python__"
   ]
  },
  {
   "cell_type": "markdown",
   "metadata": {},
   "source": [
    "Hace referencia al conjunto de reglas que definen cómo se tiene que escribir el código en un lenguaje de programación.\n",
    "\n",
    "La sintaxis es a la programación lo que la gramática es a los idiomas. Sin embargo, el uso de un lenguaje de programación va mucho más allá de la sintaxis.\n",
    "\n",
    "Python no soporta el uso de _$_ ni hace falta terminar las líneas con _;_ como en otros lenguajes, y tampoco hay que usar _{}_ en estructuras de control como en el if.\n",
    "\n",
    "la sintaxis de Python es muy parecida al lenguaje natural o pseudocódigo, lo que hace que sea relativamente fácil de leer."
   ]
  },
  {
   "cell_type": "code",
   "execution_count": 1,
   "metadata": {},
   "outputs": [
    {
     "name": "stdout",
     "output_type": "stream",
     "text": [
      "El valor de (a+b)*c es 54\n"
     ]
    }
   ],
   "source": [
    "# definimos una variable x como una cadena\n",
    "x = 'El valor de (a+b)*c es'\n",
    "\n",
    "# realizamos multiples asignaciones\n",
    "a, b, c = 4, 2, 9\n",
    "\n",
    "# realizamos la operacion\n",
    "d = (a + b)*c\n",
    "\n",
    "# definimos una variable booleana\n",
    "imprimir = True\n",
    "\n",
    "# verificamos que la variable sea verdadera\n",
    "if imprimir:\n",
    "    print(x, d)"
   ]
  },
  {
   "cell_type": "markdown",
   "metadata": {},
   "source": [
    "### Comentarios"
   ]
  },
  {
   "cell_type": "markdown",
   "metadata": {},
   "source": [
    "Son bloques de texto usados para comentar código. Ofrecen información relevante acerca del código que está escrito por lo que para Python no existen.\n",
    "\n",
    "Se inician con _#_ y todo lo que vaya después en la misma línea será considerado un comentario."
   ]
  },
  {
   "cell_type": "code",
   "execution_count": 1,
   "metadata": {},
   "outputs": [],
   "source": [
    "# Esto es un comentario"
   ]
  },
  {
   "cell_type": "markdown",
   "metadata": {},
   "source": [
    "Para comentar varias líneas de código, hacemos uso de triples comillas bien sea simples _'''_ o dobles _\"\"\"_. Se usan para abrir el bloque del comentario y para cerrarlo."
   ]
  },
  {
   "cell_type": "code",
   "execution_count": 3,
   "metadata": {},
   "outputs": [
    {
     "data": {
      "text/plain": [
       "'\\nComentario\\nde varias lineas\\nde codigo\\n'"
      ]
     },
     "execution_count": 3,
     "metadata": {},
     "output_type": "execute_result"
    }
   ],
   "source": [
    "'''\n",
    "Comentario\n",
    "de varias lineas\n",
    "de codigo\n",
    "'''"
   ]
  },
  {
   "cell_type": "markdown",
   "metadata": {},
   "source": [
    "### Indentación y bloques de código"
   ]
  },
  {
   "cell_type": "markdown",
   "metadata": {},
   "source": [
    "En Python los bloques de código se representan con indentación que por regla general son de 4 espacios o de un tabulador."
   ]
  },
  {
   "cell_type": "code",
   "execution_count": 4,
   "metadata": {},
   "outputs": [
    {
     "name": "stdout",
     "output_type": "stream",
     "text": [
      "Hola\n"
     ]
    }
   ],
   "source": [
    "if True:\n",
    "    print('Hola')"
   ]
  },
  {
   "cell_type": "markdown",
   "metadata": {},
   "source": [
    "Si omitimos los 4 espacios en _print('Hola')_ arroja un error ya que el _if_ no contiene ningún bloque de código y no es aceptable en Python."
   ]
  },
  {
   "cell_type": "code",
   "execution_count": 5,
   "metadata": {},
   "outputs": [
    {
     "ename": "IndentationError",
     "evalue": "expected an indented block (1040565098.py, line 2)",
     "output_type": "error",
     "traceback": [
      "\u001b[0;36m  Input \u001b[0;32mIn [5]\u001b[0;36m\u001b[0m\n\u001b[0;31m    print('Hola')\u001b[0m\n\u001b[0m    ^\u001b[0m\n\u001b[0;31mIndentationError\u001b[0m\u001b[0;31m:\u001b[0m expected an indented block\n"
     ]
    }
   ],
   "source": [
    "if True:\n",
    "print('Hola')"
   ]
  },
  {
   "cell_type": "markdown",
   "metadata": {},
   "source": [
    "En Python no es necesario utilizar _;_ para terminar cada línea de código como ocurre en otros lenguajes, basta con un salto de línea."
   ]
  },
  {
   "cell_type": "code",
   "execution_count": 6,
   "metadata": {},
   "outputs": [],
   "source": [
    "word = 'Bienvenido'\n",
    "num = 23"
   ]
  },
  {
   "cell_type": "markdown",
   "metadata": {},
   "source": [
    "Pero se puede usar _;_ para tener dos sentencias en la misma línea."
   ]
  },
  {
   "cell_type": "code",
   "execution_count": 7,
   "metadata": {},
   "outputs": [],
   "source": [
    "word = 'Bienvenido'; num = 23"
   ]
  },
  {
   "cell_type": "markdown",
   "metadata": {},
   "source": [
    "### Múltiples líneas"
   ]
  },
  {
   "cell_type": "markdown",
   "metadata": {},
   "source": [
    "Hay situaciones en las que queremos tener una sola instrucción en varias líneas de código debido a que es muy larga. Podemos hacer uso de \\ para romper el código en varias líneas haciendo que sea mucho más legible.  "
   ]
  },
  {
   "cell_type": "code",
   "execution_count": 1,
   "metadata": {},
   "outputs": [
    {
     "data": {
      "text/plain": [
       "37"
      ]
     },
     "execution_count": 1,
     "metadata": {},
     "output_type": "execute_result"
    }
   ],
   "source": [
    "sum = 2 + 4 + 11 + 2 + 5 +\\\n",
    "      8 + 3 + 2\n",
    "\n",
    "sum"
   ]
  },
  {
   "cell_type": "markdown",
   "metadata": {},
   "source": [
    "Si estamos dentro de un bloque rodeado por paréntesis _()_, basta con saltar a la siguiente línea."
   ]
  },
  {
   "cell_type": "code",
   "execution_count": 2,
   "metadata": {},
   "outputs": [
    {
     "data": {
      "text/plain": [
       "63"
      ]
     },
     "execution_count": 2,
     "metadata": {},
     "output_type": "execute_result"
    }
   ],
   "source": [
    "sum = (3 + 2 + 6 + 12 +\n",
    "       24 + 9 + 7)\n",
    "\n",
    "sum"
   ]
  },
  {
   "cell_type": "markdown",
   "metadata": {},
   "source": [
    "Tambien se puede hacer lo mismo para llamadas a funciones."
   ]
  },
  {
   "cell_type": "code",
   "execution_count": 3,
   "metadata": {},
   "outputs": [
    {
     "data": {
      "text/plain": [
       "28"
      ]
     },
     "execution_count": 3,
     "metadata": {},
     "output_type": "execute_result"
    }
   ],
   "source": [
    "def suma(a, b, c):\n",
    "    return a+b+c\n",
    "\n",
    "result = suma(12,\n",
    "              14,\n",
    "              2)\n",
    "\n",
    "result"
   ]
  },
  {
   "cell_type": "markdown",
   "metadata": {},
   "source": [
    "### Uso de paréntesis"
   ]
  },
  {
   "cell_type": "markdown",
   "metadata": {},
   "source": [
    "Python maneja los operadores aritméticos más comunes. Por tanto, podemos realizar cualquier operación y sus posibles combinaciones en una misma línea."
   ]
  },
  {
   "cell_type": "code",
   "execution_count": null,
   "metadata": {},
   "outputs": [
    {
     "data": {
      "text/plain": [
       "-1017"
      ]
     },
     "execution_count": 4,
     "metadata": {},
     "output_type": "execute_result"
    }
   ],
   "source": [
    "# ** es el operador exponente\n",
    "x = 2\n",
    "y = 3*x-2**10-2+3\n",
    "\n",
    "y"
   ]
  },
  {
   "cell_type": "markdown",
   "metadata": {},
   "source": [
    "El código anterior cambia de resultado al usar paréntesis ya que éste da prioridad a unas operaciones sobre otras."
   ]
  },
  {
   "cell_type": "code",
   "execution_count": 6,
   "metadata": {},
   "outputs": [
    {
     "data": {
      "text/plain": [
       "65539"
      ]
     },
     "execution_count": 6,
     "metadata": {},
     "output_type": "execute_result"
    }
   ],
   "source": [
    "x = 2\n",
    "y = (3*x-2)**(10-2)+3\n",
    "\n",
    "y"
   ]
  }
 ],
 "metadata": {
  "kernelspec": {
   "display_name": "base",
   "language": "python",
   "name": "python3"
  },
  "language_info": {
   "codemirror_mode": {
    "name": "ipython",
    "version": 3
   },
   "file_extension": ".py",
   "mimetype": "text/x-python",
   "name": "python",
   "nbconvert_exporter": "python",
   "pygments_lexer": "ipython3",
   "version": "3.9.12"
  }
 },
 "nbformat": 4,
 "nbformat_minor": 2
}
