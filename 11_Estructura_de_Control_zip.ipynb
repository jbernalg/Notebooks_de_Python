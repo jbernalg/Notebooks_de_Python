{
 "cells": [
  {
   "cell_type": "markdown",
   "metadata": {},
   "source": [
    "# __ZIP en Python__"
   ]
  },
  {
   "cell_type": "markdown",
   "metadata": {},
   "source": [
    "La funcion _zip()_ viene incluida en Python por defecto en el _namespace_ lo que implica que puede usarse sin tener que importarse.\n",
    "\n",
    "Al pasar dos listas a _zip_ como entrada, el resultado será una tupla donde cada elemento tendrá todos y cada uno de los elementos i-ésimos de las pasadas como entrada.\n",
    "\n",
    "Veamos un ejemplo, tenemos dos listas y se la pasamos a la funcion _zip_"
   ]
  },
  {
   "cell_type": "code",
   "execution_count": 2,
   "metadata": {},
   "outputs": [
    {
     "name": "stdout",
     "output_type": "stream",
     "text": [
      "[(1, 'uno'), (2, 'dos')]\n"
     ]
    }
   ],
   "source": [
    "a = [1,2]\n",
    "b = ['uno', 'dos']\n",
    "c = zip(a, b)\n",
    "\n",
    "print(list(c))"
   ]
  },
  {
   "cell_type": "markdown",
   "metadata": {},
   "source": [
    "Esta funcion es realmente util combinada con un _for_ para iterar dos listas en paralelo"
   ]
  },
  {
   "cell_type": "code",
   "execution_count": 3,
   "metadata": {},
   "outputs": [
    {
     "name": "stdout",
     "output_type": "stream",
     "text": [
      "Numero 1  Nombre uno\n",
      "Numero 2  Nombre dos\n"
     ]
    }
   ],
   "source": [
    "a = [1, 2]\n",
    "b = ['uno', 'dos']\n",
    "c = zip(a, b)\n",
    "\n",
    "for numero, texto in zip(a, b):\n",
    "    print('Numero', numero, ' Nombre', texto)"
   ]
  },
  {
   "cell_type": "markdown",
   "metadata": {},
   "source": [
    "## _zip()_ con _n_ argumentos"
   ]
  },
  {
   "cell_type": "markdown",
   "metadata": {},
   "source": [
    "Dado que _zip_ esta definido como _zip(*iterables)_, es posible pasar un numero arbitrario de iterables como entrada.\n",
    "\n",
    "Veamos un ejemplo con varias listas que tienen la misma longitud."
   ]
  },
  {
   "cell_type": "code",
   "execution_count": 5,
   "metadata": {},
   "outputs": [
    {
     "name": "stdout",
     "output_type": "stream",
     "text": [
      "1 uno one un\n",
      "2 dos two deux\n"
     ]
    }
   ],
   "source": [
    "numeros = [1,2]\n",
    "espanol = ['uno', 'dos']\n",
    "ingles = ['one', 'two']\n",
    "frances = ['un', 'deux']\n",
    "\n",
    "c = zip(numeros, espanol, ingles, frances)\n",
    "\n",
    "for n, e, i, f in zip(numeros, espanol, ingles, frances):\n",
    "    print(n,e,i,f)"
   ]
  },
  {
   "cell_type": "markdown",
   "metadata": {},
   "source": [
    "## _zip()_ con diferentes longitudes"
   ]
  },
  {
   "cell_type": "markdown",
   "metadata": {},
   "source": [
    "Tambien podemos utilizar _zip_ usando iterables de diferentes longitudes. Lo que ocurre es que el iterador para cuando la lista mas pequeña se acaba."
   ]
  },
  {
   "cell_type": "code",
   "execution_count": 6,
   "metadata": {},
   "outputs": [
    {
     "name": "stdout",
     "output_type": "stream",
     "text": [
      "3 tres\n",
      "1 uno\n"
     ]
    }
   ],
   "source": [
    "numeros = [3,1,6,9,2]\n",
    "espanol = ['tres', 'uno']\n",
    "\n",
    "for n,e in zip(numeros, espanol):\n",
    "    print(n, e)"
   ]
  },
  {
   "cell_type": "markdown",
   "metadata": {},
   "source": [
    "## _zip()_ con un argumento"
   ]
  },
  {
   "cell_type": "markdown",
   "metadata": {},
   "source": [
    "Dado que _zip_ esta definido para un numero arbitrario de parametros de entrada, es posible usar un unico valor. El resultado son tuplas de un elemento."
   ]
  },
  {
   "cell_type": "code",
   "execution_count": 8,
   "metadata": {},
   "outputs": [
    {
     "name": "stdout",
     "output_type": "stream",
     "text": [
      "[(1,), (2,), (3,), (4,), (5,), (6,)]\n"
     ]
    }
   ],
   "source": [
    "numeros = [1,2,3,4,5,6]\n",
    "c = zip(numeros)\n",
    "print(list(c))"
   ]
  },
  {
   "cell_type": "markdown",
   "metadata": {},
   "source": [
    "## _zip()_ con diccionarios"
   ]
  },
  {
   "cell_type": "markdown",
   "metadata": {},
   "source": [
    "Como _zip_ esta definida para cualquier clase de iterable, tambien podemos usar los diccionarios"
   ]
  },
  {
   "cell_type": "code",
   "execution_count": 9,
   "metadata": {},
   "outputs": [
    {
     "name": "stdout",
     "output_type": "stream",
     "text": [
      "1 1\n",
      "2 2\n",
      "3 3\n"
     ]
    }
   ],
   "source": [
    "espanol = {\n",
    "    '1':'uno',\n",
    "    '2':'dos',\n",
    "    '3':'tres'\n",
    "    }\n",
    "\n",
    "ingles = {\n",
    "    '1':'one',\n",
    "    '2':'two',\n",
    "    '3':'three'\n",
    "}\n",
    "\n",
    "for a,b in zip(espanol, ingles):\n",
    "    print(a,b)"
   ]
  },
  {
   "cell_type": "markdown",
   "metadata": {},
   "source": [
    "El resultado muestra las llaves de cada diccionario. Sin embargo, si hacemos uso de la funcion _items_, podemos acceder al _key_ y _value_ de cada elemento."
   ]
  },
  {
   "cell_type": "code",
   "execution_count": 10,
   "metadata": {},
   "outputs": [
    {
     "name": "stdout",
     "output_type": "stream",
     "text": [
      "1 uno one\n",
      "2 dos two\n",
      "3 tres three\n"
     ]
    }
   ],
   "source": [
    "espanol = {\n",
    "    '1':'uno',\n",
    "    '2':'dos',\n",
    "    '3':'tres'\n",
    "    }\n",
    "\n",
    "ingles = {\n",
    "    '1':'one',\n",
    "    '2':'two',\n",
    "    '3':'three'\n",
    "}\n",
    "\n",
    "for (k1, v1), (k2, v2) in zip(espanol.items(), ingles.items()):\n",
    "    print(k1, v1, v2)"
   ]
  },
  {
   "cell_type": "markdown",
   "metadata": {},
   "source": [
    "## Deshacer _zip()_"
   ]
  },
  {
   "cell_type": "markdown",
   "metadata": {},
   "source": [
    "Es posible deshace el zip en una sola linea de codigo, es decir, una vez usado el zip para obtener _c_, es posible obtener _a_ y _b_ a partir de _c_."
   ]
  },
  {
   "cell_type": "code",
   "execution_count": 13,
   "metadata": {},
   "outputs": [
    {
     "name": "stdout",
     "output_type": "stream",
     "text": [
      "[(1, 'uno'), (2, 'dos'), (3, 'tres')]\n"
     ]
    }
   ],
   "source": [
    "a = [1,2,3]\n",
    "b = ['uno', 'dos', 'tres']\n",
    "c = zip(a,b)\n",
    "lista_c = list(c)    \n",
    "print(lista_c)"
   ]
  },
  {
   "cell_type": "code",
   "execution_count": 14,
   "metadata": {},
   "outputs": [
    {
     "name": "stdout",
     "output_type": "stream",
     "text": [
      "(1, 2, 3)\n",
      "('uno', 'dos', 'tres')\n"
     ]
    }
   ],
   "source": [
    "# deshacer zip para obtener a y b\n",
    "a, b = zip(*lista_c)\n",
    "print(a)\n",
    "print(b)"
   ]
  },
  {
   "cell_type": "markdown",
   "metadata": {},
   "source": [
    "# __Enumerate en Python__"
   ]
  },
  {
   "cell_type": "markdown",
   "metadata": {},
   "source": [
    "El uso de _for_ nos permite iterar colecciones, recorriendo todos los elementos de la misma."
   ]
  },
  {
   "cell_type": "code",
   "execution_count": 15,
   "metadata": {},
   "outputs": [
    {
     "name": "stdout",
     "output_type": "stream",
     "text": [
      "a\n",
      "b\n",
      "c\n"
     ]
    }
   ],
   "source": [
    "lista = ['a', 'b', 'c']\n",
    "for l in lista:\n",
    "    print(l)"
   ]
  },
  {
   "cell_type": "markdown",
   "metadata": {},
   "source": [
    "Sin embargo, existen situaciones en las que no solo queremos acceder al elemento i-esimo de la coleccion, sino que ademas queremos el indice."
   ]
  },
  {
   "cell_type": "code",
   "execution_count": 16,
   "metadata": {},
   "outputs": [
    {
     "name": "stdout",
     "output_type": "stream",
     "text": [
      "0 a\n",
      "1 b\n",
      "2 c\n"
     ]
    }
   ],
   "source": [
    "lista = ['a', 'b', 'c']\n",
    "indice = 0\n",
    "\n",
    "for l in lista:\n",
    "    print(indice, l)\n",
    "    indice += 1"
   ]
  },
  {
   "cell_type": "markdown",
   "metadata": {},
   "source": [
    "Aunque es una forma valida, existe otra mucho mas elegante y simple y es a traves de la funcion _enumerate_. Su uso permite ahorrar alguna que otra linea de codigo, obteniendo un resultado mucho mas limpio y claro "
   ]
  },
  {
   "cell_type": "code",
   "execution_count": 17,
   "metadata": {},
   "outputs": [
    {
     "name": "stdout",
     "output_type": "stream",
     "text": [
      "0 a\n",
      "1 b\n",
      "2 c\n"
     ]
    }
   ],
   "source": [
    "lista = ['a', 'b', 'c']\n",
    "\n",
    "for indice, l in enumerate(lista):\n",
    "    print(indice, l)"
   ]
  },
  {
   "cell_type": "markdown",
   "metadata": {},
   "source": [
    "## _Enumerate_ en listas"
   ]
  },
  {
   "cell_type": "markdown",
   "metadata": {},
   "source": [
    "Podemos convertir el tipo _enumerate_ en una lita de tuplas, donde cada una contiene un elemento de la coleccion inicial y el indice asociado."
   ]
  },
  {
   "cell_type": "code",
   "execution_count": 18,
   "metadata": {},
   "outputs": [
    {
     "name": "stdout",
     "output_type": "stream",
     "text": [
      "[(0, 'a'), (1, 'b'), (2, 'c')]\n"
     ]
    }
   ],
   "source": [
    "lista = ['a', 'b', 'c']\n",
    "\n",
    "indiceElemento = list(enumerate(lista))\n",
    "print(indiceElemento)"
   ]
  },
  {
   "cell_type": "markdown",
   "metadata": {},
   "source": [
    "# __Ejercicio Practicos__"
   ]
  },
  {
   "cell_type": "markdown",
   "metadata": {},
   "source": [
    "### Ejercicio 1:\n",
    "Escribe un programa que tome dos listas de números y cree una nueva lista que contenga la suma de los elementos correspondientes de las dos listas usando zip."
   ]
  },
  {
   "cell_type": "code",
   "execution_count": 2,
   "metadata": {},
   "outputs": [
    {
     "name": "stdout",
     "output_type": "stream",
     "text": [
      "Lista con la suma de elementos:  [5, 9, 13, 17]\n"
     ]
    }
   ],
   "source": [
    "# definir listas\n",
    "lista1 = [3,5,7,9]\n",
    "lista2 = [2,4,6,8]\n",
    "\n",
    "# definimos la lista que contendra la suma de elementos\n",
    "sumaListas = []\n",
    "\n",
    "# usamos zip para recorrer ambas listas\n",
    "for num1, num2 in zip(lista1, lista2):\n",
    "    sumaListas.append(num1 + num2)\n",
    "\n",
    "# mostrar resultado\n",
    "print('Lista con la suma de elementos: ',sumaListas)"
   ]
  },
  {
   "cell_type": "markdown",
   "metadata": {},
   "source": [
    "### Ejercicio 2\n",
    "Dadas dos listas, una con claves y otra con valores, crea un diccionario combinando ambas listas utilizando zip."
   ]
  },
  {
   "cell_type": "code",
   "execution_count": 3,
   "metadata": {},
   "outputs": [
    {
     "name": "stdout",
     "output_type": "stream",
     "text": [
      "{'naranja': 'mango', 'morado': 'uva', 'rojo': 'manzana'}\n"
     ]
    }
   ],
   "source": [
    "# definimos dos listas\n",
    "values = ['mango', 'uva', 'manzana']\n",
    "keys = ['naranja', 'morado', 'rojo']\n",
    "\n",
    "# crear diccionario con zip\n",
    "diccionario = dict(zip(keys, values))\n",
    "\n",
    "# mostrar resultados\n",
    "print(diccionario)"
   ]
  }
 ],
 "metadata": {
  "kernelspec": {
   "display_name": "chat",
   "language": "python",
   "name": "python3"
  },
  "language_info": {
   "codemirror_mode": {
    "name": "ipython",
    "version": 3
   },
   "file_extension": ".py",
   "mimetype": "text/x-python",
   "name": "python",
   "nbconvert_exporter": "python",
   "pygments_lexer": "ipython3",
   "version": "3.10.6"
  }
 },
 "nbformat": 4,
 "nbformat_minor": 2
}
