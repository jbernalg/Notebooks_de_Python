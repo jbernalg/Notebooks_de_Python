{
 "cells": [
  {
   "cell_type": "markdown",
   "metadata": {},
   "source": [
    "# __ZIP en Python__"
   ]
  },
  {
   "cell_type": "markdown",
   "metadata": {},
   "source": [
    "La funcion _zip()_ viene incluida en Python por defecto en el _namespace_ lo que implica que puede usarse sin tener que importarse.\n",
    "\n",
    "Al pasar dos listas a _zip_ como entrada, el resultado será una tupla donde cada elemento tendrá todos y cada uno de los elementos i-ésimos de las pasadas como entrada.\n",
    "\n",
    "Veamos un ejemplo, tenemos dos listas y se la pasamos a la funcion _zip_"
   ]
  },
  {
   "cell_type": "code",
   "execution_count": 2,
   "metadata": {},
   "outputs": [
    {
     "name": "stdout",
     "output_type": "stream",
     "text": [
      "[(1, 'uno'), (2, 'dos')]\n"
     ]
    }
   ],
   "source": [
    "a = [1,2]\n",
    "b = ['uno', 'dos']\n",
    "c = zip(a, b)\n",
    "\n",
    "print(list(c))"
   ]
  },
  {
   "cell_type": "markdown",
   "metadata": {},
   "source": [
    "Esta funcion es realmente util combinada con un _for_ para iterar dos listas en paralelo"
   ]
  },
  {
   "cell_type": "code",
   "execution_count": 3,
   "metadata": {},
   "outputs": [
    {
     "name": "stdout",
     "output_type": "stream",
     "text": [
      "Numero 1  Nombre uno\n",
      "Numero 2  Nombre dos\n"
     ]
    }
   ],
   "source": [
    "a = [1, 2]\n",
    "b = ['uno', 'dos']\n",
    "c = zip(a, b)\n",
    "\n",
    "for numero, texto in zip(a, b):\n",
    "    print('Numero', numero, ' Nombre', texto)"
   ]
  },
  {
   "cell_type": "markdown",
   "metadata": {},
   "source": [
    "## _zip()_ con _n_ argumentos"
   ]
  },
  {
   "cell_type": "markdown",
   "metadata": {},
   "source": [
    "Dado que _zip_ esta definido como _zip(*iterables)_, es posible pasar un numero arbitrario de iterables como entrada.\n",
    "\n",
    "Veamos un ejemplo con varias listas que tienen la misma longitud."
   ]
  },
  {
   "cell_type": "code",
   "execution_count": 5,
   "metadata": {},
   "outputs": [
    {
     "name": "stdout",
     "output_type": "stream",
     "text": [
      "1 uno one un\n",
      "2 dos two deux\n"
     ]
    }
   ],
   "source": [
    "numeros = [1,2]\n",
    "espanol = ['uno', 'dos']\n",
    "ingles = ['one', 'two']\n",
    "frances = ['un', 'deux']\n",
    "\n",
    "c = zip(numeros, espanol, ingles, frances)\n",
    "\n",
    "for n, e, i, f in zip(numeros, espanol, ingles, frances):\n",
    "    print(n,e,i,f)"
   ]
  }
 ],
 "metadata": {
  "kernelspec": {
   "display_name": "chat",
   "language": "python",
   "name": "python3"
  },
  "language_info": {
   "codemirror_mode": {
    "name": "ipython",
    "version": 3
   },
   "file_extension": ".py",
   "mimetype": "text/x-python",
   "name": "python",
   "nbconvert_exporter": "python",
   "pygments_lexer": "ipython3",
   "version": "3.10.6"
  }
 },
 "nbformat": 4,
 "nbformat_minor": 2
}
