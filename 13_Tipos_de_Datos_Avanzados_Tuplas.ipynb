{
 "cells": [
  {
   "cell_type": "markdown",
   "metadata": {
    "id": "_EMI0gYJa9qs"
   },
   "source": [
    "# **Tipo de dato avanzado : Tuplas**"
   ]
  },
  {
   "cell_type": "markdown",
   "metadata": {
    "id": "-a1EEFcya9qs"
   },
   "source": [
    "<span style=\"background:#BEBEBE\" > <b> La tupla </b> </span> es otro tipo de arreglo de Python. Se maneja como una lista más cerrada porque no puede cambiar elementos individuales, en otras palabras, es <b>inmutable</b>.\n",
    "\n",
    "Se crea usando los paréntesis ($(\\ )$) y cada objeto separado por comas ($,$) o simplemente los objetos separados por comas.\n"
   ]
  },
  {
   "cell_type": "markdown",
   "metadata": {
    "id": "gKo13cPHa9qt"
   },
   "source": [
    "![tupla_pos2.png](data:image/png;base64,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)"
   ]
  },
  {
   "cell_type": "markdown",
   "metadata": {},
   "source": [
    "## Declaración de Tuplas"
   ]
  },
  {
   "cell_type": "markdown",
   "metadata": {},
   "source": [
    "Se usan paréntesis y dentro de estos, debe haber al menos un dato con una coma seguida de éste."
   ]
  },
  {
   "cell_type": "code",
   "execution_count": 2,
   "metadata": {},
   "outputs": [
    {
     "name": "stdout",
     "output_type": "stream",
     "text": [
      "('Python', 'Inteligencia Artificial', True, 9, 8, 7)\n",
      "<class 'tuple'>\n"
     ]
    }
   ],
   "source": [
    "tupla1 = ('Python', 'Inteligencia Artificial', True, 9, 8, 7)\n",
    "print(tupla1)\n",
    "print(type(tupla1))"
   ]
  },
  {
   "cell_type": "markdown",
   "metadata": {},
   "source": [
    "En caso de no agregar la coma,, Python interpreta la variable como el dato guardado y no como una tupla."
   ]
  },
  {
   "cell_type": "code",
   "execution_count": 3,
   "metadata": {},
   "outputs": [
    {
     "name": "stdout",
     "output_type": "stream",
     "text": [
      "22\n",
      "<class 'int'>\n"
     ]
    }
   ],
   "source": [
    "tupla2 = (22)\n",
    "print(tupla2)\n",
    "print(type(tupla2))"
   ]
  },
  {
   "cell_type": "markdown",
   "metadata": {},
   "source": [
    "Otra forma de crear tuplas es sin los paréntesis, utilizando comas para separar los elementos."
   ]
  },
  {
   "cell_type": "code",
   "execution_count": 4,
   "metadata": {
    "id": "LHSTmmDoa9qt"
   },
   "outputs": [
    {
     "name": "stdout",
     "output_type": "stream",
     "text": [
      "(1, 2, 3, 4, 5)\n",
      "<class 'tuple'>\n"
     ]
    }
   ],
   "source": [
    "tupla3 = 1, 2, 3, 4, 5\n",
    "print(tupla3)\n",
    "print(type(tupla3))"
   ]
  },
  {
   "cell_type": "markdown",
   "metadata": {},
   "source": [
    "## Tipos de datos que soportan las Tuplas"
   ]
  },
  {
   "cell_type": "markdown",
   "metadata": {},
   "source": [
    "Las tuplas pueden guardar más de un tipo de dato así como aceptar datos duplicados. "
   ]
  },
  {
   "cell_type": "code",
   "execution_count": 5,
   "metadata": {},
   "outputs": [
    {
     "name": "stdout",
     "output_type": "stream",
     "text": [
      "('dos', 23.3, True)\n"
     ]
    }
   ],
   "source": [
    "# tupla con diferentes tipos de datos\n",
    "tupla1 = ('dos', 23.3, True)\n",
    "print(tupla1)"
   ]
  },
  {
   "cell_type": "code",
   "execution_count": 7,
   "metadata": {},
   "outputs": [
    {
     "name": "stdout",
     "output_type": "stream",
     "text": [
      "<class 'str'>\n",
      "<class 'float'>\n",
      "<class 'bool'>\n"
     ]
    }
   ],
   "source": [
    "# tipo de datos de cada elemento de la tupla\n",
    "print(type(tupla1[0]))\n",
    "print(type(tupla1[1]))\n",
    "print(type(tupla1[2]))"
   ]
  },
  {
   "cell_type": "markdown",
   "metadata": {},
   "source": [
    "## Acceso a los elementos"
   ]
  },
  {
   "cell_type": "markdown",
   "metadata": {},
   "source": [
    "Se maneja de forma similar a las listas. Una vez declarada la variable, se puede acceder mediante un índice entre corchetes. El primer elemento siempre tiene índice 0."
   ]
  },
  {
   "cell_type": "code",
   "execution_count": 9,
   "metadata": {},
   "outputs": [
    {
     "name": "stdout",
     "output_type": "stream",
     "text": [
      "Primer elemento de la tupla: uno\n",
      "Segundo elemento de la tupla: 2\n",
      "Tercer elemento de la tupla: True\n"
     ]
    }
   ],
   "source": [
    "tupla1 = ('uno', 2, True)\n",
    "print(f'Primer elemento de la tupla: {tupla1[0]}')\n",
    "print(f'Segundo elemento de la tupla: {tupla1[1]}')\n",
    "print(f'Tercer elemento de la tupla: {tupla1[2]}')"
   ]
  },
  {
   "cell_type": "markdown",
   "metadata": {},
   "source": [
    "#### __Acceso mediante índices negativos__"
   ]
  },
  {
   "cell_type": "markdown",
   "metadata": {},
   "source": [
    "Podemos hacer uso de índices negativos comenzando desde el -1. Tales valores cuentan de forma inversa los elementos de la tupla, siendo -1 el último valor de esta y -2 el penúltimo y así sucesivamente."
   ]
  },
  {
   "cell_type": "code",
   "execution_count": 10,
   "metadata": {},
   "outputs": [
    {
     "name": "stdout",
     "output_type": "stream",
     "text": [
      "Primer elemento de la tupla: True\n",
      "Segundo elemento de la tupla: 2.3\n",
      "Tercer elemento de la tupla: hola\n"
     ]
    }
   ],
   "source": [
    "tupla1 = (True, 2.3, 'hola')\n",
    "print(f'Primer elemento de la tupla: {tupla1[-3]}')\n",
    "print(f'Segundo elemento de la tupla: {tupla1[-2]}')\n",
    "print(f'Tercer elemento de la tupla: {tupla1[-1]}')"
   ]
  },
  {
   "cell_type": "markdown",
   "metadata": {},
   "source": [
    "#### __Rangos o intervalos__"
   ]
  },
  {
   "cell_type": "markdown",
   "metadata": {},
   "source": [
    "Podemos obtener intervalos de las tuplas. Al definirlo, se retorna un nuevo objeto de la clase tupla con los elementos hallados entre los índices asignados. Para los intervalos, el límite inferior es inclusivo y el superior exclusivo.\n"
   ]
  },
  {
   "cell_type": "code",
   "execution_count": 11,
   "metadata": {},
   "outputs": [],
   "source": [
    "tupla1 = 'a', 'b', 'c', 'd', 'e'"
   ]
  },
  {
   "cell_type": "markdown",
   "metadata": {},
   "source": [
    " **Si no se especifica alguno de los índices** se tomara desde el primer elemento para el caso del inferior, o hasta el ultimo elemento en caso de omitirse el superior. También podemos definir rangos con índices negativos."
   ]
  },
  {
   "cell_type": "markdown",
   "metadata": {},
   "source": [
    "Rango sin límite inferior"
   ]
  },
  {
   "cell_type": "code",
   "execution_count": 13,
   "metadata": {},
   "outputs": [
    {
     "name": "stdout",
     "output_type": "stream",
     "text": [
      "('a', 'b')\n"
     ]
    }
   ],
   "source": [
    "print(tupla1[:2])"
   ]
  },
  {
   "cell_type": "markdown",
   "metadata": {},
   "source": [
    "Rango sin límite superior"
   ]
  },
  {
   "cell_type": "code",
   "execution_count": 14,
   "metadata": {},
   "outputs": [
    {
     "name": "stdout",
     "output_type": "stream",
     "text": [
      "('b', 'c', 'd', 'e')\n"
     ]
    }
   ],
   "source": [
    "print(tupla1[1:])"
   ]
  },
  {
   "cell_type": "markdown",
   "metadata": {},
   "source": [
    "Rango con indices negativos"
   ]
  },
  {
   "cell_type": "code",
   "execution_count": 15,
   "metadata": {},
   "outputs": [
    {
     "name": "stdout",
     "output_type": "stream",
     "text": [
      "('d',)\n"
     ]
    }
   ],
   "source": [
    "print(tupla1[-2:-1])"
   ]
  },
  {
   "cell_type": "markdown",
   "metadata": {
    "id": "zFWEpWl-a9qw"
   },
   "source": [
    "## Inmutabilidad de las tuplas"
   ]
  },
  {
   "cell_type": "markdown",
   "metadata": {},
   "source": [
    "Tenemos la siguiente tupla"
   ]
  },
  {
   "cell_type": "code",
   "execution_count": 16,
   "metadata": {},
   "outputs": [],
   "source": [
    "tupla1 = ('hola', 'Adios', 2.3)"
   ]
  },
  {
   "cell_type": "markdown",
   "metadata": {},
   "source": [
    "Intentemos cambiar el elemento 3 de la tupla por un string"
   ]
  },
  {
   "cell_type": "code",
   "execution_count": 17,
   "metadata": {
    "id": "7eQOW2uNa9qw"
   },
   "outputs": [
    {
     "ename": "TypeError",
     "evalue": "'tuple' object does not support item assignment",
     "output_type": "error",
     "traceback": [
      "\u001b[0;31m---------------------------------------------------------------------------\u001b[0m",
      "\u001b[0;31mTypeError\u001b[0m                                 Traceback (most recent call last)",
      "Input \u001b[0;32mIn [17]\u001b[0m, in \u001b[0;36m<cell line: 1>\u001b[0;34m()\u001b[0m\n\u001b[0;32m----> 1\u001b[0m tupla1[\u001b[38;5;241m2\u001b[39m] \u001b[38;5;241m=\u001b[39m \u001b[38;5;124m\"\u001b[39m\u001b[38;5;124mBienvenido\u001b[39m\u001b[38;5;124m\"\u001b[39m\n",
      "\u001b[0;31mTypeError\u001b[0m: 'tuple' object does not support item assignment"
     ]
    }
   ],
   "source": [
    "tupla1[2] = \"Bienvenido\""
   ]
  },
  {
   "cell_type": "markdown",
   "metadata": {},
   "source": [
    "El error se produce debido a que las tuplas son inmutables, es decir, una vez definida no puedes modificar sus elementos."
   ]
  },
  {
   "cell_type": "markdown",
   "metadata": {
    "id": "eg7eK1Rea9qw"
   },
   "source": [
    "## Tuplas Anidadas"
   ]
  },
  {
   "cell_type": "markdown",
   "metadata": {},
   "source": [
    "Podemos anidar tuplas como si fueran elementos separados por coma."
   ]
  },
  {
   "cell_type": "code",
   "execution_count": 18,
   "metadata": {},
   "outputs": [
    {
     "name": "stdout",
     "output_type": "stream",
     "text": [
      "(1, 2, 3, 4, 5)\n",
      "('Python', 'Inteligencia Artificial', True, 9, 8, 7)\n"
     ]
    }
   ],
   "source": [
    "tupla1 = (1,2,3,4,5)\n",
    "tupla2 = ('Python', 'Inteligencia Artificial', True, 9, 8, 7)\n",
    "print(tupla1)\n",
    "print(tupla2)"
   ]
  },
  {
   "cell_type": "code",
   "execution_count": 19,
   "metadata": {
    "id": "QdSsrmaLa9qx"
   },
   "outputs": [
    {
     "name": "stdout",
     "output_type": "stream",
     "text": [
      "((1, 2, 3, 4, 5), ('Python', 'Inteligencia Artificial', True, 9, 8, 7))\n"
     ]
    }
   ],
   "source": [
    "tupla3 = tupla1,tupla2\n",
    "print(tupla3)"
   ]
  },
  {
   "cell_type": "code",
   "execution_count": 20,
   "metadata": {
    "id": "eYcL_xZma9qx"
   },
   "outputs": [
    {
     "name": "stdout",
     "output_type": "stream",
     "text": [
      "8\n"
     ]
    }
   ],
   "source": [
    "# obtener elemento de valor 8 del elemento 2 de la tupla 3\n",
    "print(tupla3[1][4])"
   ]
  },
  {
   "cell_type": "markdown",
   "metadata": {},
   "source": [
    "## Operaciones con Tuplas"
   ]
  },
  {
   "cell_type": "markdown",
   "metadata": {},
   "source": [
    "La primera forma con la cual se puede modificar una tupla es por medio de dos operadores"
   ]
  },
  {
   "cell_type": "markdown",
   "metadata": {},
   "source": [
    "__Operador Adición__"
   ]
  },
  {
   "cell_type": "code",
   "execution_count": 22,
   "metadata": {},
   "outputs": [
    {
     "name": "stdout",
     "output_type": "stream",
     "text": [
      "('a', 'b', 'c', 1, 2, 3)\n"
     ]
    }
   ],
   "source": [
    "tupla1 = ('a','b','c')\n",
    "tupla2 = (1,2,3)\n",
    "tupla3 = tupla1 + tupla2\n",
    "print(tupla3)"
   ]
  },
  {
   "cell_type": "markdown",
   "metadata": {},
   "source": [
    "__Operador multiplicación__\n",
    "\n",
    "La multiplicación no es aritmética! No cambiará el valor del contenido, hará copias del mismo."
   ]
  },
  {
   "cell_type": "code",
   "execution_count": 23,
   "metadata": {},
   "outputs": [
    {
     "name": "stdout",
     "output_type": "stream",
     "text": [
      "('a', 'b', 'c', 'a', 'b', 'c', 'a', 'b', 'c')\n"
     ]
    }
   ],
   "source": [
    "tupla4 = tupla1*3\n",
    "print(tupla4) "
   ]
  },
  {
   "cell_type": "markdown",
   "metadata": {},
   "source": [
    "## Adicionar un elemento"
   ]
  },
  {
   "cell_type": "markdown",
   "metadata": {},
   "source": [
    "Podemos agregar un elemento a una tupla usando la concantenación."
   ]
  },
  {
   "cell_type": "code",
   "execution_count": 26,
   "metadata": {},
   "outputs": [
    {
     "name": "stdout",
     "output_type": "stream",
     "text": [
      "(1, 2, 3, 4)\n"
     ]
    }
   ],
   "source": [
    "# definimos una tupla\n",
    "tupla1 = (1,2,3)\n",
    "\n",
    "# crear un elemento tipo tupla\n",
    "ele = 4,\n",
    "\n",
    "# agregar elemento a la tupla\n",
    "tupla1 += ele\n",
    "\n",
    "# mostrar tupla\n",
    "print(tupla1)"
   ]
  },
  {
   "cell_type": "markdown",
   "metadata": {},
   "source": [
    "## Búsqueda de un elemento en una Tupla"
   ]
  },
  {
   "cell_type": "markdown",
   "metadata": {},
   "source": [
    "Para determinar si un elemento existe dentro de una tupla utilizamos el operador _in_"
   ]
  },
  {
   "cell_type": "code",
   "execution_count": 1,
   "metadata": {},
   "outputs": [
    {
     "name": "stdout",
     "output_type": "stream",
     "text": [
      "(3, 'hola', True, 1)\n"
     ]
    }
   ],
   "source": [
    "tupla1 = 3, 'hola', True, 1\n",
    "print(tupla1)"
   ]
  },
  {
   "cell_type": "markdown",
   "metadata": {},
   "source": [
    "Verifiquemos que la tupla contenga el elemento True"
   ]
  },
  {
   "cell_type": "code",
   "execution_count": 2,
   "metadata": {},
   "outputs": [
    {
     "name": "stdout",
     "output_type": "stream",
     "text": [
      "True\n"
     ]
    }
   ],
   "source": [
    "print(True in tupla1)"
   ]
  },
  {
   "cell_type": "markdown",
   "metadata": {},
   "source": [
    "## Remover/Actualizar un elemento"
   ]
  },
  {
   "cell_type": "markdown",
   "metadata": {},
   "source": [
    "No hay forma directa de remover o reemplazar un elemento de una tupla. No obstante podemos hacer esto transformando la tupla en una lista para la operación y posteriormente convirtiendo la lista en una tupla nuevamente mediante el comando _tuple_."
   ]
  },
  {
   "cell_type": "code",
   "execution_count": 27,
   "metadata": {},
   "outputs": [],
   "source": [
    "# definimos la tupla\n",
    "tupla1 = ('A', 1, True)"
   ]
  },
  {
   "cell_type": "code",
   "execution_count": 28,
   "metadata": {},
   "outputs": [],
   "source": [
    "# convertimos a lista y removemos el elemento 'A'\n",
    "lista = list(tupla1)\n",
    "lista.remove('A')"
   ]
  },
  {
   "cell_type": "code",
   "execution_count": 29,
   "metadata": {},
   "outputs": [
    {
     "name": "stdout",
     "output_type": "stream",
     "text": [
      "(1, True)\n"
     ]
    }
   ],
   "source": [
    "# convertimos la lista a tupla nuevamente\n",
    "tupla1 = tuple(lista)\n",
    "print(tupla1)"
   ]
  },
  {
   "cell_type": "markdown",
   "metadata": {},
   "source": [
    "Para actualizar un elemento de una tupla procedemos como sigue:"
   ]
  },
  {
   "cell_type": "code",
   "execution_count": 32,
   "metadata": {},
   "outputs": [],
   "source": [
    "# definimos la tupla\n",
    "tupla1 = ('A', 1, True)"
   ]
  },
  {
   "cell_type": "code",
   "execution_count": 33,
   "metadata": {},
   "outputs": [],
   "source": [
    "# convertimos a lista y modificamos el elemento True\n",
    "lista = list(tupla1)\n",
    "lista[2] = False"
   ]
  },
  {
   "cell_type": "code",
   "execution_count": 34,
   "metadata": {},
   "outputs": [
    {
     "name": "stdout",
     "output_type": "stream",
     "text": [
      "('A', 1, False)\n"
     ]
    }
   ],
   "source": [
    "# convertimos la lista a tupla nuevamente\n",
    "tupla1 = tuple(lista)\n",
    "print(tupla1)"
   ]
  },
  {
   "cell_type": "markdown",
   "metadata": {
    "id": "y7j5qXQLa9qx"
   },
   "source": [
    "# __Funciones aplicadas a tuplas__"
   ]
  },
  {
   "cell_type": "code",
   "execution_count": 35,
   "metadata": {
    "id": "dRG8hshNa9qx"
   },
   "outputs": [],
   "source": [
    "tupla1 = 1, 5, 2, 3 ,4, 5\n",
    "tupla2 = ('Python', 'IA', 3.141592, 9, 'IA', 8, 7, 'IA')\n",
    "tupla3 = ('p','q','r','s','p','u')"
   ]
  },
  {
   "cell_type": "markdown",
   "metadata": {},
   "source": [
    "### __len()__\n",
    "\n",
    "Muestra la longitud de la tupla"
   ]
  },
  {
   "cell_type": "code",
   "execution_count": 36,
   "metadata": {
    "id": "EOGODDLna9qy"
   },
   "outputs": [
    {
     "data": {
      "text/plain": [
       "8"
      ]
     },
     "execution_count": 36,
     "metadata": {},
     "output_type": "execute_result"
    }
   ],
   "source": [
    "tupla2 = ('Python', 'IA', 3.141592, 9, 'IA', 8, 7, 'IA')\n",
    "len(tupla2)"
   ]
  },
  {
   "cell_type": "markdown",
   "metadata": {
    "id": "a-9b-Ka3a9qy"
   },
   "source": [
    "### __max()__\n",
    "La función _max_ devuelve el valor mas alto de la tupla. Es importante que la tupla tenga elementos del mismo tipo"
   ]
  },
  {
   "cell_type": "code",
   "execution_count": 37,
   "metadata": {
    "id": "RaJuaEkda9qy"
   },
   "outputs": [
    {
     "data": {
      "text/plain": [
       "5"
      ]
     },
     "execution_count": 37,
     "metadata": {},
     "output_type": "execute_result"
    }
   ],
   "source": [
    "tupla1 = 1, 5, 2, 3 ,4, 5\n",
    "max(tupla1)"
   ]
  },
  {
   "cell_type": "code",
   "execution_count": 39,
   "metadata": {
    "id": "wxuBBBhka9qz"
   },
   "outputs": [
    {
     "ename": "TypeError",
     "evalue": "'>' not supported between instances of 'float' and 'str'",
     "output_type": "error",
     "traceback": [
      "\u001b[0;31m---------------------------------------------------------------------------\u001b[0m",
      "\u001b[0;31mTypeError\u001b[0m                                 Traceback (most recent call last)",
      "Input \u001b[0;32mIn [39]\u001b[0m, in \u001b[0;36m<cell line: 2>\u001b[0;34m()\u001b[0m\n\u001b[1;32m      1\u001b[0m \u001b[38;5;66;03m# tupla2 contiene diferentes tipos\u001b[39;00m\n\u001b[0;32m----> 2\u001b[0m \u001b[38;5;28;43mmax\u001b[39;49m\u001b[43m(\u001b[49m\u001b[43mtupla2\u001b[49m\u001b[43m)\u001b[49m\n",
      "\u001b[0;31mTypeError\u001b[0m: '>' not supported between instances of 'float' and 'str'"
     ]
    }
   ],
   "source": [
    "# tupla2 contiene diferentes tipos\n",
    "tupla2 = ('Python', 'IA', 3.141592, 9, 'IA', 8, 7, 'IA')\n",
    "max(tupla2)"
   ]
  },
  {
   "cell_type": "code",
   "execution_count": 41,
   "metadata": {},
   "outputs": [
    {
     "data": {
      "text/plain": [
       "'u'"
      ]
     },
     "execution_count": 41,
     "metadata": {},
     "output_type": "execute_result"
    }
   ],
   "source": [
    "# tupla3 con elementos del mismo tipo\n",
    "tupla3 = ('p','q','r','s','p','u')\n",
    "max(tupla3)"
   ]
  },
  {
   "cell_type": "markdown",
   "metadata": {
    "id": "oyLgRgYoa9qz"
   },
   "source": [
    "### __min()__\n",
    "\n",
    "La función _min_ devuelve el valor más bajo de la tupla."
   ]
  },
  {
   "cell_type": "code",
   "execution_count": 42,
   "metadata": {
    "id": "frDwHVUia9qz"
   },
   "outputs": [
    {
     "data": {
      "text/plain": [
       "1"
      ]
     },
     "execution_count": 42,
     "metadata": {},
     "output_type": "execute_result"
    }
   ],
   "source": [
    "tupla1 = 1, 5, 2, 3 ,4, 5\n",
    "min(tupla1)"
   ]
  },
  {
   "cell_type": "code",
   "execution_count": 43,
   "metadata": {
    "id": "IpZqTw4Ma9qz"
   },
   "outputs": [
    {
     "data": {
      "text/plain": [
       "'p'"
      ]
     },
     "execution_count": 43,
     "metadata": {},
     "output_type": "execute_result"
    }
   ],
   "source": [
    "tupla3 = ('p','q','r','s','p','u')\n",
    "min(tupla3)"
   ]
  },
  {
   "cell_type": "markdown",
   "metadata": {},
   "source": [
    "### __sum()__\n",
    "\n",
    "Calcula la suma de todos los elementos en la tupla, si son numéricos."
   ]
  },
  {
   "cell_type": "code",
   "execution_count": 12,
   "metadata": {},
   "outputs": [
    {
     "data": {
      "text/plain": [
       "(2, 3, 4, 5)"
      ]
     },
     "execution_count": 12,
     "metadata": {},
     "output_type": "execute_result"
    }
   ],
   "source": [
    "tupla1 = (2,3,4,5)\n",
    "tupla1"
   ]
  },
  {
   "cell_type": "code",
   "execution_count": 13,
   "metadata": {},
   "outputs": [
    {
     "name": "stdout",
     "output_type": "stream",
     "text": [
      "14\n"
     ]
    }
   ],
   "source": [
    "print(sum(tupla1))"
   ]
  },
  {
   "cell_type": "code",
   "execution_count": 14,
   "metadata": {},
   "outputs": [
    {
     "data": {
      "text/plain": [
       "('a', 2, 3)"
      ]
     },
     "execution_count": 14,
     "metadata": {},
     "output_type": "execute_result"
    }
   ],
   "source": [
    "tupla2 = ('a', 2, 3)\n",
    "tupla2"
   ]
  },
  {
   "cell_type": "code",
   "execution_count": 15,
   "metadata": {},
   "outputs": [
    {
     "ename": "TypeError",
     "evalue": "unsupported operand type(s) for +: 'int' and 'str'",
     "output_type": "error",
     "traceback": [
      "\u001b[0;31m---------------------------------------------------------------------------\u001b[0m",
      "\u001b[0;31mTypeError\u001b[0m                                 Traceback (most recent call last)",
      "Input \u001b[0;32mIn [15]\u001b[0m, in \u001b[0;36m<cell line: 1>\u001b[0;34m()\u001b[0m\n\u001b[0;32m----> 1\u001b[0m \u001b[38;5;28mprint\u001b[39m(\u001b[38;5;28;43msum\u001b[39;49m\u001b[43m(\u001b[49m\u001b[43mtupla2\u001b[49m\u001b[43m)\u001b[49m)\n",
      "\u001b[0;31mTypeError\u001b[0m: unsupported operand type(s) for +: 'int' and 'str'"
     ]
    }
   ],
   "source": [
    "print(sum(tupla2))"
   ]
  },
  {
   "cell_type": "markdown",
   "metadata": {},
   "source": [
    "### __any()__\n",
    "\n",
    "Retorna True si al menos un elemento de la tupla es verdadero."
   ]
  },
  {
   "cell_type": "code",
   "execution_count": 16,
   "metadata": {},
   "outputs": [
    {
     "data": {
      "text/plain": [
       "(False, False, 0)"
      ]
     },
     "execution_count": 16,
     "metadata": {},
     "output_type": "execute_result"
    }
   ],
   "source": [
    "tupla1 = (False, False, 0)\n",
    "tupla1"
   ]
  },
  {
   "cell_type": "code",
   "execution_count": 17,
   "metadata": {},
   "outputs": [
    {
     "name": "stdout",
     "output_type": "stream",
     "text": [
      "False\n"
     ]
    }
   ],
   "source": [
    "print(any(tupla1))"
   ]
  },
  {
   "cell_type": "markdown",
   "metadata": {},
   "source": [
    "El cero es considerado como False por tanto, _any()_ devuelve False."
   ]
  },
  {
   "cell_type": "code",
   "execution_count": 18,
   "metadata": {},
   "outputs": [
    {
     "data": {
      "text/plain": [
       "(False, False, 1)"
      ]
     },
     "execution_count": 18,
     "metadata": {},
     "output_type": "execute_result"
    }
   ],
   "source": [
    "tupla2 = (False, False, 1)\n",
    "tupla2"
   ]
  },
  {
   "cell_type": "code",
   "execution_count": 19,
   "metadata": {},
   "outputs": [
    {
     "name": "stdout",
     "output_type": "stream",
     "text": [
      "True\n"
     ]
    }
   ],
   "source": [
    "print(any(tupla2))"
   ]
  },
  {
   "cell_type": "markdown",
   "metadata": {},
   "source": [
    "### __all()__\n",
    "\n",
    "Retorna True si todos los elementos de la tupla son verdaderos."
   ]
  },
  {
   "cell_type": "code",
   "execution_count": 21,
   "metadata": {},
   "outputs": [
    {
     "data": {
      "text/plain": [
       "(True, True, 0)"
      ]
     },
     "execution_count": 21,
     "metadata": {},
     "output_type": "execute_result"
    }
   ],
   "source": [
    "tupla1 = True, True, 0\n",
    "tupla1"
   ]
  },
  {
   "cell_type": "code",
   "execution_count": 22,
   "metadata": {},
   "outputs": [
    {
     "name": "stdout",
     "output_type": "stream",
     "text": [
      "False\n"
     ]
    }
   ],
   "source": [
    "print(all(tupla1))"
   ]
  },
  {
   "cell_type": "markdown",
   "metadata": {},
   "source": [
    "Como cero se considera falso, _all()_ devuelve False."
   ]
  },
  {
   "cell_type": "code",
   "execution_count": 23,
   "metadata": {},
   "outputs": [
    {
     "data": {
      "text/plain": [
       "(True, True, 1)"
      ]
     },
     "execution_count": 23,
     "metadata": {},
     "output_type": "execute_result"
    }
   ],
   "source": [
    "tupla2 = True, True, 1\n",
    "tupla2"
   ]
  },
  {
   "cell_type": "code",
   "execution_count": 24,
   "metadata": {},
   "outputs": [
    {
     "name": "stdout",
     "output_type": "stream",
     "text": [
      "True\n"
     ]
    }
   ],
   "source": [
    "print(all(tupla2))"
   ]
  },
  {
   "cell_type": "markdown",
   "metadata": {},
   "source": [
    "### __sorted()__\n",
    "\n",
    "Retorna una lista con los elementos de la tupla en orden ascendente, si son numericos o string"
   ]
  },
  {
   "cell_type": "code",
   "execution_count": 27,
   "metadata": {},
   "outputs": [
    {
     "data": {
      "text/plain": [
       "(8, 3, 4, 1)"
      ]
     },
     "execution_count": 27,
     "metadata": {},
     "output_type": "execute_result"
    }
   ],
   "source": [
    "tupla1 = (8, 3, 4, 1)\n",
    "tupla1"
   ]
  },
  {
   "cell_type": "code",
   "execution_count": 28,
   "metadata": {},
   "outputs": [
    {
     "name": "stdout",
     "output_type": "stream",
     "text": [
      "[1, 3, 4, 8]\n"
     ]
    }
   ],
   "source": [
    "print(sorted(tupla1))"
   ]
  },
  {
   "cell_type": "markdown",
   "metadata": {},
   "source": [
    "### __tuple()__\n",
    "\n",
    "Convierte una secuencia, como una lista o string, en una tupla"
   ]
  },
  {
   "cell_type": "code",
   "execution_count": 29,
   "metadata": {},
   "outputs": [
    {
     "data": {
      "text/plain": [
       "[3, 'hola', 3.2]"
      ]
     },
     "execution_count": 29,
     "metadata": {},
     "output_type": "execute_result"
    }
   ],
   "source": [
    "lista1 = [3, 'hola', 3.2]\n",
    "lista1"
   ]
  },
  {
   "cell_type": "code",
   "execution_count": 30,
   "metadata": {},
   "outputs": [
    {
     "data": {
      "text/plain": [
       "(3, 'hola', 3.2)"
      ]
     },
     "execution_count": 30,
     "metadata": {},
     "output_type": "execute_result"
    }
   ],
   "source": [
    "tupla1 = tuple(lista1)\n",
    "tupla1"
   ]
  },
  {
   "cell_type": "code",
   "execution_count": 31,
   "metadata": {},
   "outputs": [
    {
     "data": {
      "text/plain": [
       "'saludos'"
      ]
     },
     "execution_count": 31,
     "metadata": {},
     "output_type": "execute_result"
    }
   ],
   "source": [
    "string = 'saludos'\n",
    "string"
   ]
  },
  {
   "cell_type": "code",
   "execution_count": 32,
   "metadata": {},
   "outputs": [
    {
     "data": {
      "text/plain": [
       "('s', 'a', 'l', 'u', 'd', 'o', 's')"
      ]
     },
     "execution_count": 32,
     "metadata": {},
     "output_type": "execute_result"
    }
   ],
   "source": [
    "tupla2 = tuple(string)\n",
    "tupla2"
   ]
  },
  {
   "cell_type": "markdown",
   "metadata": {},
   "source": [
    "### __reversed()__\n",
    "\n",
    "Devuelve un iterador que permite recorrer una secuencia en orden inverso. Permite obtener los elementos desde el ultimo hasta el primero sin tener que modificar la secuencia origianl"
   ]
  },
  {
   "cell_type": "code",
   "execution_count": 1,
   "metadata": {},
   "outputs": [
    {
     "name": "stdout",
     "output_type": "stream",
     "text": [
      "(3, 5, 7, 9)\n"
     ]
    }
   ],
   "source": [
    "tupla1 = 3,5,7,9\n",
    "print(tupla1)"
   ]
  },
  {
   "cell_type": "code",
   "execution_count": 3,
   "metadata": {},
   "outputs": [
    {
     "name": "stdout",
     "output_type": "stream",
     "text": [
      "<reversed object at 0x7f59444f0550>\n"
     ]
    }
   ],
   "source": [
    "inv = reversed(tupla1)\n",
    "print(inv)"
   ]
  },
  {
   "cell_type": "code",
   "execution_count": 4,
   "metadata": {},
   "outputs": [
    {
     "name": "stdout",
     "output_type": "stream",
     "text": [
      "(9, 7, 5, 3)\n"
     ]
    }
   ],
   "source": [
    "tupla1 = tuple(inv)\n",
    "print(tupla1)"
   ]
  },
  {
   "cell_type": "markdown",
   "metadata": {},
   "source": [
    "# __Metodos aplicados a tuplas__"
   ]
  },
  {
   "cell_type": "markdown",
   "metadata": {
    "id": "8iImW6cca9qz"
   },
   "source": [
    "### __count()__\n",
    "\n",
    "Cuenta la cantidad de veces que se encuentra un elemento, enviado como parametro, en la tupla"
   ]
  },
  {
   "cell_type": "code",
   "execution_count": 1,
   "metadata": {
    "id": "BkGkVU8ta9qz"
   },
   "outputs": [
    {
     "data": {
      "text/plain": [
       "('Python', 'IA', 3.14159, 8, 7, 'IA')"
      ]
     },
     "execution_count": 1,
     "metadata": {},
     "output_type": "execute_result"
    }
   ],
   "source": [
    "tupla2 = ('Python', 'IA', 3.14159, 8, 7, 'IA')\n",
    "tupla2"
   ]
  },
  {
   "cell_type": "code",
   "execution_count": 2,
   "metadata": {
    "id": "Ssj9Do7Ea9q0"
   },
   "outputs": [
    {
     "name": "stdout",
     "output_type": "stream",
     "text": [
      "2\n"
     ]
    }
   ],
   "source": [
    "print(tupla2.count('IA'))"
   ]
  },
  {
   "cell_type": "markdown",
   "metadata": {
    "id": "shA6QW8ga9q0"
   },
   "source": [
    "### __index()__\n",
    "\n",
    "Retorna el indice donde fue encontrado el elemento enviado como parametro"
   ]
  },
  {
   "cell_type": "code",
   "execution_count": 3,
   "metadata": {
    "id": "oQHb_Fota9q0"
   },
   "outputs": [
    {
     "data": {
      "text/plain": [
       "(1, 2, 3, 4, 5)"
      ]
     },
     "execution_count": 3,
     "metadata": {},
     "output_type": "execute_result"
    }
   ],
   "source": [
    "tupla1 = (1,2,3,4,5)\n",
    "tupla1"
   ]
  },
  {
   "cell_type": "code",
   "execution_count": 4,
   "metadata": {
    "id": "YyKibGv3a9q0"
   },
   "outputs": [
    {
     "name": "stdout",
     "output_type": "stream",
     "text": [
      "4\n"
     ]
    }
   ],
   "source": [
    "print(tupla1.index(5))"
   ]
  },
  {
   "cell_type": "markdown",
   "metadata": {},
   "source": [
    "Si hay elementos repetidos, index() mostrara el indice donde encuentre el primer elemento."
   ]
  },
  {
   "cell_type": "code",
   "execution_count": 8,
   "metadata": {},
   "outputs": [
    {
     "data": {
      "text/plain": [
       "(1, 2, 3, 5, 3, 7)"
      ]
     },
     "execution_count": 8,
     "metadata": {},
     "output_type": "execute_result"
    }
   ],
   "source": [
    "tupla2 = (1,2,3,5,3,7)\n",
    "tupla2"
   ]
  },
  {
   "cell_type": "code",
   "execution_count": 10,
   "metadata": {},
   "outputs": [
    {
     "name": "stdout",
     "output_type": "stream",
     "text": [
      "2\n"
     ]
    }
   ],
   "source": [
    "print(tupla2.index(3))"
   ]
  },
  {
   "cell_type": "markdown",
   "metadata": {},
   "source": [
    "### __Otros Metodos__\n",
    "\n",
    "Métodos como <span style=\"background:#BEBEBE\" > <b> append() </b> </span> , <span style=\"background:#BEBEBE\" > <b> insert() </b> </span> , <span style=\"background:#BEBEBE\" > <b> remove() </b> </span> , <span style=\"background:#BEBEBE\" > <b> pop() </b> </span> , <span style=\"background:#BEBEBE\" > <b> reverse() </b> </span> no puede ser usados porque modifican la tupla."
   ]
  },
  {
   "cell_type": "markdown",
   "metadata": {},
   "source": [
    "# __Bucles con Tuplas__"
   ]
  },
  {
   "cell_type": "markdown",
   "metadata": {},
   "source": [
    "Para recorrer una tupla se realiza de la misma forma que una lista. Podemos usar el ciclo __for__ como sigue:"
   ]
  },
  {
   "cell_type": "code",
   "execution_count": 33,
   "metadata": {},
   "outputs": [
    {
     "data": {
      "text/plain": [
       "('a', 2.1, 'str')"
      ]
     },
     "execution_count": 33,
     "metadata": {},
     "output_type": "execute_result"
    }
   ],
   "source": [
    "tupla1 = ('a', 2.1, 'str')\n",
    "tupla1"
   ]
  },
  {
   "cell_type": "code",
   "execution_count": 34,
   "metadata": {},
   "outputs": [
    {
     "name": "stdout",
     "output_type": "stream",
     "text": [
      "El elemento 1 de la tupla es a\n",
      "El elemento 2 de la tupla es 2.1\n",
      "El elemento 3 de la tupla es str\n"
     ]
    }
   ],
   "source": [
    "ind = 1\n",
    "for x in tupla1:\n",
    "    print(f'El elemento {ind} de la tupla es {x}')\n",
    "    ind += 1"
   ]
  },
  {
   "cell_type": "markdown",
   "metadata": {},
   "source": [
    "El ciclo __while__ es muy similar a este ultimo ejemplo del ciclo for, en el sentido que se mueve por medio de indices, para esto se requiere declarar el indice fuera del ciclo y contar con el incremento dentro del ciclo. Esto con el fin de evitar ciclos infinitos."
   ]
  },
  {
   "cell_type": "code",
   "execution_count": 35,
   "metadata": {},
   "outputs": [
    {
     "data": {
      "text/plain": [
       "('a', 2.1, 66, True)"
      ]
     },
     "execution_count": 35,
     "metadata": {},
     "output_type": "execute_result"
    }
   ],
   "source": [
    "tupla1 = ('a', 2.1, 66, True)\n",
    "tupla1"
   ]
  },
  {
   "cell_type": "code",
   "execution_count": 38,
   "metadata": {},
   "outputs": [
    {
     "name": "stdout",
     "output_type": "stream",
     "text": [
      "a\n",
      "2.1\n",
      "66\n",
      "True\n"
     ]
    }
   ],
   "source": [
    "i = 0\n",
    "\n",
    "while i < len(tupla1):\n",
    "    print(tupla1[i])\n",
    "    i += 1"
   ]
  }
 ],
 "metadata": {
  "colab": {
   "provenance": []
  },
  "kernelspec": {
   "display_name": "base",
   "language": "python",
   "name": "python3"
  },
  "language_info": {
   "codemirror_mode": {
    "name": "ipython",
    "version": 3
   },
   "file_extension": ".py",
   "mimetype": "text/x-python",
   "name": "python",
   "nbconvert_exporter": "python",
   "pygments_lexer": "ipython3",
   "version": "3.9.12"
  }
 },
 "nbformat": 4,
 "nbformat_minor": 1
}
