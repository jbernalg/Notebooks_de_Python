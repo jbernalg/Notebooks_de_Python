{
 "cells": [
  {
   "cell_type": "markdown",
   "metadata": {},
   "source": [
    "# __Tipo de dato avanzado: Set__"
   ]
  },
  {
   "cell_type": "markdown",
   "metadata": {},
   "source": [
    "Son una estructura de datos usada para almacenar elementos de una manera similar a las listas pero con ciertas diferencias:\n",
    "\n",
    "- Los elementos de un set son unicos, lo que significa que no puede haber elementos duplicados.\n",
    "\n",
    "- Los set son desordenados, no mantienen el orden de cuando son declarados.\n",
    "\n",
    "- Sus elementos deben ser inmutables.\n",
    "\n",
    "Son utiles cuando necesitamos eliminar duplicados de una lista o realizar operaciones matematicas como union e interseccion. "
   ]
  },
  {
   "cell_type": "markdown",
   "metadata": {},
   "source": [
    "## Crear Set en Python"
   ]
  },
  {
   "cell_type": "markdown",
   "metadata": {},
   "source": [
    "__Mediante set()__\n",
    "\n",
    "Usamos el comando _set()_ pasandole como entrada cualquier tipo de iterable."
   ]
  },
  {
   "cell_type": "code",
   "execution_count": 1,
   "metadata": {},
   "outputs": [
    {
     "name": "stdout",
     "output_type": "stream",
     "text": [
      "{8, 1, 5, 6}\n",
      "<class 'set'>\n"
     ]
    }
   ],
   "source": [
    "s = set([5,6,8,6,1])\n",
    "print(s)\n",
    "print(type(s))"
   ]
  },
  {
   "cell_type": "markdown",
   "metadata": {},
   "source": [
    "__Mediante {}__\n",
    "\n",
    "Se puede hacer lo mismo haciendo uso de {} y sin usar la palabra _set()_ como se muestra a continuacion "
   ]
  },
  {
   "cell_type": "code",
   "execution_count": 2,
   "metadata": {},
   "outputs": [
    {
     "name": "stdout",
     "output_type": "stream",
     "text": [
      "{1, 4, 5, 6, 8}\n",
      "<class 'set'>\n"
     ]
    }
   ],
   "source": [
    "s = {5,4,6,8,8,1}\n",
    "print(s)\n",
    "print(type(s))"
   ]
  },
  {
   "cell_type": "markdown",
   "metadata": {},
   "source": [
    "__Set vacio__\n",
    "\n",
    "Podemos utilizar _set()_ para crear un set vacio."
   ]
  },
  {
   "cell_type": "code",
   "execution_count": 6,
   "metadata": {},
   "outputs": [
    {
     "data": {
      "text/plain": [
       "set()"
      ]
     },
     "execution_count": 6,
     "metadata": {},
     "output_type": "execute_result"
    }
   ],
   "source": [
    "set_vacio = set()\n",
    "set_vacio"
   ]
  },
  {
   "cell_type": "markdown",
   "metadata": {},
   "source": [
    "## Tipo de dato de un Set"
   ]
  },
  {
   "cell_type": "markdown",
   "metadata": {},
   "source": [
    "En Python, los set se definen como objetos de tipo 'set'."
   ]
  },
  {
   "cell_type": "code",
   "execution_count": 1,
   "metadata": {},
   "outputs": [
    {
     "name": "stdout",
     "output_type": "stream",
     "text": [
      "<class 'set'>\n"
     ]
    }
   ],
   "source": [
    "# creamos un set\n",
    "s = set([5,6,8,6,1])\n",
    "\n",
    "# verificamos el tipo de dato\n",
    "print(type(s))"
   ]
  },
  {
   "cell_type": "markdown",
   "metadata": {},
   "source": [
    "## Tipos de datos que soportan los sets"
   ]
  },
  {
   "cell_type": "markdown",
   "metadata": {},
   "source": [
    "Un set solo admite elementos inmutables como enteros, string, tuplas y frozentset. No se pueden usar listas, diccionarios ni sets dentro de un set porque estos son mutables."
   ]
  },
  {
   "cell_type": "code",
   "execution_count": null,
   "metadata": {},
   "outputs": [],
   "source": [
    "# creamos una lista\n",
    "lista = ['blue', 'red']\n",
    "\n",
    "# creamos un set y le pasamos el set"
   ]
  }
 ],
 "metadata": {
  "kernelspec": {
   "display_name": "chat",
   "language": "python",
   "name": "python3"
  },
  "language_info": {
   "codemirror_mode": {
    "name": "ipython",
    "version": 3
   },
   "file_extension": ".py",
   "mimetype": "text/x-python",
   "name": "python",
   "nbconvert_exporter": "python",
   "pygments_lexer": "ipython3",
   "version": "3.10.6"
  }
 },
 "nbformat": 4,
 "nbformat_minor": 2
}
