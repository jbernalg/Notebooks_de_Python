{
 "cells": [
  {
   "cell_type": "markdown",
   "metadata": {},
   "source": [
    "# __Tipo de dato avanzado: Set__"
   ]
  },
  {
   "cell_type": "markdown",
   "metadata": {},
   "source": [
    "Son una estructura de datos usada para almacenar elementos de una manera similar a las listas pero con ciertas diferencias:\n",
    "\n",
    "- Los elementos de un set son unicos, lo que significa que no puede haber elementos duplicados.\n",
    "\n",
    "- Los set son desordenados, no mantienen el orden de cuando son declarados.\n",
    "\n",
    "- Sus elementos deben ser inmutables.\n",
    "\n",
    "Son utiles cuando necesitamos eliminar duplicados de una lista o realizar operaciones matematicas como union e interseccion. "
   ]
  },
  {
   "cell_type": "markdown",
   "metadata": {},
   "source": [
    "## Crear Set en Python"
   ]
  },
  {
   "cell_type": "markdown",
   "metadata": {},
   "source": [
    "__Mediante set()__\n",
    "\n",
    "Usamos el comando _set()_ pasandole como entrada cualquier tipo de iterable."
   ]
  },
  {
   "cell_type": "code",
   "execution_count": 1,
   "metadata": {},
   "outputs": [
    {
     "name": "stdout",
     "output_type": "stream",
     "text": [
      "{8, 1, 5, 6}\n",
      "<class 'set'>\n"
     ]
    }
   ],
   "source": [
    "s = set([5,6,8,6,1])\n",
    "print(s)\n",
    "print(type(s))"
   ]
  },
  {
   "cell_type": "markdown",
   "metadata": {},
   "source": [
    "__Mediante {}__\n",
    "\n",
    "Se puede hacer lo mismo haciendo uso de {} y sin usar la palabra _set()_ como se muestra a continuacion "
   ]
  },
  {
   "cell_type": "code",
   "execution_count": 2,
   "metadata": {},
   "outputs": [
    {
     "name": "stdout",
     "output_type": "stream",
     "text": [
      "{1, 4, 5, 6, 8}\n",
      "<class 'set'>\n"
     ]
    }
   ],
   "source": [
    "s = {5,4,6,8,8,1}\n",
    "print(s)\n",
    "print(type(s))"
   ]
  },
  {
   "cell_type": "markdown",
   "metadata": {},
   "source": [
    "__Set vacio__\n",
    "\n",
    "Podemos utilizar _set()_ para crear un set vacio."
   ]
  },
  {
   "cell_type": "code",
   "execution_count": 6,
   "metadata": {},
   "outputs": [
    {
     "data": {
      "text/plain": [
       "set()"
      ]
     },
     "execution_count": 6,
     "metadata": {},
     "output_type": "execute_result"
    }
   ],
   "source": [
    "set_vacio = set()\n",
    "set_vacio"
   ]
  },
  {
   "cell_type": "markdown",
   "metadata": {},
   "source": [
    "## Tipo de dato de un Set"
   ]
  },
  {
   "cell_type": "markdown",
   "metadata": {},
   "source": [
    "En Python, los set se definen como objetos de tipo 'set'."
   ]
  },
  {
   "cell_type": "code",
   "execution_count": 1,
   "metadata": {},
   "outputs": [
    {
     "name": "stdout",
     "output_type": "stream",
     "text": [
      "<class 'set'>\n"
     ]
    }
   ],
   "source": [
    "# creamos un set\n",
    "s = set([5,6,8,6,1])\n",
    "\n",
    "# verificamos el tipo de dato\n",
    "print(type(s))"
   ]
  },
  {
   "cell_type": "markdown",
   "metadata": {},
   "source": [
    "## Tipos de datos que soportan los sets"
   ]
  },
  {
   "cell_type": "markdown",
   "metadata": {},
   "source": [
    "Un set solo admite elementos inmutables como enteros, string, tuplas y frozentset. No se pueden usar listas, diccionarios ni sets dentro de un set porque estos son mutables."
   ]
  },
  {
   "cell_type": "code",
   "execution_count": 2,
   "metadata": {},
   "outputs": [
    {
     "ename": "TypeError",
     "evalue": "set expected at most 1 argument, got 3",
     "output_type": "error",
     "traceback": [
      "\u001b[0;31m---------------------------------------------------------------------------\u001b[0m",
      "\u001b[0;31mTypeError\u001b[0m                                 Traceback (most recent call last)",
      "Cell \u001b[0;32mIn [2], line 5\u001b[0m\n\u001b[1;32m      2\u001b[0m lista \u001b[38;5;241m=\u001b[39m [\u001b[38;5;124m'\u001b[39m\u001b[38;5;124mblue\u001b[39m\u001b[38;5;124m'\u001b[39m, \u001b[38;5;124m'\u001b[39m\u001b[38;5;124mred\u001b[39m\u001b[38;5;124m'\u001b[39m]\n\u001b[1;32m      4\u001b[0m \u001b[38;5;66;03m# creamos un set y le pasamos la lista\u001b[39;00m\n\u001b[0;32m----> 5\u001b[0m colors \u001b[38;5;241m=\u001b[39m \u001b[38;5;28;43mset\u001b[39;49m\u001b[43m(\u001b[49m\u001b[38;5;124;43m'\u001b[39;49m\u001b[38;5;124;43mblack\u001b[39;49m\u001b[38;5;124;43m'\u001b[39;49m\u001b[43m,\u001b[49m\u001b[43m \u001b[49m\u001b[38;5;124;43m'\u001b[39;49m\u001b[38;5;124;43mwhite\u001b[39;49m\u001b[38;5;124;43m'\u001b[39;49m\u001b[43m,\u001b[49m\u001b[43m \u001b[49m\u001b[43mlista\u001b[49m\u001b[43m)\u001b[49m\n",
      "\u001b[0;31mTypeError\u001b[0m: set expected at most 1 argument, got 3"
     ]
    }
   ],
   "source": [
    "# creamos una lista\n",
    "lista = ['blue', 'red']\n",
    "\n",
    "# creamos un set y le pasamos la lista\n",
    "colors = set('black', 'white', lista)"
   ]
  },
  {
   "cell_type": "markdown",
   "metadata": {},
   "source": [
    "El error se produce debido a que le estamos pasando como elemento al set, la lista la cual e mutable y por definicion, los sets no admiten elementos mutables."
   ]
  },
  {
   "cell_type": "markdown",
   "metadata": {},
   "source": [
    "## Acceder a un elemento"
   ]
  },
  {
   "cell_type": "markdown",
   "metadata": {},
   "source": [
    "Los sets son colecciones desordenadas, lo que significa que no tienen indices. Por tanto, no puedes acceder directamente a un elemento por su posicion como en una lista."
   ]
  },
  {
   "cell_type": "markdown",
   "metadata": {},
   "source": [
    "__Acceder a los elementos con un for__\n",
    "\n",
    "Como no poseen indice, podemos iterar sobre los elementos con un bucle for. Tener en cuenta que el orden de los elementos pueden variar, ya que los sets son desordenados."
   ]
  },
  {
   "cell_type": "code",
   "execution_count": 3,
   "metadata": {},
   "outputs": [
    {
     "name": "stdout",
     "output_type": "stream",
     "text": [
      "2\n",
      "3\n",
      "4\n",
      "5\n",
      "6\n"
     ]
    }
   ],
   "source": [
    "num = {2,3,4,5,6}\n",
    "\n",
    "for ele in num:\n",
    "    print(ele)"
   ]
  },
  {
   "cell_type": "markdown",
   "metadata": {},
   "source": [
    "__Convertir el set en una lista__\n",
    "\n",
    "Para acceder a un elemento en una posicion especifica, convertimos el set en una lista. Debemos tener en cuenta que los sets no tienen un orden fijo por lo que la posicion de los elementos puede cambiar."
   ]
  },
  {
   "cell_type": "code",
   "execution_count": 5,
   "metadata": {},
   "outputs": [
    {
     "name": "stdout",
     "output_type": "stream",
     "text": [
      "[2, 3, 4, 5, 6]\n"
     ]
    }
   ],
   "source": [
    "# set\n",
    "num = {2,3,4,5,6}\n",
    "\n",
    "# convertimos a lista\n",
    "num_lista = list(num)\n",
    "\n",
    "# verificamos posicion de cada elemento\n",
    "print(num_lista)\n"
   ]
  },
  {
   "cell_type": "code",
   "execution_count": 6,
   "metadata": {},
   "outputs": [
    {
     "name": "stdout",
     "output_type": "stream",
     "text": [
      "4\n"
     ]
    }
   ],
   "source": [
    "# seleccionamos elemento segun la posicion\n",
    "print(num_lista[2])"
   ]
  },
  {
   "cell_type": "markdown",
   "metadata": {},
   "source": [
    "__Obtener un solo elemento aleatorio con next()__\n",
    "\n",
    "Para acceder a un unico elemento del set, utilizamos el comando _next()_"
   ]
  },
  {
   "cell_type": "code",
   "execution_count": 8,
   "metadata": {},
   "outputs": [
    {
     "name": "stdout",
     "output_type": "stream",
     "text": [
      "2\n"
     ]
    }
   ],
   "source": [
    "# set\n",
    "num = {2,3,4,5,6}\n",
    "\n",
    "# obtener el primer elemento del iterador\n",
    "elemento = next(iter(num))\n",
    "print(elemento)"
   ]
  },
  {
   "cell_type": "markdown",
   "metadata": {},
   "source": [
    "## Agregar elementos a un set"
   ]
  },
  {
   "cell_type": "markdown",
   "metadata": {},
   "source": [
    "Para agregar un elemento a un set, se usa el metodo _add()_. Si el elemento ya existe en el set, no se añadira nuevamente ya que no admite duplicados."
   ]
  },
  {
   "cell_type": "code",
   "execution_count": 9,
   "metadata": {},
   "outputs": [
    {
     "name": "stdout",
     "output_type": "stream",
     "text": [
      "{1, 2, 3, 4, 5, 6}\n"
     ]
    }
   ],
   "source": [
    "# set\n",
    "num_set = {1,2,3,4,5}\n",
    "\n",
    "# agregar elemento al set\n",
    "num_set.add(6)\n",
    "\n",
    "# mostrar set\n",
    "print(num_set)"
   ]
  },
  {
   "cell_type": "markdown",
   "metadata": {},
   "source": [
    "## Remover elementos a un set"
   ]
  },
  {
   "cell_type": "markdown",
   "metadata": {},
   "source": [
    "__Metodo remove()__\n",
    "\n",
    "Este metodo elimina un elemento dado, pero arroja error si tal elemento no existe en el set."
   ]
  },
  {
   "cell_type": "code",
   "execution_count": 10,
   "metadata": {},
   "outputs": [
    {
     "name": "stdout",
     "output_type": "stream",
     "text": [
      "{3, 4, 5}\n"
     ]
    }
   ],
   "source": [
    "# set\n",
    "num_set = {2,3,4,5}\n",
    "\n",
    "# remover elemento\n",
    "num_set.remove(2)\n",
    "\n",
    "# mostrar set\n",
    "print(num_set)"
   ]
  },
  {
   "cell_type": "code",
   "execution_count": 11,
   "metadata": {},
   "outputs": [
    {
     "ename": "KeyError",
     "evalue": "1",
     "output_type": "error",
     "traceback": [
      "\u001b[0;31m---------------------------------------------------------------------------\u001b[0m",
      "\u001b[0;31mKeyError\u001b[0m                                  Traceback (most recent call last)",
      "Cell \u001b[0;32mIn [11], line 5\u001b[0m\n\u001b[1;32m      2\u001b[0m num_set \u001b[38;5;241m=\u001b[39m {\u001b[38;5;241m2\u001b[39m,\u001b[38;5;241m3\u001b[39m,\u001b[38;5;241m4\u001b[39m,\u001b[38;5;241m5\u001b[39m}\n\u001b[1;32m      4\u001b[0m \u001b[38;5;66;03m# remover elemento que no existe\u001b[39;00m\n\u001b[0;32m----> 5\u001b[0m \u001b[43mnum_set\u001b[49m\u001b[38;5;241;43m.\u001b[39;49m\u001b[43mremove\u001b[49m\u001b[43m(\u001b[49m\u001b[38;5;241;43m1\u001b[39;49m\u001b[43m)\u001b[49m\n",
      "\u001b[0;31mKeyError\u001b[0m: 1"
     ]
    }
   ],
   "source": [
    "# set\n",
    "num_set = {2,3,4,5}\n",
    "\n",
    "# remover elemento que no existe\n",
    "num_set.remove(1)"
   ]
  },
  {
   "cell_type": "markdown",
   "metadata": {},
   "source": [
    "__Metodo discard()__\n",
    "\n",
    "Metodo que elimina un elemento dado, y no arroja error si tal elemento no existe en el set."
   ]
  },
  {
   "cell_type": "code",
   "execution_count": 12,
   "metadata": {},
   "outputs": [
    {
     "name": "stdout",
     "output_type": "stream",
     "text": [
      "{2, 3, 5}\n"
     ]
    }
   ],
   "source": [
    "# set\n",
    "num_set = {2,3,4,5}\n",
    "\n",
    "# remover elemento\n",
    "num_set.discard(4)\n",
    "\n",
    "# mostrar set\n",
    "print(num_set)"
   ]
  },
  {
   "cell_type": "code",
   "execution_count": 13,
   "metadata": {},
   "outputs": [
    {
     "name": "stdout",
     "output_type": "stream",
     "text": [
      "{2, 3, 4, 5}\n"
     ]
    }
   ],
   "source": [
    "# set\n",
    "num_set = {2,3,4,5}\n",
    "\n",
    "# remover elemento que no existe\n",
    "num_set.discard(6)\n",
    "\n",
    "# mostrar set\n",
    "print(num_set)"
   ]
  },
  {
   "cell_type": "markdown",
   "metadata": {},
   "source": [
    "__Metodo pop()__\n",
    "\n",
    "Elimina y devuelve un elemento aleatorio del set."
   ]
  },
  {
   "cell_type": "code",
   "execution_count": 14,
   "metadata": {},
   "outputs": [
    {
     "name": "stdout",
     "output_type": "stream",
     "text": [
      "2\n",
      "{3, 4, 5}\n"
     ]
    }
   ],
   "source": [
    "# set\n",
    "num_set = {2,3,4,5}\n",
    "\n",
    "# obtener elemento eliminado\n",
    "num_eliminado = num_set.pop()\n",
    "\n",
    "# mostrar elemento eliminado\n",
    "print(num_eliminado)\n",
    "\n",
    "# mostrar el set actualizado\n",
    "print(num_set)"
   ]
  },
  {
   "cell_type": "markdown",
   "metadata": {},
   "source": [
    "__clear()__\n",
    "\n",
    "Elimina todos los metodos del set"
   ]
  },
  {
   "cell_type": "code",
   "execution_count": 15,
   "metadata": {},
   "outputs": [
    {
     "name": "stdout",
     "output_type": "stream",
     "text": [
      "set()\n"
     ]
    }
   ],
   "source": [
    "# set\n",
    "num_set = {2,3,4,5}\n",
    "\n",
    "# limpiar set\n",
    "num_set.clear()\n",
    "\n",
    "# mostrar set\n",
    "print(num_set)"
   ]
  }
 ],
 "metadata": {
  "kernelspec": {
   "display_name": "chat",
   "language": "python",
   "name": "python3"
  },
  "language_info": {
   "codemirror_mode": {
    "name": "ipython",
    "version": 3
   },
   "file_extension": ".py",
   "mimetype": "text/x-python",
   "name": "python",
   "nbconvert_exporter": "python",
   "pygments_lexer": "ipython3",
   "version": "3.10.6"
  }
 },
 "nbformat": 4,
 "nbformat_minor": 2
}
