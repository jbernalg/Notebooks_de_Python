{
 "cells": [
  {
   "cell_type": "markdown",
   "metadata": {
    "id": "81BvYrnonfzI"
   },
   "source": [
    "# **Tipos de datos**"
   ]
  },
  {
   "cell_type": "markdown",
   "metadata": {},
   "source": [
    "## _Enteros_"
   ]
  },
  {
   "cell_type": "markdown",
   "metadata": {},
   "source": [
    "Son un tipo de datos que permite representar numeros enteros, es decir, positivos y negativos no decimales."
   ]
  },
  {
   "cell_type": "code",
   "execution_count": 1,
   "metadata": {},
   "outputs": [
    {
     "name": "stdout",
     "output_type": "stream",
     "text": [
      "12\n"
     ]
    }
   ],
   "source": [
    "num = 12\n",
    "print(num)"
   ]
  },
  {
   "cell_type": "markdown",
   "metadata": {},
   "source": [
    "En Python, a partir de la version 3, se pueden representar numeros enteros tanto grande como pequeños ya que por debajo asigna la memoria necesaria al numero que se va a representar"
   ]
  },
  {
   "cell_type": "code",
   "execution_count": 4,
   "metadata": {},
   "outputs": [
    {
     "name": "stdout",
     "output_type": "stream",
     "text": [
      "4033389891707477734755328496062321624851855650186108167392316136344481819489232020749348134554663342567180262809078227006009080452734341032435816682463046374674512069371143084398679007692048444514734762881055933460281291788414235897996008959477402413975715284488587071738776443846331000684563996124540080201710310366837802424963684106240000000000000000000000000000000000000000000000000000000000000000000000000000000000000000000000000000000000000000000000000000000000000000000000000000000000000000000000000000000000000000000000000000000000000000000000000000000000000000000000000000000000\n",
      "<class 'int'>\n"
     ]
    }
   ],
   "source": [
    "num = 220**250\n",
    "print(num)\n",
    "print(type(num))"
   ]
  },
  {
   "cell_type": "markdown",
   "metadata": {},
   "source": [
    "### _Enteros de diferentes base_"
   ]
  },
  {
   "cell_type": "markdown",
   "metadata": {},
   "source": [
    "Tambien es posible asignar valores en binario, hexadecimal y octal. \n",
    "\n",
    "- Prefijo 0b para representar un numero binario.\n",
    "- Prefijo 0x para representar un numero hexadecimal.\n",
    "- Prefijo 0o pra representar un numero octal\n",
    "\n",
    "Al imprimir tales numeros, se convierten en enteros para todos los casos"
   ]
  },
  {
   "cell_type": "code",
   "execution_count": 7,
   "metadata": {},
   "outputs": [],
   "source": [
    "num_b = 0b101\n",
    "num_h = 0x17\n",
    "num_c = 0o720"
   ]
  },
  {
   "cell_type": "code",
   "execution_count": 8,
   "metadata": {},
   "outputs": [
    {
     "name": "stdout",
     "output_type": "stream",
     "text": [
      "5 <class 'int'>\n",
      "23 <class 'int'>\n",
      "464 <class 'int'>\n"
     ]
    }
   ],
   "source": [
    "print(num_b, type(num_b))\n",
    "print(num_h, type(num_h))\n",
    "print(num_c, type(num_c))"
   ]
  },
  {
   "cell_type": "markdown",
   "metadata": {},
   "source": [
    "### _Flexibilidad en la memoria_"
   ]
  },
  {
   "cell_type": "markdown",
   "metadata": {},
   "source": [
    "Python asigna diferentes numeros de bits a las variables en funcion del numero que quieren representar. Vamos a utilizar la funcion _getsizeof()_ para mostrar el tamano de una variable en memoria"
   ]
  },
  {
   "cell_type": "code",
   "execution_count": 9,
   "metadata": {},
   "outputs": [],
   "source": [
    "# libreria para usar la funcion\n",
    "import sys\n",
    "\n",
    "# definimos dos numeros\n",
    "num1 = 5**10000\n",
    "num2 = 10"
   ]
  },
  {
   "cell_type": "code",
   "execution_count": 10,
   "metadata": {},
   "outputs": [
    {
     "name": "stdout",
     "output_type": "stream",
     "text": [
      "3120 <class 'int'>\n",
      "28 <class 'int'>\n"
     ]
    }
   ],
   "source": [
    "# mostramos el tamano en memoria de cada numero\n",
    "print(sys.getsizeof(num1), type(num1))\n",
    "print(sys.getsizeof(num2), type(num2))"
   ]
  },
  {
   "cell_type": "markdown",
   "metadata": {},
   "source": [
    "Hay casos limites donde el numero a representar es tan grande que genera una excepcion."
   ]
  },
  {
   "cell_type": "code",
   "execution_count": 11,
   "metadata": {},
   "outputs": [
    {
     "ename": "OverflowError",
     "evalue": "(34, 'Numerical result out of range')",
     "output_type": "error",
     "traceback": [
      "\u001b[0;31m---------------------------------------------------------------------------\u001b[0m",
      "\u001b[0;31mOverflowError\u001b[0m                             Traceback (most recent call last)",
      "Input \u001b[0;32mIn [11]\u001b[0m, in \u001b[0;36m<cell line: 1>\u001b[0;34m()\u001b[0m\n\u001b[0;32m----> 1\u001b[0m \u001b[38;5;28mprint\u001b[39m(\u001b[38;5;241;43m5e200\u001b[39;49m\u001b[38;5;241;43m*\u001b[39;49m\u001b[38;5;241;43m*\u001b[39;49m\u001b[38;5;241;43m2\u001b[39;49m)\n",
      "\u001b[0;31mOverflowError\u001b[0m: (34, 'Numerical result out of range')"
     ]
    }
   ],
   "source": [
    "print(5e200**2)"
   ]
  },
  {
   "cell_type": "markdown",
   "metadata": {},
   "source": [
    "Un caso inusual es que si intentamos representar un numero mayor que el anterior nos devuelve lo siguiente en vez de una excepcion."
   ]
  },
  {
   "cell_type": "code",
   "execution_count": 12,
   "metadata": {},
   "outputs": [
    {
     "name": "stdout",
     "output_type": "stream",
     "text": [
      "inf\n"
     ]
    }
   ],
   "source": [
    "print(2e2000**2)"
   ]
  },
  {
   "cell_type": "markdown",
   "metadata": {},
   "source": [
    "### _Convertir a int_"
   ]
  },
  {
   "cell_type": "markdown",
   "metadata": {},
   "source": [
    "Permite convertir otro tipo a entero. Como int no puede contener decimales, al intentar convertir un numero decimal se truncara todo lo que este a la derecha de la coma."
   ]
  },
  {
   "cell_type": "code",
   "execution_count": 13,
   "metadata": {},
   "outputs": [
    {
     "name": "stdout",
     "output_type": "stream",
     "text": [
      "2 <class 'int'>\n"
     ]
    }
   ],
   "source": [
    "num = int(2.67)\n",
    "print(num, type(num))"
   ]
  },
  {
   "cell_type": "markdown",
   "metadata": {},
   "source": [
    "## _Float_"
   ]
  },
  {
   "cell_type": "markdown",
   "metadata": {},
   "source": [
    "Permite representar un numero positivo o negativo con decimales (numeros reales). Al declarar un variable y asignarle un valor decimal, por defecto la variable sera de tipo float"
   ]
  },
  {
   "cell_type": "code",
   "execution_count": 14,
   "metadata": {},
   "outputs": [
    {
     "name": "stdout",
     "output_type": "stream",
     "text": [
      "0.0032 <class 'float'>\n"
     ]
    }
   ],
   "source": [
    "num = 0.0032\n",
    "print(num, type(num))"
   ]
  },
  {
   "cell_type": "markdown",
   "metadata": {},
   "source": [
    "### _Conversion a float_"
   ]
  },
  {
   "cell_type": "markdown",
   "metadata": {},
   "source": [
    "Tambien se pueden declarar usando la notacion cientifica con 'e' y el exponente. Vamos a representar a 1.93 por diez elevado a la -3."
   ]
  },
  {
   "cell_type": "code",
   "execution_count": 15,
   "metadata": {},
   "outputs": [
    {
     "name": "stdout",
     "output_type": "stream",
     "text": [
      "0.00193 <class 'float'>\n"
     ]
    }
   ],
   "source": [
    "num = 1.93e-3\n",
    "print(num, type(num))"
   ]
  },
  {
   "cell_type": "markdown",
   "metadata": {},
   "source": [
    "Podemos convertir otro tipo a float mediante la funcion _float()_."
   ]
  },
  {
   "cell_type": "code",
   "execution_count": 16,
   "metadata": {},
   "outputs": [
    {
     "name": "stdout",
     "output_type": "stream",
     "text": [
      "1.0 <class 'float'>\n",
      "2.0 <class 'float'>\n"
     ]
    }
   ],
   "source": [
    "a = float(True)\n",
    "b = float(2)\n",
    "\n",
    "print(a, type(a))\n",
    "print(b, type(b))"
   ]
  },
  {
   "cell_type": "markdown",
   "metadata": {},
   "source": [
    "En este caso, _True_ es en realidad tratado como 1.0 al convertirlo a float."
   ]
  },
  {
   "cell_type": "markdown",
   "metadata": {},
   "source": [
    "### _Rango Representable_"
   ]
  },
  {
   "cell_type": "markdown",
   "metadata": {},
   "source": [
    "Los float no tienen precision infinita. Veamos el siguiente ejemplo"
   ]
  },
  {
   "cell_type": "code",
   "execution_count": 19,
   "metadata": {},
   "outputs": [
    {
     "name": "stdout",
     "output_type": "stream",
     "text": [
      "1.0 <class 'float'>\n",
      "True\n"
     ]
    }
   ],
   "source": [
    "num = 0.9999999999999999999\n",
    "print(num, type(num))\n",
    "print(1 == num)"
   ]
  },
  {
   "cell_type": "markdown",
   "metadata": {},
   "source": [
    "Los float tienen unos valores minimo y maximos que pueden representar:\n",
    "\n",
    "- Precision minima 2.2250738585072014e-308.\n",
    "- Precision maxima 1.7976931348623157e+308.\n",
    "\n",
    "Verifiquemoslo!"
   ]
  },
  {
   "cell_type": "code",
   "execution_count": 20,
   "metadata": {},
   "outputs": [
    {
     "name": "stdout",
     "output_type": "stream",
     "text": [
      "2.2250738585072014e-308\n",
      "1.7976931348623157e+308\n"
     ]
    }
   ],
   "source": [
    "import sys\n",
    "\n",
    "print(sys.float_info.min)\n",
    "print(sys.float_info.max)"
   ]
  },
  {
   "cell_type": "markdown",
   "metadata": {},
   "source": [
    "Si asignamos un valor mayor que el _max_, la variable toma el valor _inf_ que representa infinito."
   ]
  },
  {
   "cell_type": "code",
   "execution_count": 21,
   "metadata": {},
   "outputs": [
    {
     "name": "stdout",
     "output_type": "stream",
     "text": [
      "inf\n"
     ]
    }
   ],
   "source": [
    "num = 1.7976931348623157e+309\n",
    "print(num)"
   ]
  },
  {
   "cell_type": "markdown",
   "metadata": {},
   "source": [
    "### _Precision del float_"
   ]
  },
  {
   "cell_type": "markdown",
   "metadata": {},
   "source": [
    "Los computadores no pueden representar cualquier numero y mucho menos si este es un irracional.\n",
    "\n",
    "Al dividir _1/3_ deberia resultar en 0.3 periodico, pero para Python es imposible representar tal numero"
   ]
  },
  {
   "cell_type": "code",
   "execution_count": 25,
   "metadata": {},
   "outputs": [
    {
     "name": "stdout",
     "output_type": "stream",
     "text": [
      "  0.333333\n"
     ]
    }
   ],
   "source": [
    "print('{:10f}'.format(1.0/3.0))"
   ]
  },
  {
   "cell_type": "markdown",
   "metadata": {},
   "source": [
    "La siguiente operacion deberia ser cero, pero esto no es asi"
   ]
  },
  {
   "cell_type": "code",
   "execution_count": 26,
   "metadata": {},
   "outputs": [
    {
     "name": "stdout",
     "output_type": "stream",
     "text": [
      "5.551115123125783e-17\n"
     ]
    }
   ],
   "source": [
    "print(0.1 + 0.1 + 0.1 - 0.3)"
   ]
  },
  {
   "cell_type": "code",
   "execution_count": null,
   "metadata": {},
   "outputs": [],
   "source": []
  },
  {
   "cell_type": "markdown",
   "metadata": {},
   "source": [
    "## _Booleano_"
   ]
  },
  {
   "cell_type": "markdown",
   "metadata": {},
   "source": [
    "Es un tipo de dato que permite almacenar dos valores: _True_ o _False_. Representan el resultado de una comparacion entre otros datos.\n",
    "\n",
    "Para declarar una variable como booleana se procede como sigue:"
   ]
  },
  {
   "cell_type": "code",
   "execution_count": 1,
   "metadata": {},
   "outputs": [],
   "source": [
    "a = True\n",
    "b = False"
   ]
  },
  {
   "cell_type": "markdown",
   "metadata": {},
   "source": [
    "### _Evaluar expresiones_"
   ]
  },
  {
   "cell_type": "markdown",
   "metadata": {},
   "source": [
    "Al operar expresiones con losoperadores como mayor que, menor que o igual que se devuelve un booleano"
   ]
  },
  {
   "cell_type": "code",
   "execution_count": 2,
   "metadata": {},
   "outputs": [
    {
     "name": "stdout",
     "output_type": "stream",
     "text": [
      "False\n",
      "True\n",
      "\n"
     ]
    }
   ],
   "source": [
    "print(2 > 10)\n",
    "print(1 < 3)\n",
    "print()"
   ]
  },
  {
   "cell_type": "markdown",
   "metadata": {},
   "source": [
    "## _String_"
   ]
  },
  {
   "cell_type": "markdown",
   "metadata": {},
   "source": [
    "Son un tipo de datos inmutable que permite almacenar secuencias de caracteres. Para crear una, es necesario incluir el texto entre comillas simples _''_ o dobles _\"\"_."
   ]
  },
  {
   "cell_type": "code",
   "execution_count": 2,
   "metadata": {},
   "outputs": [
    {
     "name": "stdout",
     "output_type": "stream",
     "text": [
      "Cadena de texto\n",
      "<class 'str'>\n"
     ]
    }
   ],
   "source": [
    "text = \"Cadena de texto\"\n",
    "print(text)\n",
    "# tipo de dato\n",
    "print(type(text))"
   ]
  },
  {
   "cell_type": "markdown",
   "metadata": {},
   "source": [
    "Una cadena puede definirse como vacia de la siguiente manera:"
   ]
  },
  {
   "cell_type": "code",
   "execution_count": 4,
   "metadata": {},
   "outputs": [
    {
     "name": "stdout",
     "output_type": "stream",
     "text": [
      "\n"
     ]
    }
   ],
   "source": [
    "text = ''\n",
    "print(text)"
   ]
  },
  {
   "cell_type": "markdown",
   "metadata": {},
   "source": [
    "### _Limitacion de las cadenas_"
   ]
  },
  {
   "cell_type": "markdown",
   "metadata": {},
   "source": [
    "Las cadenas no estan limitadas al tamaño, por lo que el unico limite es la memoria del computador.\n"
   ]
  },
  {
   "cell_type": "markdown",
   "metadata": {},
   "source": [
    "### _Uso de comillas simples o dobles_"
   ]
  },
  {
   "cell_type": "markdown",
   "metadata": {},
   "source": [
    "Una situacion muy comun, es cuando queremos introducir una comilla, bien sea simple o doble, dentro de una cadena lo que genera un error de sintaxis."
   ]
  },
  {
   "cell_type": "code",
   "execution_count": 5,
   "metadata": {},
   "outputs": [
    {
     "ename": "SyntaxError",
     "evalue": "invalid syntax (2070285649.py, line 1)",
     "output_type": "error",
     "traceback": [
      "\u001b[0;36m  Input \u001b[0;32mIn [5]\u001b[0;36m\u001b[0m\n\u001b[0;31m    text = \"nuevo texto como \"Ejemplo\" \"\u001b[0m\n\u001b[0m                              ^\u001b[0m\n\u001b[0;31mSyntaxError\u001b[0m\u001b[0;31m:\u001b[0m invalid syntax\n"
     ]
    }
   ],
   "source": [
    "text = \"nuevo texto como \"Ejemplo\" \""
   ]
  },
  {
   "cell_type": "markdown",
   "metadata": {},
   "source": [
    "Python no sabe muy bien donde empieza y termina la cadena!\n",
    "\n",
    "Para solucionar este problema acudimos a __las secuencias de escape__. En este caso, utilizamos \\\\\" la cual nos permite incrustar comillas dentro de una cadena"
   ]
  },
  {
   "cell_type": "code",
   "execution_count": 6,
   "metadata": {},
   "outputs": [
    {
     "name": "stdout",
     "output_type": "stream",
     "text": [
      "nuevo texto como \"Ejemplo\" \n"
     ]
    }
   ],
   "source": [
    "text = \"nuevo texto como \\\"Ejemplo\\\" \"\n",
    "print(text)"
   ]
  },
  {
   "cell_type": "markdown",
   "metadata": {},
   "source": [
    "Tambien podemos solucionar este problema utilizando comillas de diferentes tipos tanto para crear el string como para usar dentro del string"
   ]
  },
  {
   "cell_type": "code",
   "execution_count": 8,
   "metadata": {},
   "outputs": [
    {
     "name": "stdout",
     "output_type": "stream",
     "text": [
      "nuevo texto como \"Ejemplo\" \n"
     ]
    }
   ],
   "source": [
    "text = 'nuevo texto como \"Ejemplo\" '\n",
    "print(text)"
   ]
  },
  {
   "cell_type": "code",
   "execution_count": 9,
   "metadata": {},
   "outputs": [
    {
     "name": "stdout",
     "output_type": "stream",
     "text": [
      "nuevo texto como 'Ejemplo' \n"
     ]
    }
   ],
   "source": [
    "text = \"nuevo texto como 'Ejemplo' \"\n",
    "print(text)"
   ]
  },
  {
   "cell_type": "markdown",
   "metadata": {},
   "source": [
    "La secuencia de escape \\\\n incluye un salto de linea dentro de una cadena, lo que significa que lo que este despues del salto, se imprime en una nueva linea. "
   ]
  },
  {
   "cell_type": "code",
   "execution_count": 10,
   "metadata": {},
   "outputs": [
    {
     "name": "stdout",
     "output_type": "stream",
     "text": [
      "Primera linea \n",
      "Segunda linea\n"
     ]
    }
   ],
   "source": [
    "text = 'Primera linea \\nSegunda linea'\n",
    "print(text)"
   ]
  },
  {
   "cell_type": "markdown",
   "metadata": {},
   "source": [
    "Tambien podemos utilizar la secuencia de escape para imprimir un caracter a partir de codigo que le corresponde en el formato ASCI"
   ]
  },
  {
   "cell_type": "code",
   "execution_count": 12,
   "metadata": {},
   "outputs": [
    {
     "name": "stdout",
     "output_type": "stream",
     "text": [
      "H\n"
     ]
    }
   ],
   "source": [
    "char = \"\\110\"\n",
    "print(char)"
   ]
  },
  {
   "cell_type": "markdown",
   "metadata": {},
   "source": [
    "Existe una otra forma de declarar cadenas que ignora las secuencias de escape que contengan. Se conoce como __raw string__ y usa como prefijo _r_. "
   ]
  },
  {
   "cell_type": "code",
   "execution_count": 15,
   "metadata": {},
   "outputs": [
    {
     "name": "stdout",
     "output_type": "stream",
     "text": [
      "\\110\n"
     ]
    }
   ],
   "source": [
    "char = r\"\\110\"\n",
    "print(char)"
   ]
  },
  {
   "cell_type": "markdown",
   "metadata": {},
   "source": [
    "Podemos definir una cadena que ocupe varias lineas usando triple comilla _\"\"\"_. Esto es util cuando tenemos textos muy largos que no queremos tener en una sola linea."
   ]
  },
  {
   "cell_type": "code",
   "execution_count": 14,
   "metadata": {},
   "outputs": [
    {
     "name": "stdout",
     "output_type": "stream",
     "text": [
      "Cadena completa\n",
      "que ocupa\n",
      "al menos 3 lineas\n"
     ]
    }
   ],
   "source": [
    "text = \"\"\"Cadena completa\n",
    "que ocupa\n",
    "al menos 3 lineas\"\"\"\n",
    "\n",
    "print(text)"
   ]
  },
  {
   "cell_type": "markdown",
   "metadata": {
    "id": "qqXZn0KWYesT"
   },
   "source": [
    "Python, es un lenguaje de <b><i>tipado dinámico</i></b>. Hay dos formas de tipado:\n",
    "<ol>\n",
    "    <li>Estático</li>\n",
    "    <li>Dinámico</li>\n",
    "</ol>\n",
    "En los lenguajes estáticos, cuando se declara una variable es necesario especificar el tipo (Numérica, Lógica o Alfanumérica) y ese tipo es inalterable. En cambio en lenguajes como Python no es necesario establecer un tipo y además puede cambiar en cualquier momento.<br>\n",
    "En conclusión, <b>las variables en Python</b> adoptan su tipo según el dato que se le asigna."
   ]
  },
  {
   "cell_type": "markdown",
   "metadata": {},
   "source": [
    "### _Formateo de cadenas_"
   ]
  },
  {
   "cell_type": "markdown",
   "metadata": {},
   "source": [
    "__Primera forma__"
   ]
  },
  {
   "cell_type": "markdown",
   "metadata": {},
   "source": [
    "La primera forma de declarar una cadena que contenga variables en su interior es usando el operador _+_. Es importante recordar que la funcion _str()_ convierte en string lo que se pasa como parametro."
   ]
  },
  {
   "cell_type": "code",
   "execution_count": 16,
   "metadata": {
    "id": "JBhv8KTsYese"
   },
   "outputs": [
    {
     "name": "stdout",
     "output_type": "stream",
     "text": [
      "Tu edad es: 10\n"
     ]
    }
   ],
   "source": [
    "x = 10\n",
    "edad = \"Tu edad es: \" + str(10)\n",
    "print(edad)"
   ]
  },
  {
   "cell_type": "markdown",
   "metadata": {},
   "source": [
    "__Segunda forma__"
   ]
  },
  {
   "cell_type": "markdown",
   "metadata": {},
   "source": [
    "La segunda forma es usando el operador de cadenas _%_. Funciona con el uso de _%_ a la izquierda indicando el tipo que se quiere imprimir: _%s_ para string, _%d_ para enteros y _%f_ para decimales (Para mayor informacion sobre este tipo de formateo haz clic [aqui](https://docs.python.org/3/library/stdtypes.html#printf-style-string-formatting)) y a la derecha el _%_ la variable a imprimir"
   ]
  },
  {
   "cell_type": "code",
   "execution_count": 2,
   "metadata": {},
   "outputs": [
    {
     "name": "stdout",
     "output_type": "stream",
     "text": [
      "El numero es: 5\n"
     ]
    }
   ],
   "source": [
    "# declaramos la variable x\n",
    "x = 5\n",
    "\n",
    "# declaramos la variable a imprimir\n",
    "s = 'El numero es: %d' %x\n",
    "\n",
    "print(s)"
   ]
  },
  {
   "cell_type": "markdown",
   "metadata": {},
   "source": [
    "Si tenemos mas de una variable, tambien se puede hacer pasando los parametros dentro de _()_. "
   ]
  },
  {
   "cell_type": "code",
   "execution_count": 3,
   "metadata": {},
   "outputs": [
    {
     "name": "stdout",
     "output_type": "stream",
     "text": [
      "Los numeros son: 2 y 8\n"
     ]
    }
   ],
   "source": [
    "# variable a imprimir\n",
    "s = 'Los numeros son: %d y %d' %(2, 8)\n",
    "print(s)"
   ]
  },
  {
   "cell_type": "markdown",
   "metadata": {},
   "source": [
    "Una forma moderna de realizar lo mismo, es usando _format()_"
   ]
  },
  {
   "cell_type": "code",
   "execution_count": 4,
   "metadata": {},
   "outputs": [
    {
     "name": "stdout",
     "output_type": "stream",
     "text": [
      "Hola Miguel. Tu edad es 19\n"
     ]
    }
   ],
   "source": [
    "# variable a imprimir\n",
    "s = 'Hola {}. Tu edad es {}'.format('Miguel', 19)\n",
    "print(s)"
   ]
  },
  {
   "cell_type": "markdown",
   "metadata": {},
   "source": [
    "Es posible darle nombre a cada elemento y _format()_ se encargara de reemplazar todo"
   ]
  },
  {
   "cell_type": "code",
   "execution_count": 5,
   "metadata": {},
   "outputs": [
    {
     "name": "stdout",
     "output_type": "stream",
     "text": [
      "Los numeros son 1 y 23\n"
     ]
    }
   ],
   "source": [
    "s = 'Los numeros son {a} y {b}'.format(b=23, a=1)\n",
    "print(s)"
   ]
  },
  {
   "cell_type": "markdown",
   "metadata": {},
   "source": [
    "__Tercera forma__"
   ]
  },
  {
   "cell_type": "markdown",
   "metadata": {},
   "source": [
    "Es una forma incluida en la version 3.6 de Python y recibe el nombre de cadenas literales o _f-string_. Permite incrustar expresiones dentro de candenas."
   ]
  },
  {
   "cell_type": "code",
   "execution_count": 6,
   "metadata": {},
   "outputs": [
    {
     "name": "stdout",
     "output_type": "stream",
     "text": [
      "Los numeros son 2 y 3\n"
     ]
    }
   ],
   "source": [
    "# declaramos dos variables\n",
    "a = 2; b = 3\n",
    "\n",
    "# declaramos variable a imprimir\n",
    "s = f'Los numeros son {a} y {b}'\n",
    "print(s)"
   ]
  },
  {
   "cell_type": "markdown",
   "metadata": {},
   "source": [
    "Incluso admite operaciones de las variables dentro de los corchetes"
   ]
  },
  {
   "cell_type": "code",
   "execution_count": 7,
   "metadata": {},
   "outputs": [
    {
     "name": "stdout",
     "output_type": "stream",
     "text": [
      "a + b =  12\n"
     ]
    }
   ],
   "source": [
    "# declaramos dos variables\n",
    "a = 5; b = 7\n",
    "\n",
    "# declaramos variable a imprimir\n",
    "s = f'a + b =  {a+b}'\n",
    "print(s)"
   ]
  },
  {
   "cell_type": "markdown",
   "metadata": {},
   "source": [
    "Hasta se puede llamar una funcion dentro de los corchetes"
   ]
  },
  {
   "cell_type": "code",
   "execution_count": 11,
   "metadata": {},
   "outputs": [
    {
     "name": "stdout",
     "output_type": "stream",
     "text": [
      "Al sumar 4 a la funcion nos da: 16\n"
     ]
    }
   ],
   "source": [
    "# declaramos una funcion\n",
    "def funcion():\n",
    "    return 12\n",
    "\n",
    "# variable para mostrar el resultado\n",
    "s = f'Al sumar 4 a la funcion nos da: {funcion() + 4}'\n",
    "print(s)"
   ]
  },
  {
   "cell_type": "markdown",
   "metadata": {},
   "source": [
    "### _Metodos de String_"
   ]
  },
  {
   "cell_type": "markdown",
   "metadata": {},
   "source": [
    "- __Capitalize()__\n",
    "\n",
    "Se aplica sobre una cadena y la devuelve con su primera letra en mayuscula"
   ]
  },
  {
   "cell_type": "code",
   "execution_count": 12,
   "metadata": {},
   "outputs": [
    {
     "name": "stdout",
     "output_type": "stream",
     "text": [
      "Nueva oracion\n"
     ]
    }
   ],
   "source": [
    "text = 'nueva oracion'\n",
    "print(text.capitalize())"
   ]
  },
  {
   "cell_type": "markdown",
   "metadata": {},
   "source": [
    "- __lower()__\n",
    "\n",
    "Convierte todos los caracteres alfabeticos en minuscula."
   ]
  },
  {
   "cell_type": "code",
   "execution_count": 13,
   "metadata": {},
   "outputs": [
    {
     "name": "stdout",
     "output_type": "stream",
     "text": [
      "nueva oracion\n"
     ]
    }
   ],
   "source": [
    "text = 'nUEva ORaCION'\n",
    "print(text.lower())"
   ]
  },
  {
   "cell_type": "markdown",
   "metadata": {},
   "source": [
    "- __swapcase()__\n",
    "\n",
    "Convierte los caracteres alfabeticos con mayuscula en minuscula y vicerversa."
   ]
  },
  {
   "cell_type": "code",
   "execution_count": 14,
   "metadata": {},
   "outputs": [
    {
     "name": "stdout",
     "output_type": "stream",
     "text": [
      "nueva ORACION\n"
     ]
    }
   ],
   "source": [
    "text = 'NUEVA oracion'\n",
    "print(text.swapcase())"
   ]
  },
  {
   "cell_type": "markdown",
   "metadata": {},
   "source": [
    "- __upper()__\n",
    "\n",
    "Convierte todos los caracteres alfabeticos en mayuscula."
   ]
  },
  {
   "cell_type": "code",
   "execution_count": 15,
   "metadata": {},
   "outputs": [
    {
     "name": "stdout",
     "output_type": "stream",
     "text": [
      "NUEVA ORACION\n"
     ]
    }
   ],
   "source": [
    "text = 'Nueva Oracion'\n",
    "print(text.upper())"
   ]
  },
  {
   "cell_type": "markdown",
   "metadata": {},
   "source": [
    "- __count()__\n",
    "\n",
    "Permite contar las veces que otra cadena se encuentra dentro de la primera. Admite dos parametros opcionales que indican donde empezar (_start_) y terminar (_end_) de buscar.\n",
    "\n",
    "    count(sub[start, end])"
   ]
  },
  {
   "cell_type": "code",
   "execution_count": 16,
   "metadata": {},
   "outputs": [
    {
     "name": "stdout",
     "output_type": "stream",
     "text": [
      "2\n"
     ]
    }
   ],
   "source": [
    "text = 'locura y tortura'\n",
    "print(text.count('ura'))"
   ]
  },
  {
   "cell_type": "code",
   "execution_count": 29,
   "metadata": {},
   "outputs": [
    {
     "name": "stdout",
     "output_type": "stream",
     "text": [
      "1\n"
     ]
    }
   ],
   "source": [
    "# buscar 'ura' hasta el septimo caracter\n",
    "print(text.count('ura',1,7))"
   ]
  },
  {
   "cell_type": "markdown",
   "metadata": {},
   "source": [
    "- __isalnum()__\n",
    "\n",
    "Devuelve True si la cadena esta formada unicamente por caracteres alfanumerico, False de lo contrario.Caracteres como @ y & no son alfanumericos."
   ]
  },
  {
   "cell_type": "code",
   "execution_count": 30,
   "metadata": {},
   "outputs": [
    {
     "name": "stdout",
     "output_type": "stream",
     "text": [
      "False\n"
     ]
    }
   ],
   "source": [
    "text = 'correo@dominio.com'\n",
    "print(text.isalnum())"
   ]
  },
  {
   "cell_type": "markdown",
   "metadata": {},
   "source": [
    "- __isalpha()__\n",
    "\n",
    "Devuelve true si todos los caracteres son alfabeticos, False de lo contrario. El espacio no cuenta como caracter alfabetico"
   ]
  },
  {
   "cell_type": "code",
   "execution_count": 32,
   "metadata": {},
   "outputs": [
    {
     "name": "stdout",
     "output_type": "stream",
     "text": [
      "False\n"
     ]
    }
   ],
   "source": [
    "text = 'la luciernaga'\n",
    "print(text.isalpha())"
   ]
  },
  {
   "cell_type": "code",
   "execution_count": 33,
   "metadata": {},
   "outputs": [
    {
     "name": "stdout",
     "output_type": "stream",
     "text": [
      "True\n"
     ]
    }
   ],
   "source": [
    "text = 'Laluciernaga'\n",
    "print(text.isalpha())"
   ]
  },
  {
   "cell_type": "markdown",
   "metadata": {},
   "source": [
    "- __strip()__\n",
    "\n",
    "Elimina a la izquierda y derecha el caracter que se le introduce. Si se llama sin parametros elimina los espacios. Muy util para limpiar cadenas."
   ]
  },
  {
   "cell_type": "code",
   "execution_count": 34,
   "metadata": {},
   "outputs": [
    {
     "name": "stdout",
     "output_type": "stream",
     "text": [
      "aaa\n"
     ]
    }
   ],
   "source": [
    "text = '   aaa   '\n",
    "print(text.strip())"
   ]
  }
 ],
 "metadata": {
  "colab": {
   "provenance": []
  },
  "kernelspec": {
   "display_name": "base",
   "language": "python",
   "name": "python3"
  },
  "language_info": {
   "codemirror_mode": {
    "name": "ipython",
    "version": 3
   },
   "file_extension": ".py",
   "mimetype": "text/x-python",
   "name": "python",
   "nbconvert_exporter": "python",
   "pygments_lexer": "ipython3",
   "version": "3.9.12"
  }
 },
 "nbformat": 4,
 "nbformat_minor": 0
}
