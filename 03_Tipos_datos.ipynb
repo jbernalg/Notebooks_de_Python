{
 "cells": [
  {
   "cell_type": "markdown",
   "metadata": {
    "id": "81BvYrnonfzI"
   },
   "source": [
    "# **Tipos de datos**"
   ]
  },
  {
   "cell_type": "markdown",
   "metadata": {},
   "source": [
    "## _Enteros_"
   ]
  },
  {
   "cell_type": "markdown",
   "metadata": {},
   "source": [
    "Son un tipo de datos que permite representar numeros enteros, es decir, positivos y negativos no decimales."
   ]
  },
  {
   "cell_type": "code",
   "execution_count": 1,
   "metadata": {},
   "outputs": [
    {
     "name": "stdout",
     "output_type": "stream",
     "text": [
      "12\n"
     ]
    }
   ],
   "source": [
    "num = 12\n",
    "print(num)"
   ]
  },
  {
   "cell_type": "markdown",
   "metadata": {},
   "source": [
    "En Python, a partir de la version 3, se pueden representar numeros enteros tanto grande como pequeños ya que por debajo asigna la memoria necesaria al numero que se va a representar"
   ]
  },
  {
   "cell_type": "code",
   "execution_count": 4,
   "metadata": {},
   "outputs": [
    {
     "name": "stdout",
     "output_type": "stream",
     "text": [
      "4033389891707477734755328496062321624851855650186108167392316136344481819489232020749348134554663342567180262809078227006009080452734341032435816682463046374674512069371143084398679007692048444514734762881055933460281291788414235897996008959477402413975715284488587071738776443846331000684563996124540080201710310366837802424963684106240000000000000000000000000000000000000000000000000000000000000000000000000000000000000000000000000000000000000000000000000000000000000000000000000000000000000000000000000000000000000000000000000000000000000000000000000000000000000000000000000000000000\n",
      "<class 'int'>\n"
     ]
    }
   ],
   "source": [
    "num = 220**250\n",
    "print(num)\n",
    "print(type(num))"
   ]
  },
  {
   "cell_type": "markdown",
   "metadata": {},
   "source": [
    "Tambien es posible asignar valores en binario, hexadecimal y octal. \n",
    "\n",
    "- Prefijo 0b para representar un numero binario.\n",
    "- Prefijo 0x para representar un numero hexadecimal.\n",
    "- Prefijo 0o pra representar un numero octal\n",
    "\n",
    "Al imprimir tales numeros, se convierten en enteros para todos los casos"
   ]
  },
  {
   "cell_type": "code",
   "execution_count": 7,
   "metadata": {},
   "outputs": [],
   "source": [
    "num_b = 0b101\n",
    "num_h = 0x17\n",
    "num_c = 0o720"
   ]
  },
  {
   "cell_type": "code",
   "execution_count": 8,
   "metadata": {},
   "outputs": [
    {
     "name": "stdout",
     "output_type": "stream",
     "text": [
      "5 <class 'int'>\n",
      "23 <class 'int'>\n",
      "464 <class 'int'>\n"
     ]
    }
   ],
   "source": [
    "print(num_b, type(num_b))\n",
    "print(num_h, type(num_h))\n",
    "print(num_c, type(num_c))"
   ]
  },
  {
   "cell_type": "markdown",
   "metadata": {},
   "source": [
    "Python asigna diferentes numeros de bits a las variables en funcion del numero que quieren representar. Vamos a utilizar la funcion _getsizeof()_ para mostrar el tamano de una variable en memoria"
   ]
  },
  {
   "cell_type": "code",
   "execution_count": 9,
   "metadata": {},
   "outputs": [],
   "source": [
    "# libreria para usar la funcion\n",
    "import sys\n",
    "\n",
    "# definimos dos numeros\n",
    "num1 = 5**10000\n",
    "num2 = 10"
   ]
  },
  {
   "cell_type": "code",
   "execution_count": 10,
   "metadata": {},
   "outputs": [
    {
     "name": "stdout",
     "output_type": "stream",
     "text": [
      "3120 <class 'int'>\n",
      "28 <class 'int'>\n"
     ]
    }
   ],
   "source": [
    "# mostramos el tamano en memoria de cada numero\n",
    "print(sys.getsizeof(num1), type(num1))\n",
    "print(sys.getsizeof(num2), type(num2))"
   ]
  },
  {
   "cell_type": "markdown",
   "metadata": {},
   "source": [
    "Hay casos limites donde el numero a representar es tan grande que genera una excepcion."
   ]
  },
  {
   "cell_type": "code",
   "execution_count": 11,
   "metadata": {},
   "outputs": [
    {
     "ename": "OverflowError",
     "evalue": "(34, 'Numerical result out of range')",
     "output_type": "error",
     "traceback": [
      "\u001b[0;31m---------------------------------------------------------------------------\u001b[0m",
      "\u001b[0;31mOverflowError\u001b[0m                             Traceback (most recent call last)",
      "Input \u001b[0;32mIn [11]\u001b[0m, in \u001b[0;36m<cell line: 1>\u001b[0;34m()\u001b[0m\n\u001b[0;32m----> 1\u001b[0m \u001b[38;5;28mprint\u001b[39m(\u001b[38;5;241;43m5e200\u001b[39;49m\u001b[38;5;241;43m*\u001b[39;49m\u001b[38;5;241;43m*\u001b[39;49m\u001b[38;5;241;43m2\u001b[39;49m)\n",
      "\u001b[0;31mOverflowError\u001b[0m: (34, 'Numerical result out of range')"
     ]
    }
   ],
   "source": [
    "print(5e200**2)"
   ]
  },
  {
   "cell_type": "markdown",
   "metadata": {},
   "source": [
    "Un caso inusual es que si intentamos representar un numero mayor que el anterior nos devuelve lo siguiente en vez de una excepcion."
   ]
  },
  {
   "cell_type": "code",
   "execution_count": 12,
   "metadata": {},
   "outputs": [
    {
     "name": "stdout",
     "output_type": "stream",
     "text": [
      "inf\n"
     ]
    }
   ],
   "source": [
    "print(2e2000**2)"
   ]
  },
  {
   "cell_type": "markdown",
   "metadata": {},
   "source": [
    "__Convertir a int__\n",
    "\n",
    "Permite convertir otro tipo a entero. Como int no puede contener decimales, al intentar convertir un numero decimal se truncara todo lo que este a la derecha de la coma."
   ]
  },
  {
   "cell_type": "code",
   "execution_count": 13,
   "metadata": {},
   "outputs": [
    {
     "name": "stdout",
     "output_type": "stream",
     "text": [
      "2 <class 'int'>\n"
     ]
    }
   ],
   "source": [
    "num = int(2.67)\n",
    "print(num, type(num))"
   ]
  },
  {
   "cell_type": "code",
   "execution_count": null,
   "metadata": {},
   "outputs": [],
   "source": []
  },
  {
   "cell_type": "markdown",
   "metadata": {},
   "source": [
    "## _Float_"
   ]
  },
  {
   "cell_type": "markdown",
   "metadata": {},
   "source": [
    "Permite representar un numero positivo o negativo con decimales (numeros reales). Al declarar un variable y asignarle un valor decimal, por defecto la variable sera de tipo float"
   ]
  },
  {
   "cell_type": "code",
   "execution_count": 14,
   "metadata": {},
   "outputs": [
    {
     "name": "stdout",
     "output_type": "stream",
     "text": [
      "0.0032 <class 'float'>\n"
     ]
    }
   ],
   "source": [
    "num = 0.0032\n",
    "print(num, type(num))"
   ]
  },
  {
   "cell_type": "markdown",
   "metadata": {},
   "source": [
    "__Conversion a float__\n",
    "\n",
    "Tambien se pueden declarar usando la notacion cientifica con 'e' y el exponente. Vamos a representar a 1.93 por diez elevado a la -3."
   ]
  },
  {
   "cell_type": "code",
   "execution_count": 15,
   "metadata": {},
   "outputs": [
    {
     "name": "stdout",
     "output_type": "stream",
     "text": [
      "0.00193 <class 'float'>\n"
     ]
    }
   ],
   "source": [
    "num = 1.93e-3\n",
    "print(num, type(num))"
   ]
  },
  {
   "cell_type": "markdown",
   "metadata": {},
   "source": [
    "Podemos convertir otro tipo a float mediante la funcion _float()_."
   ]
  },
  {
   "cell_type": "code",
   "execution_count": 16,
   "metadata": {},
   "outputs": [
    {
     "name": "stdout",
     "output_type": "stream",
     "text": [
      "1.0 <class 'float'>\n",
      "2.0 <class 'float'>\n"
     ]
    }
   ],
   "source": [
    "a = float(True)\n",
    "b = float(2)\n",
    "\n",
    "print(a, type(a))\n",
    "print(b, type(b))"
   ]
  },
  {
   "cell_type": "markdown",
   "metadata": {},
   "source": [
    "En este caso, _True_ es en realidad tratado como 1.0 al convertirlo a float."
   ]
  },
  {
   "cell_type": "markdown",
   "metadata": {},
   "source": [
    "__Rango Representable__\n",
    "\n",
    "Los float no tienen precision infinita. Veamos el siguiente ejemplo"
   ]
  },
  {
   "cell_type": "code",
   "execution_count": 19,
   "metadata": {},
   "outputs": [
    {
     "name": "stdout",
     "output_type": "stream",
     "text": [
      "1.0 <class 'float'>\n",
      "True\n"
     ]
    }
   ],
   "source": [
    "num = 0.9999999999999999999\n",
    "print(num, type(num))\n",
    "print(1 == num)"
   ]
  },
  {
   "cell_type": "markdown",
   "metadata": {},
   "source": [
    "Los float tienen unos valores minimo y maximos que pueden representar:\n",
    "\n",
    "- Precision minima 2.2250738585072014e-308.\n",
    "- Precision maxima 1.7976931348623157e+308.\n",
    "\n",
    "Verifiquemoslo!"
   ]
  },
  {
   "cell_type": "code",
   "execution_count": 20,
   "metadata": {},
   "outputs": [
    {
     "name": "stdout",
     "output_type": "stream",
     "text": [
      "2.2250738585072014e-308\n",
      "1.7976931348623157e+308\n"
     ]
    }
   ],
   "source": [
    "import sys\n",
    "\n",
    "print(sys.float_info.min)\n",
    "print(sys.float_info.max)"
   ]
  },
  {
   "cell_type": "markdown",
   "metadata": {},
   "source": [
    "Si asignamos un valor mayor que el _max_, la variable toma el valor _inf_ que representa infinito."
   ]
  },
  {
   "cell_type": "code",
   "execution_count": 21,
   "metadata": {},
   "outputs": [
    {
     "name": "stdout",
     "output_type": "stream",
     "text": [
      "inf\n"
     ]
    }
   ],
   "source": [
    "num = 1.7976931348623157e+309\n",
    "print(num)"
   ]
  },
  {
   "cell_type": "markdown",
   "metadata": {},
   "source": [
    "__Precision del float__\n",
    "\n",
    "Los computadores no pueden representar cualquier numero y mucho menos si este es un irracional.\n",
    "\n",
    "Al dividir _1/3_ deberia resultar en 0.3 periodico, pero para Python es imposible representar tal numero"
   ]
  },
  {
   "cell_type": "code",
   "execution_count": 25,
   "metadata": {},
   "outputs": [
    {
     "name": "stdout",
     "output_type": "stream",
     "text": [
      "  0.333333\n"
     ]
    }
   ],
   "source": [
    "print('{:10f}'.format(1.0/3.0))"
   ]
  },
  {
   "cell_type": "markdown",
   "metadata": {},
   "source": [
    "La siguiente operacion deberia ser cero, pero esto no es asi"
   ]
  },
  {
   "cell_type": "code",
   "execution_count": 26,
   "metadata": {},
   "outputs": [
    {
     "name": "stdout",
     "output_type": "stream",
     "text": [
      "5.551115123125783e-17\n"
     ]
    }
   ],
   "source": [
    "print(0.1 + 0.1 + 0.1 - 0.3)"
   ]
  },
  {
   "cell_type": "code",
   "execution_count": null,
   "metadata": {},
   "outputs": [],
   "source": []
  },
  {
   "cell_type": "markdown",
   "metadata": {
    "id": "qqXZn0KWYesT"
   },
   "source": [
    "\n",
    "<li><b>Lógicos o booleanos:</b> Sólo pueden tener dos valores <b><i>True</i></b> (verdadero) o <b><i>False</i></b> (falso) ya que representan el resultado de una comparación entre otros datos.</li>\n",
    "\n",
    "<li><b>Alfanuméricos (string):</b> Es una secuencia de caracteres alfanuméricos que permiten representar valores identificables de forma descriptiva. Se subdividen en dos:\n",
    "    <ul>\n",
    "        <li><b>Caracter:</b> Es cuando se almacena uno y sólo uno (elemento) del conjunto de caracteres (letras, números y signos especiales). Las comillas no forman parte del carácter, hacen parte de la representación. Ejemplo: “#”, “” , “H” , “7”.</li>\n",
    "        <li><b>Cadena:</b> Es el conjunto de las cadenas de caracteres que se pueden formar a partir de los elementos del conjunto de caracteres (letras, números y signos especiales) que el procesador reconoce.</li>\n",
    "    </ul>\n",
    "    </li>\n",
    "</ul>\n",
    "<br>\n",
    "Python, es un lenguaje de <b><i>tipado dinámico</i></b>. Hay dos formas de tipado:\n",
    "<ol>\n",
    "    <li>Estático</li>\n",
    "    <li>Dinámico</li>\n",
    "</ol>\n",
    "En los lenguajes estáticos, cuando se declara una variable es necesario especificar el tipo (Numérica, Lógica o Alfanumérica) y ese tipo es inalterable. En cambio en lenguajes como Python no es necesario establecer un tipo y además puede cambiar en cualquier momento.<br>\n",
    "En conclusión, <b>las variables en Python</b> adoptan su tipo según el dato que se le asigna."
   ]
  },
  {
   "cell_type": "markdown",
   "metadata": {
    "id": "ZxZ07-zYYesU"
   },
   "source": [
    "\n",
    "# __Variables en Python__\n",
    "\n",
    "Una variable es la que permite almacenar un valor al asignarlo a un nombre el cual puede ser utilizado para referirse al valor más adelante en el programa. Para asignar una variable, se utiliza el signo igual ( = ).<br>\n",
    "Las variables pueden ser reasignadas tantas veces como se quiera para cambiar su valor (Tipado dinámico).\n"
   ]
  },
  {
   "cell_type": "code",
   "execution_count": 1,
   "metadata": {
    "id": "udvxHbGBYesV"
   },
   "outputs": [
    {
     "data": {
      "text/plain": [
       "123"
      ]
     },
     "execution_count": 1,
     "metadata": {},
     "output_type": "execute_result"
    }
   ],
   "source": [
    "# Tipo de dato numérico, ENTERO o INTEGER - int\n",
    "a = 123\n",
    "a"
   ]
  },
  {
   "cell_type": "code",
   "execution_count": 2,
   "metadata": {
    "id": "mBTHoayCYesW"
   },
   "outputs": [
    {
     "data": {
      "text/plain": [
       "456.789"
      ]
     },
     "execution_count": 2,
     "metadata": {},
     "output_type": "execute_result"
    }
   ],
   "source": [
    "# Tipo de dato numérico, DECIMAL o FLOTANTE - float\n",
    "# el separador decimal o punto flotante en Python es el punto (.)\n",
    "b = 456.789\n",
    "b"
   ]
  },
  {
   "cell_type": "code",
   "execution_count": 3,
   "metadata": {
    "id": "bzzrKlWqYesX"
   },
   "outputs": [
    {
     "data": {
      "text/plain": [
       "'Hola mundo'"
      ]
     },
     "execution_count": 3,
     "metadata": {},
     "output_type": "execute_result"
    }
   ],
   "source": [
    "# Tipo de dato CADENA o STRING - str\n",
    "c = 'Hola mundo'\n",
    "c"
   ]
  },
  {
   "cell_type": "code",
   "execution_count": 4,
   "metadata": {
    "id": "MPcQlHZlYesX"
   },
   "outputs": [
    {
     "data": {
      "text/plain": [
       "True"
      ]
     },
     "execution_count": 4,
     "metadata": {},
     "output_type": "execute_result"
    }
   ],
   "source": [
    "# Tipo de dato LÓGICO O BOOLEAN - bool\n",
    "d = True # verdadero\n",
    "d"
   ]
  },
  {
   "cell_type": "code",
   "execution_count": 5,
   "metadata": {
    "id": "GTjV-XnEYesX"
   },
   "outputs": [
    {
     "data": {
      "text/plain": [
       "False"
      ]
     },
     "execution_count": 5,
     "metadata": {},
     "output_type": "execute_result"
    }
   ],
   "source": [
    "dd = False # falso\n",
    "dd"
   ]
  },
  {
   "cell_type": "markdown",
   "metadata": {},
   "source": [
    "Se declaran, luego se definen"
   ]
  },
  {
   "cell_type": "code",
   "execution_count": 29,
   "metadata": {},
   "outputs": [
    {
     "name": "stdout",
     "output_type": "stream",
     "text": [
      "Pedro Pedrito\n"
     ]
    }
   ],
   "source": [
    "# declarar   definir\n",
    "nombre = 'Pedro Pedrito'\n",
    "print(nombre)"
   ]
  },
  {
   "cell_type": "markdown",
   "metadata": {},
   "source": [
    "Son modificables..."
   ]
  },
  {
   "cell_type": "code",
   "execution_count": 31,
   "metadata": {},
   "outputs": [
    {
     "name": "stdout",
     "output_type": "stream",
     "text": [
      "Guillermo\n"
     ]
    }
   ],
   "source": [
    "nombre = 'Jose'\n",
    "nombre = 'Betania'\n",
    "nombre = 'Guillermo'\n",
    "print(nombre)"
   ]
  },
  {
   "cell_type": "markdown",
   "metadata": {},
   "source": [
    "Son operables ..."
   ]
  },
  {
   "cell_type": "code",
   "execution_count": 33,
   "metadata": {},
   "outputs": [
    {
     "name": "stdout",
     "output_type": "stream",
     "text": [
      "15\n"
     ]
    }
   ],
   "source": [
    "num = 10\n",
    "num += 5\n",
    "print(num)"
   ]
  },
  {
   "cell_type": "markdown",
   "metadata": {},
   "source": [
    "Se concatenan ..."
   ]
  },
  {
   "cell_type": "code",
   "execution_count": 34,
   "metadata": {},
   "outputs": [
    {
     "name": "stdout",
     "output_type": "stream",
     "text": [
      "Hola Miguel. Bienvenido!\n"
     ]
    }
   ],
   "source": [
    "nombre = 'Miguel'\n",
    "bienvenida = 'Hola '+ nombre + '. Bienvenido!'\n",
    "print(bienvenida)"
   ]
  },
  {
   "cell_type": "markdown",
   "metadata": {},
   "source": [
    "Concatenacion f-string: Convierte cualquier dato a tipo texto "
   ]
  },
  {
   "cell_type": "code",
   "execution_count": 35,
   "metadata": {},
   "outputs": [
    {
     "name": "stdout",
     "output_type": "stream",
     "text": [
      "Hola Gaby. Bienvenida!\n"
     ]
    }
   ],
   "source": [
    "nombre = 'Gaby'\n",
    "bienvenida = f'Hola {nombre}. Bienvenida!'\n",
    "print(bienvenida)"
   ]
  },
  {
   "cell_type": "markdown",
   "metadata": {},
   "source": [
    "Borrar contenido de la variable"
   ]
  },
  {
   "cell_type": "code",
   "execution_count": 36,
   "metadata": {},
   "outputs": [
    {
     "ename": "NameError",
     "evalue": "name 'nombre' is not defined",
     "output_type": "error",
     "traceback": [
      "\u001b[0;31m---------------------------------------------------------------------------\u001b[0m",
      "\u001b[0;31mNameError\u001b[0m                                 Traceback (most recent call last)",
      "Input \u001b[0;32mIn [36]\u001b[0m, in \u001b[0;36m<cell line: 3>\u001b[0;34m()\u001b[0m\n\u001b[1;32m      1\u001b[0m nombre \u001b[38;5;241m=\u001b[39m \u001b[38;5;124m'\u001b[39m\u001b[38;5;124mJesus\u001b[39m\u001b[38;5;124m'\u001b[39m\n\u001b[1;32m      2\u001b[0m \u001b[38;5;28;01mdel\u001b[39;00m nombre\n\u001b[0;32m----> 3\u001b[0m \u001b[38;5;28mprint\u001b[39m(\u001b[43mnombre\u001b[49m)\n",
      "\u001b[0;31mNameError\u001b[0m: name 'nombre' is not defined"
     ]
    }
   ],
   "source": [
    "nombre = 'Jesus'\n",
    "del nombre\n",
    "print(nombre)"
   ]
  },
  {
   "cell_type": "markdown",
   "metadata": {},
   "source": [
    "**Operador de pertenencia**: Busca una variable dentro de otra y devuelve un booleano"
   ]
  },
  {
   "cell_type": "code",
   "execution_count": 39,
   "metadata": {},
   "outputs": [
    {
     "name": "stdout",
     "output_type": "stream",
     "text": [
      "Hola Gaby. Bienvenida!\n",
      "True\n",
      "True\n"
     ]
    }
   ],
   "source": [
    "nombre = 'Gaby'\n",
    "bienvenida = f'Hola {nombre}. Bienvenida!'\n",
    "print(bienvenida)\n",
    "\n",
    "# buscar secuencia 'ola' en la variable bienvenida\n",
    "print('ola' in bienvenida)\n",
    "\n",
    "# buscar Gaby en la variable 'bienvenida'\n",
    "print('Gaby' in bienvenida)"
   ]
  },
  {
   "cell_type": "markdown",
   "metadata": {},
   "source": [
    "**Desempaquetado**: Consiste en asignarle valores contenidos en un array a varias variables. Funciona solo cuando la cantidad de valores es igual a la cantidad de variables"
   ]
  },
  {
   "cell_type": "code",
   "execution_count": 40,
   "metadata": {},
   "outputs": [
    {
     "name": "stdout",
     "output_type": "stream",
     "text": [
      "cilantro\n",
      "cebolla\n"
     ]
    }
   ],
   "source": [
    "# declaramos un tipo de dato conocido como tupla\n",
    "datos = ('cilantro', 'cebolla')\n",
    "verdura_1, verdura_2 = datos\n",
    "print(verdura_1)\n",
    "print(verdura_2)"
   ]
  },
  {
   "cell_type": "code",
   "execution_count": null,
   "metadata": {},
   "outputs": [],
   "source": []
  },
  {
   "cell_type": "markdown",
   "metadata": {
    "id": "OVh6UmF0YesY"
   },
   "source": [
    "# __Nombres de variables__\n",
    "\n",
    "1. Solo se pueden usar letras, número y el símbolo guión bajo o raya al piso (underscore)\n",
    "2. Nunca el primer caracter de la variable puede ser un número."
   ]
  },
  {
   "cell_type": "code",
   "execution_count": 6,
   "metadata": {
    "id": "tyxdatZWYesY"
   },
   "outputs": [
    {
     "data": {
      "text/plain": [
       "'Variable válida'"
      ]
     },
     "execution_count": 6,
     "metadata": {},
     "output_type": "execute_result"
    }
   ],
   "source": [
    "nombre_de_variable_valido = 'Variable válida'\n",
    "nombre_de_variable_valido"
   ]
  },
  {
   "cell_type": "code",
   "execution_count": 7,
   "metadata": {
    "id": "Y81qdSzHYesZ"
   },
   "outputs": [
    {
     "ename": "SyntaxError",
     "evalue": "invalid syntax (1375255212.py, line 1)",
     "output_type": "error",
     "traceback": [
      "\u001b[0;36m  Input \u001b[0;32mIn [7]\u001b[0;36m\u001b[0m\n\u001b[0;31m    variables con espacios = 'Variable string'\u001b[0m\n\u001b[0m              ^\u001b[0m\n\u001b[0;31mSyntaxError\u001b[0m\u001b[0;31m:\u001b[0m invalid syntax\n"
     ]
    }
   ],
   "source": [
    "variables con espacios = 'Variable string'"
   ]
  },
  {
   "cell_type": "code",
   "execution_count": 8,
   "metadata": {
    "id": "ZYtcgEjjYesZ"
   },
   "outputs": [
    {
     "ename": "SyntaxError",
     "evalue": "invalid syntax (4075443392.py, line 1)",
     "output_type": "error",
     "traceback": [
      "\u001b[0;36m  Input \u001b[0;32mIn [8]\u001b[0;36m\u001b[0m\n\u001b[0;31m    123Variable_con_numeros = 'Pythonistas'\u001b[0m\n\u001b[0m       ^\u001b[0m\n\u001b[0;31mSyntaxError\u001b[0m\u001b[0;31m:\u001b[0m invalid syntax\n"
     ]
    }
   ],
   "source": [
    "123Variable_con_numeros = 'Pythonistas'"
   ]
  },
  {
   "cell_type": "code",
   "execution_count": 9,
   "metadata": {
    "id": "N2q9AUACYesZ"
   },
   "outputs": [],
   "source": [
    "# VARIABLES VÁLIDAS\n",
    "variable_ = 3.141592\n",
    "\n",
    "VARIABLE = 'MAYÚSCULAS'\n",
    "\n",
    "_variables = 'Underscore'\n",
    "\n",
    "_prueba_ = True\n",
    "\n",
    "Var123 = 'Variables con números, mayúsculas y minúsculas.'"
   ]
  },
  {
   "cell_type": "markdown",
   "metadata": {
    "id": "W-En6vQIYesZ"
   },
   "source": [
    "<h3>IMPORANTE !!!</h3> Las variables adoptan la naturaleza del tipo de datos que se almacena en ellas."
   ]
  },
  {
   "cell_type": "code",
   "execution_count": null,
   "metadata": {
    "id": "pmXxAsuMYesZ"
   },
   "outputs": [],
   "source": []
  },
  {
   "cell_type": "markdown",
   "metadata": {
    "id": "BR2F4YbtYesa"
   },
   "source": [
    "<h3>Estilos de variables</h3>\n",
    "Información tomada de PEP8 de Python <a href=\"https://www.python.org/dev/peps/pep-0008/#naming-conventions\" target=\"_blank\">Link</a>\n",
    "\n",
    "* $b$ (una sola letra minuscula)\n",
    "\n",
    "* $B$ (una sola letra mayuscula)\n",
    "\n",
    "* $lowercase$ (Todas minusculas)\n",
    "\n",
    "* $lower\\_case\\_with\\_underscores$ (Todas minusculas separadas por piso o snakecase)\n",
    "\n",
    "* $UPPERCASE$ (Todas mayusculas)\n",
    "\n",
    "* $UPPER\\_CASE\\_WITH\\_UNDERSCORES$ (Todas mayusculas separadas por piso)\n",
    "\n",
    "* $CapitalizedWords$ (tambien llamadas CapWords o CamelCase. Letra inicial de la palabra en mayuscula, las demas en minuscula).\n",
    "\n",
    "* Note: Cuando utilice acronimos en CamelCase, escriba todas las letras del acronimo en mayuscula (HTTPServer)\n",
    "\n",
    "* $mixedCase$ (se diferencia de CamelCase en que la letra de la primera palabra es minuscula)\n",
    "\n",
    "* $Capitalized\\_Words\\_With\\_Underscores$ (Estilo poco estetico)"
   ]
  },
  {
   "cell_type": "code",
   "execution_count": 10,
   "metadata": {
    "id": "ThF1JOvEYesa"
   },
   "outputs": [],
   "source": [
    "# lowercase\n",
    "variable = 'Hola mundo'\n",
    "# uppercase\n",
    "VARIABLE = 'Constante'\n",
    "# lowercase with underscores\n",
    "variable_minusculas_con_guion_bajo = 123\n",
    "# uppercase with underscores\n",
    "VARIABLES_MAYUSCULAS_CON_GUION_BAJO = 456\n",
    "# CamelCase\n",
    "VariableName = 'CapWords o CamelCase'\n",
    "# mixedCase\n",
    "nombreVariable = 'mixedCase style'"
   ]
  },
  {
   "cell_type": "markdown",
   "metadata": {
    "id": "q2NaFvqCYesa"
   },
   "source": [
    "\n",
    "# __Conversión de tipos__\n",
    "Ya vimos que existen diferentes tipos datos y con cada uno de ellos se pueden hacer operaciones específicas. Pero, ¿Qué pasa si tengo número entre comillas y los necesito para hacer operaciones aritméticas? ¿Cómo se manejan estos casos? Para esto Python tiene implementado funciones para hacer estas conversiones."
   ]
  },
  {
   "cell_type": "markdown",
   "metadata": {
    "id": "rLGEdvVHYesa"
   },
   "source": [
    "### Para convertir a <i><u>entero</u></i> se utiliza la función $int()$"
   ]
  },
  {
   "cell_type": "code",
   "execution_count": 11,
   "metadata": {
    "id": "oc52BuzFYesa"
   },
   "outputs": [
    {
     "data": {
      "text/plain": [
       "5"
      ]
     },
     "execution_count": 11,
     "metadata": {},
     "output_type": "execute_result"
    }
   ],
   "source": [
    "int(\"2\") + int(\"3\")"
   ]
  },
  {
   "cell_type": "code",
   "execution_count": 12,
   "metadata": {
    "id": "pGP6mQ3XYesa"
   },
   "outputs": [
    {
     "data": {
      "text/plain": [
       "-1"
      ]
     },
     "execution_count": 12,
     "metadata": {},
     "output_type": "execute_result"
    }
   ],
   "source": [
    "2 - int(\"3\")"
   ]
  },
  {
   "cell_type": "code",
   "execution_count": 13,
   "metadata": {
    "id": "7tyZ2cntYesa"
   },
   "outputs": [
    {
     "data": {
      "text/plain": [
       "2"
      ]
     },
     "execution_count": 13,
     "metadata": {},
     "output_type": "execute_result"
    }
   ],
   "source": [
    "int(2.94)"
   ]
  },
  {
   "cell_type": "markdown",
   "metadata": {
    "id": "9VNUEBXyYesb"
   },
   "source": [
    "Para poder hacer la conversión con la función $int()$ se debe garantizar que los carateres que están dentro de las comillas tengan su equivalencia numérica, en caso contrario Python arrojará error en esta instrucción del algoritmo."
   ]
  },
  {
   "cell_type": "code",
   "execution_count": 14,
   "metadata": {
    "id": "kclJCGhxYesb"
   },
   "outputs": [
    {
     "ename": "ValueError",
     "evalue": "invalid literal for int() with base 10: 'Python'",
     "output_type": "error",
     "traceback": [
      "\u001b[0;31m---------------------------------------------------------------------------\u001b[0m",
      "\u001b[0;31mValueError\u001b[0m                                Traceback (most recent call last)",
      "Input \u001b[0;32mIn [14]\u001b[0m, in \u001b[0;36m<cell line: 1>\u001b[0;34m()\u001b[0m\n\u001b[0;32m----> 1\u001b[0m \u001b[38;5;28;43mint\u001b[39;49m\u001b[43m(\u001b[49m\u001b[38;5;124;43m'\u001b[39;49m\u001b[38;5;124;43mPython\u001b[39;49m\u001b[38;5;124;43m'\u001b[39;49m\u001b[43m)\u001b[49m \u001b[38;5;241m+\u001b[39m \u001b[38;5;241m4\u001b[39m\n",
      "\u001b[0;31mValueError\u001b[0m: invalid literal for int() with base 10: 'Python'"
     ]
    }
   ],
   "source": [
    "int('Python') + 4"
   ]
  },
  {
   "cell_type": "code",
   "execution_count": 15,
   "metadata": {
    "id": "VC633F5AYesb"
   },
   "outputs": [
    {
     "data": {
      "text/plain": [
       "9"
      ]
     },
     "execution_count": 15,
     "metadata": {},
     "output_type": "execute_result"
    }
   ],
   "source": [
    "a = '5'\n",
    "int(a) + 4"
   ]
  },
  {
   "cell_type": "markdown",
   "metadata": {
    "id": "UmKVneynYesb"
   },
   "source": [
    "<b>Nota:</b> El separador decimal de Python es el punto (<b>.</b>), si se usa la coma (<b>,</b>) dentro de la función $int()$ Python mostrará error."
   ]
  },
  {
   "cell_type": "code",
   "execution_count": 16,
   "metadata": {
    "id": "0oNh6CSWYesb"
   },
   "outputs": [
    {
     "ename": "ValueError",
     "evalue": "invalid literal for int() with base 10: '6.43'",
     "output_type": "error",
     "traceback": [
      "\u001b[0;31m---------------------------------------------------------------------------\u001b[0m",
      "\u001b[0;31mValueError\u001b[0m                                Traceback (most recent call last)",
      "Input \u001b[0;32mIn [16]\u001b[0m, in \u001b[0;36m<cell line: 1>\u001b[0;34m()\u001b[0m\n\u001b[0;32m----> 1\u001b[0m \u001b[38;5;241m7\u001b[39m \u001b[38;5;241m*\u001b[39m \u001b[38;5;28;43mint\u001b[39;49m\u001b[43m(\u001b[49m\u001b[38;5;124;43m\"\u001b[39;49m\u001b[38;5;124;43m6.43\u001b[39;49m\u001b[38;5;124;43m\"\u001b[39;49m\u001b[43m)\u001b[49m\n",
      "\u001b[0;31mValueError\u001b[0m: invalid literal for int() with base 10: '6.43'"
     ]
    }
   ],
   "source": [
    "7 * int(\"6.43\")"
   ]
  },
  {
   "cell_type": "code",
   "execution_count": 17,
   "metadata": {
    "id": "wyPjH8jwYesb"
   },
   "outputs": [
    {
     "data": {
      "text/plain": [
       "(6, 43)"
      ]
     },
     "execution_count": 17,
     "metadata": {},
     "output_type": "execute_result"
    }
   ],
   "source": [
    "6,43"
   ]
  },
  {
   "cell_type": "markdown",
   "metadata": {
    "id": "1NTpTtd2Yesb"
   },
   "source": [
    "### * Para convertir a <i><u>flotante</u></i> se utiliza la función $float()$"
   ]
  },
  {
   "cell_type": "code",
   "execution_count": 18,
   "metadata": {
    "id": "lt5Xq9e-Yesb"
   },
   "outputs": [
    {
     "data": {
      "text/plain": [
       "15.0"
      ]
     },
     "execution_count": 18,
     "metadata": {},
     "output_type": "execute_result"
    }
   ],
   "source": [
    "float(15)"
   ]
  },
  {
   "cell_type": "code",
   "execution_count": 19,
   "metadata": {
    "id": "LbkOukqGYesc"
   },
   "outputs": [
    {
     "data": {
      "text/plain": [
       "2.5"
      ]
     },
     "execution_count": 19,
     "metadata": {},
     "output_type": "execute_result"
    }
   ],
   "source": [
    "float(\"2.5\")"
   ]
  },
  {
   "cell_type": "code",
   "execution_count": null,
   "metadata": {
    "id": "JmQWJWk3Yesc"
   },
   "outputs": [],
   "source": []
  },
  {
   "cell_type": "markdown",
   "metadata": {
    "id": "d-Zh5usIYesc"
   },
   "source": [
    "Igual que con el uso de la función $int()$, si con la función $float()$ se intenta convertir caracteres que no tienen equivalencia numérica, Python arrojará error."
   ]
  },
  {
   "cell_type": "code",
   "execution_count": 20,
   "metadata": {
    "id": "hl1zZsSjYesc"
   },
   "outputs": [
    {
     "ename": "ValueError",
     "evalue": "could not convert string to float: 'Python'",
     "output_type": "error",
     "traceback": [
      "\u001b[0;31m---------------------------------------------------------------------------\u001b[0m",
      "\u001b[0;31mValueError\u001b[0m                                Traceback (most recent call last)",
      "Input \u001b[0;32mIn [20]\u001b[0m, in \u001b[0;36m<cell line: 1>\u001b[0;34m()\u001b[0m\n\u001b[0;32m----> 1\u001b[0m \u001b[38;5;28;43mfloat\u001b[39;49m\u001b[43m(\u001b[49m\u001b[38;5;124;43m\"\u001b[39;49m\u001b[38;5;124;43mPython\u001b[39;49m\u001b[38;5;124;43m\"\u001b[39;49m\u001b[43m)\u001b[49m\n",
      "\u001b[0;31mValueError\u001b[0m: could not convert string to float: 'Python'"
     ]
    }
   ],
   "source": [
    "float(\"Python\")"
   ]
  },
  {
   "cell_type": "code",
   "execution_count": null,
   "metadata": {
    "id": "iIRrgljuYesc"
   },
   "outputs": [],
   "source": []
  },
  {
   "cell_type": "markdown",
   "metadata": {
    "id": "oDNcY8FhYesc"
   },
   "source": [
    "### * Para convertir a <i><u>cadena o string</u></i> se utiliza la función $str()$<br>\n",
    "Para este caso de conversión, no hay restricciones, cualquier número (entero o flotante) o carater especial tipo @ , - , $ , & , \\% etc., puede ser convertido a cadena de texto."
   ]
  },
  {
   "cell_type": "code",
   "execution_count": 21,
   "metadata": {
    "id": "0Vno0Ej_Yesc"
   },
   "outputs": [
    {
     "data": {
      "text/plain": [
       "'Python para principiantes - Versión #5'"
      ]
     },
     "execution_count": 21,
     "metadata": {},
     "output_type": "execute_result"
    }
   ],
   "source": [
    "\"Python para principiantes - Versión #\" + str(5)"
   ]
  },
  {
   "cell_type": "code",
   "execution_count": 22,
   "metadata": {
    "id": "-dwewuIrYesd"
   },
   "outputs": [
    {
     "data": {
      "text/plain": [
       "'El promedio de las edades de los participantes es: 30.333333333333332'"
      ]
     },
     "execution_count": 22,
     "metadata": {},
     "output_type": "execute_result"
    }
   ],
   "source": [
    "\"El promedio de las edades de los participantes es: \" + str((23+34+21+56+19+29)/6)"
   ]
  },
  {
   "cell_type": "markdown",
   "metadata": {
    "id": "6r-OidT-Yesd"
   },
   "source": [
    "<h4>¡¡¡ MUY IMPORTANTE !!!</h4>\n",
    "Las funciones de conversión que implementa Python, convierten el valor o el contenido de la variable, pero NO la variable."
   ]
  },
  {
   "cell_type": "code",
   "execution_count": 23,
   "metadata": {
    "id": "oONRcWDWYesd"
   },
   "outputs": [
    {
     "data": {
      "text/plain": [
       "68"
      ]
     },
     "execution_count": 23,
     "metadata": {},
     "output_type": "execute_result"
    }
   ],
   "source": [
    "m = \"23\"\n",
    "n = \"45\"\n",
    "int(m) + int(n)"
   ]
  },
  {
   "cell_type": "code",
   "execution_count": 24,
   "metadata": {
    "id": "HVrppvwcYesd"
   },
   "outputs": [
    {
     "data": {
      "text/plain": [
       "'2345'"
      ]
     },
     "execution_count": 24,
     "metadata": {},
     "output_type": "execute_result"
    }
   ],
   "source": [
    "m + n"
   ]
  },
  {
   "cell_type": "code",
   "execution_count": null,
   "metadata": {
    "id": "kAl3o0doYesd"
   },
   "outputs": [],
   "source": []
  },
  {
   "cell_type": "markdown",
   "metadata": {},
   "source": [
    "### Conociendo el tipo de dato de la variable"
   ]
  },
  {
   "cell_type": "markdown",
   "metadata": {
    "id": "lvsXZROpYesd"
   },
   "source": [
    "Puedo conocer la naturaleza de mi variable con la función $type()$ de python"
   ]
  },
  {
   "cell_type": "code",
   "execution_count": 25,
   "metadata": {
    "id": "0kxdnqYTYesd"
   },
   "outputs": [
    {
     "data": {
      "text/plain": [
       "int"
      ]
     },
     "execution_count": 25,
     "metadata": {},
     "output_type": "execute_result"
    }
   ],
   "source": [
    "a = 123\n",
    "type(a)"
   ]
  },
  {
   "cell_type": "code",
   "execution_count": 26,
   "metadata": {
    "id": "69IB64oGYesd"
   },
   "outputs": [
    {
     "data": {
      "text/plain": [
       "str"
      ]
     },
     "execution_count": 26,
     "metadata": {},
     "output_type": "execute_result"
    }
   ],
   "source": [
    "b = 'Hola mundo!!!'\n",
    "type(b)"
   ]
  },
  {
   "cell_type": "code",
   "execution_count": 27,
   "metadata": {
    "id": "-IaMn8zUYesd"
   },
   "outputs": [
    {
     "data": {
      "text/plain": [
       "bool"
      ]
     },
     "execution_count": 27,
     "metadata": {},
     "output_type": "execute_result"
    }
   ],
   "source": [
    "c = False\n",
    "type(c)"
   ]
  },
  {
   "cell_type": "code",
   "execution_count": null,
   "metadata": {
    "id": "JBhv8KTsYese"
   },
   "outputs": [],
   "source": []
  }
 ],
 "metadata": {
  "colab": {
   "provenance": []
  },
  "kernelspec": {
   "display_name": "base",
   "language": "python",
   "name": "python3"
  },
  "language_info": {
   "codemirror_mode": {
    "name": "ipython",
    "version": 3
   },
   "file_extension": ".py",
   "mimetype": "text/x-python",
   "name": "python",
   "nbconvert_exporter": "python",
   "pygments_lexer": "ipython3",
   "version": "3.9.12"
  }
 },
 "nbformat": 4,
 "nbformat_minor": 0
}
