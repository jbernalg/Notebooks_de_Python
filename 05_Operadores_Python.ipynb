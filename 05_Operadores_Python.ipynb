{
 "cells": [
  {
   "cell_type": "markdown",
   "metadata": {},
   "source": [
    "# __Operadores de Python__"
   ]
  },
  {
   "cell_type": "markdown",
   "metadata": {},
   "source": [
    "Los operadores son simbolos especiales que representan calculos, coincidencias, condicionales, entre otros. Los valores que utiliza el operador se denomian operandos"
   ]
  },
  {
   "cell_type": "markdown",
   "metadata": {},
   "source": [
    "## _Operadores Aritmeticos_"
   ]
  },
  {
   "cell_type": "markdown",
   "metadata": {},
   "source": [
    "__Operador Suma (+)__"
   ]
  },
  {
   "cell_type": "code",
   "execution_count": 1,
   "metadata": {},
   "outputs": [
    {
     "name": "stdout",
     "output_type": "stream",
     "text": [
      "10\n"
     ]
    }
   ],
   "source": [
    "# definimos dos variables\n",
    "x = 3\n",
    "y = 7\n",
    "\n",
    "# mostramos resultado de la suma\n",
    "print(x + y)"
   ]
  },
  {
   "cell_type": "markdown",
   "metadata": {},
   "source": [
    "__Operador Resta (-)__"
   ]
  },
  {
   "cell_type": "code",
   "execution_count": 2,
   "metadata": {},
   "outputs": [
    {
     "name": "stdout",
     "output_type": "stream",
     "text": [
      "35\n"
     ]
    }
   ],
   "source": [
    "# definimos dos variables\n",
    "x = 41\n",
    "y = 6\n",
    "\n",
    "# mostramos resultado de la resta\n",
    "print(x - y)"
   ]
  },
  {
   "cell_type": "markdown",
   "metadata": {},
   "source": [
    "__Operador Producto (*)__"
   ]
  },
  {
   "cell_type": "code",
   "execution_count": 1,
   "metadata": {},
   "outputs": [
    {
     "name": "stdout",
     "output_type": "stream",
     "text": [
      "20\n"
     ]
    }
   ],
   "source": [
    "# definimos dos variables\n",
    "x = 4\n",
    "y = 5\n",
    "\n",
    "# mostramos resultado de la multiplicacin\n",
    "print(x*y)"
   ]
  },
  {
   "cell_type": "markdown",
   "metadata": {},
   "source": [
    "__Operador Division (/)__"
   ]
  },
  {
   "cell_type": "code",
   "execution_count": 2,
   "metadata": {},
   "outputs": [
    {
     "name": "stdout",
     "output_type": "stream",
     "text": [
      "0.7547169811320755\n"
     ]
    }
   ],
   "source": [
    "# definimos dos variables\n",
    "x = 4\n",
    "y = 5.3\n",
    "\n",
    "# mostramos resultado de la division\n",
    "print(x/y)"
   ]
  },
  {
   "cell_type": "markdown",
   "metadata": {},
   "source": [
    "Es importante recordar que la division de un numero por cero no esta definida por lo que en Python genera un error"
   ]
  },
  {
   "cell_type": "code",
   "execution_count": 3,
   "metadata": {},
   "outputs": [
    {
     "ename": "ZeroDivisionError",
     "evalue": "division by zero",
     "output_type": "error",
     "traceback": [
      "\u001b[0;31m---------------------------------------------------------------------------\u001b[0m",
      "\u001b[0;31mZeroDivisionError\u001b[0m                         Traceback (most recent call last)",
      "Input \u001b[0;32mIn [3]\u001b[0m, in \u001b[0;36m<cell line: 1>\u001b[0;34m()\u001b[0m\n\u001b[0;32m----> 1\u001b[0m \u001b[38;5;28mprint\u001b[39m(\u001b[38;5;241;43m3\u001b[39;49m\u001b[38;5;241;43m/\u001b[39;49m\u001b[38;5;241;43m0\u001b[39;49m)\n",
      "\u001b[0;31mZeroDivisionError\u001b[0m: division by zero"
     ]
    }
   ],
   "source": [
    "print(3/0)"
   ]
  },
  {
   "cell_type": "markdown",
   "metadata": {},
   "source": [
    "__Operador Modulo (%)__\n",
    "\n",
    "Calcula el resto de la division entera entre dos numeros. Es decir, si dividimos 10 entre 3, el cociente seria 3 y el resto 1. Ese resto es el modulo."
   ]
  },
  {
   "cell_type": "code",
   "execution_count": 4,
   "metadata": {},
   "outputs": [
    {
     "name": "stdout",
     "output_type": "stream",
     "text": [
      "1\n"
     ]
    }
   ],
   "source": [
    "# definimos dos variables\n",
    "x = 10\n",
    "y = 3\n",
    "\n",
    "# mostramos resultado del modulo\n",
    "print(x%3)"
   ]
  },
  {
   "cell_type": "markdown",
   "metadata": {},
   "source": [
    "__Operador Exponente (**)__\n",
    "\n",
    "Realiza el exponente de un numero"
   ]
  },
  {
   "cell_type": "code",
   "execution_count": 5,
   "metadata": {},
   "outputs": [
    {
     "name": "stdout",
     "output_type": "stream",
     "text": [
      "16\n"
     ]
    }
   ],
   "source": [
    "# definimos dos variables\n",
    "x = 2\n",
    "y = 4\n",
    "\n",
    "print(x**y)"
   ]
  },
  {
   "cell_type": "markdown",
   "metadata": {},
   "source": [
    "__Operador Cociente (//)__\n",
    "\n",
    "Calcula el cociente de la division entre dos numeros."
   ]
  },
  {
   "cell_type": "code",
   "execution_count": 7,
   "metadata": {},
   "outputs": [
    {
     "name": "stdout",
     "output_type": "stream",
     "text": [
      "3\n"
     ]
    }
   ],
   "source": [
    "# definimos dos variables\n",
    "x = 10\n",
    "y = 3\n",
    "\n",
    "print(x//y)"
   ]
  },
  {
   "cell_type": "markdown",
   "metadata": {},
   "source": [
    "## _Operadores bit a bit_"
   ]
  },
  {
   "cell_type": "markdown",
   "metadata": {},
   "source": [
    "Los operadores bit a bit trabajan directamente sobre los bits de números enteros. Es necesario recordar que en Python los números se almacenan en binario"
   ]
  },
  {
   "cell_type": "markdown",
   "metadata": {},
   "source": [
    "#### __Operador &__"
   ]
  },
  {
   "cell_type": "markdown",
   "metadata": {},
   "source": [
    "Dependiendo del tipo de los operandos, actua de diferentes formas. \n",
    "\n",
    "En caso de operar con bits, funciona como sigue: si ambos bits son 1 devuelve 1; 0 en caso contrario."
   ]
  },
  {
   "cell_type": "code",
   "execution_count": null,
   "metadata": {},
   "outputs": [
    {
     "name": "stdout",
     "output_type": "stream",
     "text": [
      "4\n"
     ]
    }
   ],
   "source": [
    "# definimos dos enteros\n",
    "a = 12 # en binario: 1100\n",
    "b = 5  # en binario: 0101\n",
    "\n",
    "# opera sobre cada par de bits\n",
    "result = a & b # resultado: 0100 que es 4 en entero\n",
    "print(result)"
   ]
  },
  {
   "cell_type": "markdown",
   "metadata": {},
   "source": [
    "Aplicado sobre condiciones en enteros, actua como el operador logico AND."
   ]
  },
  {
   "cell_type": "code",
   "execution_count": 7,
   "metadata": {},
   "outputs": [
    {
     "name": "stdout",
     "output_type": "stream",
     "text": [
      "True\n"
     ]
    }
   ],
   "source": [
    "# definimos la vaiable\n",
    "x = 5\n",
    "\n",
    "# Se evalúan ambas condiciones\n",
    "result = (x > 2) & (x < 10)\n",
    "print(result)"
   ]
  },
  {
   "cell_type": "markdown",
   "metadata": {},
   "source": [
    "El operador _&_ actua como un operador logico. Sin embargo, la diferencia con el operador _and_ es que _&_ no detiene la evaluacion de sus operandos"
   ]
  },
  {
   "cell_type": "code",
   "execution_count": 10,
   "metadata": {},
   "outputs": [
    {
     "name": "stdout",
     "output_type": "stream",
     "text": [
      "False\n"
     ]
    }
   ],
   "source": [
    "# definimos la vaiable\n",
    "x = 5\n",
    "\n",
    "# evalua hasta la primera condicion que arroje False\n",
    "result = (x > 10) and (x / 0)\n",
    "print(result)"
   ]
  },
  {
   "cell_type": "markdown",
   "metadata": {},
   "source": [
    "#### __Operador |__"
   ]
  },
  {
   "cell_type": "markdown",
   "metadata": {},
   "source": [
    "Tiene diferentes usos dependiendo del tipo de datos que se este manipulando.\n",
    "\n",
    "En caso de operar con bits, realiza una operacion OR bit a bit. Compara cada bit de dos numeros enteros y devuelve un nuevo numero donde el bit resultante es 1 si al menos uno de los bits en la posicion correspondiente es 1. Si ambos son 0, el bit resultante sera 0."
   ]
  },
  {
   "cell_type": "code",
   "execution_count": 11,
   "metadata": {},
   "outputs": [
    {
     "name": "stdout",
     "output_type": "stream",
     "text": [
      "13\n"
     ]
    }
   ],
   "source": [
    "# deinimos dos enteros\n",
    "a = 12 # en binario: 1100\n",
    "b = 5  # en binario: 0101\n",
    "\n",
    "# opera sobre cada par de bit\n",
    "result = a | b # resultado: 1101 que es 13 en decimal\n",
    "print(result)"
   ]
  },
  {
   "cell_type": "markdown",
   "metadata": {},
   "source": [
    "Cuando opera sobre valores booleanos, actua como un OR logico. Devuelve True si al menos uno de los dos operandos es True."
   ]
  },
  {
   "cell_type": "code",
   "execution_count": 1,
   "metadata": {},
   "outputs": [
    {
     "name": "stdout",
     "output_type": "stream",
     "text": [
      "True\n"
     ]
    }
   ],
   "source": [
    "# definimos variables\n",
    "a = True\n",
    "b = False\n",
    "\n",
    "# operador |\n",
    "result = a | b\n",
    "print(result)"
   ]
  },
  {
   "cell_type": "markdown",
   "metadata": {},
   "source": [
    "Para conjuntos, el operador | se utiliza para realizar la union. combina los elementos de ambos conjuntos, eliminando duplicados."
   ]
  },
  {
   "cell_type": "code",
   "execution_count": 3,
   "metadata": {},
   "outputs": [
    {
     "name": "stdout",
     "output_type": "stream",
     "text": [
      "{1, 2, 3, 4, 5, 6}\n"
     ]
    }
   ],
   "source": [
    "# declaramos dos conjuntos\n",
    "set1 = {1,2,3}\n",
    "set2 = {3,4,5,6}\n",
    "\n",
    "# operador |\n",
    "result = set1 | set2\n",
    "print(result)\n"
   ]
  },
  {
   "cell_type": "markdown",
   "metadata": {},
   "source": [
    "#### __Operador ^__"
   ]
  },
  {
   "cell_type": "markdown",
   "metadata": {},
   "source": [
    "Cuando se aplica sobre enteros, realiza una operacion XOR bit a bit. Compara cada bit de los operandos y devuelve 1 si los bits son diferentes y 0 si son iguales."
   ]
  },
  {
   "cell_type": "code",
   "execution_count": null,
   "metadata": {},
   "outputs": [
    {
     "name": "stdout",
     "output_type": "stream",
     "text": [
      "25\n"
     ]
    }
   ],
   "source": [
    "# declaramos dos variables con enteros\n",
    "a = 4  # en binario  0100\n",
    "b = 29 # en binario 11101\n",
    "\n",
    "# operador ^\n",
    "result = a ^ b\n",
    "print(result) # 25 en binario: 11001"
   ]
  },
  {
   "cell_type": "markdown",
   "metadata": {},
   "source": [
    "Si se aplica sobre booleanos, funciona como un XOR logico: si ambos booleanos son iguales, devuelve False, de lo contrario devuelve True."
   ]
  },
  {
   "cell_type": "code",
   "execution_count": 6,
   "metadata": {},
   "outputs": [
    {
     "name": "stdout",
     "output_type": "stream",
     "text": [
      "True\n"
     ]
    }
   ],
   "source": [
    "# declaramos dos variable boolenas\n",
    "a = True\n",
    "b = False\n",
    "\n",
    "# operador ^\n",
    "result = a ^ b\n",
    "print(result)"
   ]
  },
  {
   "cell_type": "markdown",
   "metadata": {},
   "source": [
    "#### __Operador ~__"
   ]
  },
  {
   "cell_type": "markdown",
   "metadata": {},
   "source": [
    "Esta diseñado para trabajar sobre numeros enteros y realiza una operacion de NOT bit a bit, conocida tambien como complemento a 1. Invierte todos los bits de un numero, conviertiendo los 0 en 1 y los 1 en 0.\n",
    "\n",
    "De manera general, al aplicar el operador ~ sobre un entero, se utiliza la siguiente formula para obtner el complemento a 1:\n",
    "\n",
    "$$\\sim n = -(n+1)$$"
   ]
  },
  {
   "cell_type": "code",
   "execution_count": 9,
   "metadata": {},
   "outputs": [
    {
     "name": "stdout",
     "output_type": "stream",
     "text": [
      "-6\n"
     ]
    }
   ],
   "source": [
    "# definimos variable\n",
    "x = 5\n",
    "\n",
    "# operador ~\n",
    "result = ~x \n",
    "print(result)\n"
   ]
  },
  {
   "cell_type": "markdown",
   "metadata": {},
   "source": [
    "#### __Operador <<__"
   ]
  },
  {
   "cell_type": "markdown",
   "metadata": {},
   "source": [
    "Es el operador de desplazamiento a la izquierda y toma el valor binario de un numero y desplaza sus bits hacia la izquierda un numero especificado de posiciones. Solo esta definido para numeros enteros\n",
    "\n",
    "Cada desplazamiento a la izquierda equivale a multiplicar el numero por 2 por cada posicion desplazada.\n",
    "\n",
    "Los bits a la derecha se rellenan con ceros "
   ]
  },
  {
   "cell_type": "code",
   "execution_count": 10,
   "metadata": {},
   "outputs": [
    {
     "name": "stdout",
     "output_type": "stream",
     "text": [
      "20\n"
     ]
    }
   ],
   "source": [
    "# definimos variable\n",
    "a = 5\n",
    "\n",
    "# operador << desplaza dos posiciones a la izquierda\n",
    "result = a << 2\n",
    "print(result)"
   ]
  },
  {
   "cell_type": "markdown",
   "metadata": {},
   "source": [
    "> Al desplazar dos posiciones se multiplica 5 por el numero 2 dos veces."
   ]
  },
  {
   "cell_type": "code",
   "execution_count": 11,
   "metadata": {},
   "outputs": [
    {
     "name": "stdout",
     "output_type": "stream",
     "text": [
      "12\n"
     ]
    }
   ],
   "source": [
    "# definimos variables\n",
    "a = 3; b = 2\n",
    "\n",
    "# operador >> desplaza b posiciones a la izquierda\n",
    "result = a << b\n",
    "print(result)"
   ]
  },
  {
   "cell_type": "markdown",
   "metadata": {},
   "source": [
    "#### __Operador >>__"
   ]
  },
  {
   "cell_type": "markdown",
   "metadata": {},
   "source": [
    "Es el operador de desplazamiento a la derecha y esta definido solo para enteros. Desplaza los bits de un numero hacia la derecha, rellenando los bits mas significativos con el signo del numero o con ceros.\n",
    "\n",
    "- Cada desplazamiento a la derecha equivale a dividir el numero entre 2, truncando los decimales\n",
    "\n",
    "- Se eliminan los bits menos significativo y se rellenan los bits mas significativos segun el signo del numero: para numeros positivos se rellenan con 0, para numeros negativos se rellenan con 1."
   ]
  },
  {
   "cell_type": "code",
   "execution_count": 12,
   "metadata": {},
   "outputs": [
    {
     "name": "stdout",
     "output_type": "stream",
     "text": [
      "4\n"
     ]
    }
   ],
   "source": [
    "# definimos variable\n",
    "a = 16\n",
    "\n",
    "# operador >> desplaza 2 posiciones a la derecha\n",
    "result = a >> 2\n",
    "print(result)"
   ]
  },
  {
   "cell_type": "markdown",
   "metadata": {},
   "source": [
    "> Al desplzar dos posiciones a la derecha, se divide 16 entre 2, dos veces."
   ]
  },
  {
   "cell_type": "code",
   "execution_count": 13,
   "metadata": {},
   "outputs": [
    {
     "name": "stdout",
     "output_type": "stream",
     "text": [
      "-4\n"
     ]
    }
   ],
   "source": [
    "# definimos variable\n",
    "a = -32\n",
    "\n",
    "# operador >> desplaza 3 posiciones a la derecha\n",
    "result = a >> 3\n",
    "print(result)"
   ]
  },
  {
   "cell_type": "markdown",
   "metadata": {},
   "source": [
    "## _Operadores de Asignacion_"
   ]
  },
  {
   "cell_type": "markdown",
   "metadata": {},
   "source": [
    "Permiten realizar una operacion y almacenar su resultado en la variable inicial. Surge de la combinacion del operador _=_ y los operadores aritmeticos."
   ]
  },
  {
   "cell_type": "markdown",
   "metadata": {},
   "source": [
    "#### __Operador =__"
   ]
  },
  {
   "cell_type": "markdown",
   "metadata": {},
   "source": [
    "Asigna a la variable de la izquierda el contenido que le ponemos a la derecha"
   ]
  },
  {
   "cell_type": "code",
   "execution_count": 8,
   "metadata": {},
   "outputs": [
    {
     "name": "stdout",
     "output_type": "stream",
     "text": [
      "33\n"
     ]
    }
   ],
   "source": [
    "# definimos la variable x\n",
    "x = 33\n",
    "\n",
    "# mostramos su valor\n",
    "print(x)"
   ]
  },
  {
   "cell_type": "markdown",
   "metadata": {},
   "source": [
    "#### __Operador +=__"
   ]
  },
  {
   "cell_type": "markdown",
   "metadata": {},
   "source": [
    "Los operadores de asignacion no son mas que atajos para escribir otros operadores de manera mas corta y asignar su resultado a la variable inicial. En _x += 1_  el operador _+=_ es equivalente a _x = x + 1_"
   ]
  },
  {
   "cell_type": "code",
   "execution_count": 11,
   "metadata": {},
   "outputs": [
    {
     "name": "stdout",
     "output_type": "stream",
     "text": [
      "2\n",
      "2\n"
     ]
    }
   ],
   "source": [
    "# operador +=\n",
    "x = 1 # definimos la variable\n",
    "x += 1\n",
    "print(x)\n",
    "\n",
    "# sin operador\n",
    "y = 1 # definimos la variable\n",
    "y = y + 1\n",
    "print(y)"
   ]
  },
  {
   "cell_type": "markdown",
   "metadata": {},
   "source": [
    "Aunque ambas expresiones llevan a resultados similares, no son lo mismo. El operador que Python invoca por debajo al ejecutar _x+=1_ es \"_iadd_\" mientras que en _x = x + 1_ invoca \"_add_\". La diferencia podria verse al aplicar el operador _+=_ en una lista "
   ]
  },
  {
   "cell_type": "code",
   "execution_count": 12,
   "metadata": {},
   "outputs": [
    {
     "name": "stdout",
     "output_type": "stream",
     "text": [
      "[1, 2, 3, 4, 5]\n"
     ]
    }
   ],
   "source": [
    "# definimos una lista\n",
    "x = [1,2,3]\n",
    "\n",
    "# aplicamos el operador para agregar dos elementos\n",
    "x += [4,5]\n",
    "\n",
    "# mostramos el resultado\n",
    "print(x)"
   ]
  },
  {
   "cell_type": "markdown",
   "metadata": {},
   "source": [
    "#### __Operador -=__"
   ]
  },
  {
   "cell_type": "markdown",
   "metadata": {},
   "source": [
    "Es equivalente a restar y asignar el resultado a la variable inicial. _x -= 1_ es equivalente a _x = x -1_. Es muy usado para decrementar el valor de una variable."
   ]
  },
  {
   "cell_type": "code",
   "execution_count": 13,
   "metadata": {},
   "outputs": [
    {
     "name": "stdout",
     "output_type": "stream",
     "text": [
      "2\n",
      "2\n"
     ]
    }
   ],
   "source": [
    "# operador -=\n",
    "x = 3\n",
    "x -= 1\n",
    "print(x)\n",
    "\n",
    "# sin operador\n",
    "y = 3\n",
    "y -= 1\n",
    "print(y)"
   ]
  },
  {
   "cell_type": "markdown",
   "metadata": {},
   "source": [
    "Una opcion para explorar los limites del lenguaje mas que sea practico es restar _-1_, lo que equivale a sumar. Evita hacerlo para no caer en confusiones."
   ]
  },
  {
   "cell_type": "code",
   "execution_count": 14,
   "metadata": {},
   "outputs": [
    {
     "name": "stdout",
     "output_type": "stream",
     "text": [
      "1\n"
     ]
    }
   ],
   "source": [
    "x = 0\n",
    "x -= -1\n",
    "print(x)"
   ]
  },
  {
   "cell_type": "markdown",
   "metadata": {},
   "source": [
    "#### __Operador *=__"
   ]
  },
  {
   "cell_type": "markdown",
   "metadata": {},
   "source": [
    "Equivale a multiplicar una variable por otra y almacenar el resultado en la primera. _x*=2_ es equivalente a _x=x*2_. Los operadores de asignacion tambien pueden usarse con dos variables."
   ]
  },
  {
   "cell_type": "code",
   "execution_count": 15,
   "metadata": {},
   "outputs": [
    {
     "name": "stdout",
     "output_type": "stream",
     "text": [
      "36\n"
     ]
    }
   ],
   "source": [
    "# definimos variables\n",
    "x = 12; y = 3\n",
    "\n",
    "# operador *=\n",
    "x *= y\n",
    "print(x)"
   ]
  },
  {
   "cell_type": "markdown",
   "metadata": {},
   "source": [
    "#### __Operador /=__"
   ]
  },
  {
   "cell_type": "markdown",
   "metadata": {},
   "source": [
    "Equivale a dividir una variable por otra y almacenar el resultado en la primera. _x /= 2_ es equivalente a _x = x/2_. Python cambia el tipo de la variable _x_ de lo que inicialmente era _int_ a un _float_ con el objetivo de que el nuevo valor pueda ser almacenado."
   ]
  },
  {
   "cell_type": "code",
   "execution_count": 17,
   "metadata": {},
   "outputs": [
    {
     "name": "stdout",
     "output_type": "stream",
     "text": [
      "<class 'int'>\n",
      "<class 'float'>\n"
     ]
    }
   ],
   "source": [
    "x = 10\n",
    "print(type(x))\n",
    "\n",
    "x /= 3\n",
    "print(type(x))"
   ]
  },
  {
   "cell_type": "code",
   "execution_count": 20,
   "metadata": {},
   "outputs": [
    {
     "name": "stdout",
     "output_type": "stream",
     "text": [
      "2.0\n"
     ]
    }
   ],
   "source": [
    "# con dos variables\n",
    "x = 12; y = 6\n",
    "\n",
    "# operador /=\n",
    "x /= y\n",
    "print(x)"
   ]
  },
  {
   "cell_type": "markdown",
   "metadata": {},
   "source": [
    "#### __Operador %=__"
   ]
  },
  {
   "cell_type": "markdown",
   "metadata": {},
   "source": [
    "Equivale a hacer el modulo de la division de dos variables y almacenar su resultado en la primera"
   ]
  },
  {
   "cell_type": "code",
   "execution_count": 21,
   "metadata": {},
   "outputs": [
    {
     "name": "stdout",
     "output_type": "stream",
     "text": [
      "1\n"
     ]
    }
   ],
   "source": [
    "# definimos variables\n",
    "x = 10\n",
    "\n",
    "# operador %=\n",
    "x %= 3\n",
    "print(x)"
   ]
  },
  {
   "cell_type": "markdown",
   "metadata": {},
   "source": [
    "El operador modulo tiene diferentes comportamientos en Python del que tiene en otros lenguajes cuando se usan numero negativos. Ten cuidado con los siguientes casos:"
   ]
  },
  {
   "cell_type": "code",
   "execution_count": 22,
   "metadata": {},
   "outputs": [
    {
     "name": "stdout",
     "output_type": "stream",
     "text": [
      "-2\n",
      "-1\n",
      "1\n",
      "2\n"
     ]
    }
   ],
   "source": [
    "print(-5%-3)\n",
    "print(5%-3)\n",
    "print(-5%3)\n",
    "print(5%3) # caso correcto"
   ]
  },
  {
   "cell_type": "markdown",
   "metadata": {},
   "source": [
    "#### __Operador //=__"
   ]
  },
  {
   "cell_type": "markdown",
   "metadata": {},
   "source": [
    "Realiza la operacion cociente entre dos variables y almacena el resultado en la primera. _x//=2_ equivale a _x=x//2_."
   ]
  },
  {
   "cell_type": "code",
   "execution_count": null,
   "metadata": {},
   "outputs": [
    {
     "name": "stdout",
     "output_type": "stream",
     "text": [
      "1\n"
     ]
    }
   ],
   "source": [
    "# definimos la variable\n",
    "x = 5\n",
    "\n",
    "# operador //=\n",
    "x //= 3\n",
    "print(x)"
   ]
  },
  {
   "cell_type": "markdown",
   "metadata": {},
   "source": [
    "#### __Operador **=__"
   ]
  },
  {
   "cell_type": "markdown",
   "metadata": {},
   "source": [
    "Realiza la operacion exponente del primer numero elevado al segundo, y almacena el resultado en la primera variable. _x**=2_ equivale a _x=x**2_"
   ]
  },
  {
   "cell_type": "code",
   "execution_count": 2,
   "metadata": {},
   "outputs": [
    {
     "name": "stdout",
     "output_type": "stream",
     "text": [
      "16\n"
     ]
    }
   ],
   "source": [
    "# definimos la variable\n",
    "x = 4\n",
    "\n",
    "# operador **=\n",
    "x **= 2\n",
    "print(x)"
   ]
  },
  {
   "cell_type": "markdown",
   "metadata": {},
   "source": [
    "Tambien se puede implementar un exponente negativo lo que equivale al inverso del numero elevado al exponente positivo. Dicho de otra forma, $x^-2$ equivale a $\\frac{1}{x^2}$"
   ]
  },
  {
   "cell_type": "code",
   "execution_count": 3,
   "metadata": {},
   "outputs": [
    {
     "name": "stdout",
     "output_type": "stream",
     "text": [
      "0.0625\n"
     ]
    }
   ],
   "source": [
    "# definimos la variable\n",
    "x = 4\n",
    "\n",
    "# operador **=\n",
    "x **= -2\n",
    "print(x)"
   ]
  },
  {
   "cell_type": "markdown",
   "metadata": {},
   "source": [
    "#### __Operador &=__"
   ]
  },
  {
   "cell_type": "markdown",
   "metadata": {},
   "source": [
    "Realiza una operacion AND bit a bit entre dos valores y asigna el resultado al operando a la izquierda. _x &= y_ equivale a _x = x & y_."
   ]
  },
  {
   "cell_type": "code",
   "execution_count": 15,
   "metadata": {},
   "outputs": [
    {
     "name": "stdout",
     "output_type": "stream",
     "text": [
      "4\n"
     ]
    }
   ],
   "source": [
    "# definimos variables\n",
    "a = 12 # en booleano: 1100\n",
    "b = 5  # en booleano: 0101\n",
    "\n",
    "# operador &= -> 1100 & 0101 = 0100 (4 en decimal)\n",
    "a &= b\n",
    "print(a)"
   ]
  },
  {
   "cell_type": "code",
   "execution_count": 16,
   "metadata": {},
   "outputs": [
    {
     "name": "stdout",
     "output_type": "stream",
     "text": [
      "False\n"
     ]
    }
   ],
   "source": [
    "# definimos variables\n",
    "a = True\n",
    "b = False\n",
    "\n",
    "# operador &=\n",
    "a &= b\n",
    "print(a) "
   ]
  },
  {
   "cell_type": "markdown",
   "metadata": {},
   "source": [
    "#### __Operador |=__"
   ]
  },
  {
   "cell_type": "markdown",
   "metadata": {},
   "source": [
    "Realiza la operacion OR bit a bit elemento a elemento entre dos variables y alacena el resultado en la primera. _x|=2_ equivale a _x=x|2_."
   ]
  },
  {
   "cell_type": "code",
   "execution_count": null,
   "metadata": {},
   "outputs": [
    {
     "name": "stdout",
     "output_type": "stream",
     "text": [
      "7\n"
     ]
    }
   ],
   "source": [
    "# definimos variables\n",
    "a = 5  # en binario: 0101\n",
    "b = 3  # en binario: 0011\n",
    "\n",
    "# operador |=\n",
    "a |= b\n",
    "print(a) # resultado: 0111 (7 en decimal)"
   ]
  },
  {
   "cell_type": "markdown",
   "metadata": {},
   "source": [
    "Tambien funciona con conjuntos para realizar la union"
   ]
  },
  {
   "cell_type": "code",
   "execution_count": 2,
   "metadata": {},
   "outputs": [
    {
     "name": "stdout",
     "output_type": "stream",
     "text": [
      "{1, 2, 3, 4, 5, 6}\n"
     ]
    }
   ],
   "source": [
    "# definimos dos conjuntos\n",
    "set1 = {1,2,3,4}\n",
    "set2 = {3,4,5,6}\n",
    "\n",
    "# operador |=\n",
    "set1 |= set2\n",
    "print(set1)"
   ]
  },
  {
   "cell_type": "markdown",
   "metadata": {},
   "source": [
    "#### __Operador ^=__"
   ]
  },
  {
   "cell_type": "markdown",
   "metadata": {},
   "source": [
    "Realiza el operador ^ elemento a elemento entre dos variables y almacena el resultado en la primera. _x^=2_ equivale a _x=x^2_"
   ]
  },
  {
   "cell_type": "code",
   "execution_count": 4,
   "metadata": {},
   "outputs": [
    {
     "name": "stdout",
     "output_type": "stream",
     "text": [
      "9\n"
     ]
    }
   ],
   "source": [
    "# definims variables\n",
    "a = 12  # en binario: 1100\n",
    "b = 5   # en binario: 0101\n",
    "\n",
    "# operador ^=\n",
    "a ^= b\n",
    "print(a) # resultado: 1001 (9 en decimal)"
   ]
  },
  {
   "cell_type": "markdown",
   "metadata": {},
   "source": [
    "Tambien funciona con valores booleanos ya que estos son tratados como 1 (True) y 0 (False) en operaciones bit a bit."
   ]
  },
  {
   "cell_type": "code",
   "execution_count": 5,
   "metadata": {},
   "outputs": [
    {
     "name": "stdout",
     "output_type": "stream",
     "text": [
      "True\n"
     ]
    }
   ],
   "source": [
    "# definimos variables\n",
    "a = True\n",
    "b = False\n",
    "\n",
    "# operador ^=\n",
    "a ^= b\n",
    "print(a)"
   ]
  },
  {
   "cell_type": "markdown",
   "metadata": {},
   "source": [
    "#### __Operador >>=__"
   ]
  },
  {
   "cell_type": "markdown",
   "metadata": {},
   "source": [
    "Es similar al operador >> pero permite guardar el resultado en la primera variable. _x>>=3_ es equivalente a _x=x>>3_"
   ]
  },
  {
   "cell_type": "code",
   "execution_count": null,
   "metadata": {},
   "outputs": [
    {
     "name": "stdout",
     "output_type": "stream",
     "text": [
      "5\n"
     ]
    }
   ],
   "source": [
    "# definimos la variable\n",
    "a = 10\n",
    "\n",
    "# operador >>=\n",
    "a >>= 1\n",
    "print(a)"
   ]
  },
  {
   "cell_type": "markdown",
   "metadata": {},
   "source": [
    "#### __Operador <<=__"
   ]
  },
  {
   "cell_type": "markdown",
   "metadata": {},
   "source": [
    "Similar al operador << per permite almacenar el resultado en la primera variable. _x<<=3_ es equivalente a _x = x<<3_"
   ]
  },
  {
   "cell_type": "code",
   "execution_count": 9,
   "metadata": {},
   "outputs": [
    {
     "name": "stdout",
     "output_type": "stream",
     "text": [
      "20\n"
     ]
    }
   ],
   "source": [
    "# definimos la variable\n",
    "a = 10\n",
    "\n",
    "# operador <<=\n",
    "a <<= 1\n",
    "print(a)"
   ]
  },
  {
   "cell_type": "markdown",
   "metadata": {},
   "source": [
    "## _Operadores de Comparacion_"
   ]
  },
  {
   "cell_type": "markdown",
   "metadata": {},
   "source": [
    "Estos operadores nos permiten conocer la relacion existente entre dos variables. Dado que estos operadores indican si se cumple o no una operacion, el valor que devuelven es True o False."
   ]
  },
  {
   "cell_type": "markdown",
   "metadata": {},
   "source": [
    "#### __Operador ==__"
   ]
  },
  {
   "cell_type": "markdown",
   "metadata": {},
   "source": [
    "Permite comparar si las variables introducidas en ambos lados son iguales. No confundir con el operador _=_."
   ]
  },
  {
   "cell_type": "code",
   "execution_count": 10,
   "metadata": {},
   "outputs": [
    {
     "name": "stdout",
     "output_type": "stream",
     "text": [
      "False\n"
     ]
    }
   ],
   "source": [
    "# definimos dos variables\n",
    "a = 3\n",
    "b = 7\n",
    "\n",
    "# operador ==\n",
    "print(a == b)"
   ]
  },
  {
   "cell_type": "code",
   "execution_count": 11,
   "metadata": {},
   "outputs": [
    {
     "name": "stdout",
     "output_type": "stream",
     "text": [
      "True\n",
      "True\n",
      "True\n",
      "True\n",
      "False\n",
      "True\n"
     ]
    }
   ],
   "source": [
    "# otros ejemplos\n",
    "print(1 == 1)\n",
    "print(0 == False)\n",
    "print(1 == True)\n",
    "print('falk' == 'falk')\n",
    "print(9 == '9')\n",
    "print([1,2,3] == [1,2,3])"
   ]
  },
  {
   "cell_type": "markdown",
   "metadata": {},
   "source": [
    "#### __Operador !=__"
   ]
  },
  {
   "cell_type": "markdown",
   "metadata": {},
   "source": [
    "Devuelve True si los elementos a comparar son distintos y False si estos son iguales."
   ]
  },
  {
   "cell_type": "code",
   "execution_count": 12,
   "metadata": {},
   "outputs": [
    {
     "name": "stdout",
     "output_type": "stream",
     "text": [
      "False\n",
      "False\n",
      "False\n",
      "False\n",
      "True\n",
      "False\n"
     ]
    }
   ],
   "source": [
    "print(1 != 1)\n",
    "print(0 != False)\n",
    "print(1 != True)\n",
    "print('falk' != 'falk')\n",
    "print(9 != '9')\n",
    "print([1,2,3] != [1,2,3])"
   ]
  },
  {
   "cell_type": "markdown",
   "metadata": {},
   "source": [
    "#### __Operador >__"
   ]
  },
  {
   "cell_type": "markdown",
   "metadata": {},
   "source": [
    "Devuelve True si el primer valor es mayor que el segundo y False de lo contrario."
   ]
  },
  {
   "cell_type": "code",
   "execution_count": 13,
   "metadata": {},
   "outputs": [
    {
     "name": "stdout",
     "output_type": "stream",
     "text": [
      "True\n",
      "False\n"
     ]
    }
   ],
   "source": [
    "print(3 > 1)\n",
    "print(3 > 19)"
   ]
  },
  {
   "cell_type": "markdown",
   "metadata": {},
   "source": [
    "Python trata al tip booleano como numeros por lo que podemos comparar True como si se tratase de 1 y False como si fuera 0."
   ]
  },
  {
   "cell_type": "code",
   "execution_count": null,
   "metadata": {},
   "outputs": [
    {
     "name": "stdout",
     "output_type": "stream",
     "text": [
      "True\n",
      "True\n",
      "False\n"
     ]
    }
   ],
   "source": [
    "print(True == 1)\n",
    "print(True > 0.9999)\n",
    "print(False > 2)"
   ]
  },
  {
   "cell_type": "markdown",
   "metadata": {},
   "source": [
    "#### __Operador <__"
   ]
  },
  {
   "cell_type": "markdown",
   "metadata": {},
   "source": [
    "Devuelve True si el primer elemento es menor que el segundo."
   ]
  },
  {
   "cell_type": "code",
   "execution_count": 16,
   "metadata": {},
   "outputs": [
    {
     "name": "stdout",
     "output_type": "stream",
     "text": [
      "False\n",
      "True\n"
     ]
    }
   ],
   "source": [
    "print(3 < 1)\n",
    "print(3 < 7)"
   ]
  },
  {
   "cell_type": "markdown",
   "metadata": {},
   "source": [
    "Es valido aplicar operadores de comparacion sobre las cadenas de texto, pero el comportamiento es dificil de ver a simple vista.\n",
    "\n",
    "Ejemplo 'A' es menor que 'a'. En este caso, Python compara el valor entero unicode que representa el caracter."
   ]
  },
  {
   "cell_type": "code",
   "execution_count": 17,
   "metadata": {},
   "outputs": [
    {
     "name": "stdout",
     "output_type": "stream",
     "text": [
      "True\n"
     ]
    }
   ],
   "source": [
    "print('A' < 'a')"
   ]
  },
  {
   "cell_type": "markdown",
   "metadata": {},
   "source": [
    "Si utilizamos la funcion _ord()_ podemos obtener el valor del caracter pasado y por tanto comprobar que se estan comparando numeros."
   ]
  },
  {
   "cell_type": "code",
   "execution_count": 18,
   "metadata": {},
   "outputs": [
    {
     "name": "stdout",
     "output_type": "stream",
     "text": [
      "65\n",
      "97\n"
     ]
    }
   ],
   "source": [
    "print(ord('A'))\n",
    "print(ord('a'))"
   ]
  }
 ],
 "metadata": {
  "kernelspec": {
   "display_name": "base",
   "language": "python",
   "name": "python3"
  },
  "language_info": {
   "codemirror_mode": {
    "name": "ipython",
    "version": 3
   },
   "file_extension": ".py",
   "mimetype": "text/x-python",
   "name": "python",
   "nbconvert_exporter": "python",
   "pygments_lexer": "ipython3",
   "version": "3.9.12"
  }
 },
 "nbformat": 4,
 "nbformat_minor": 2
}
