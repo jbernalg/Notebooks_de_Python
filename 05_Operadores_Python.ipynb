{
 "cells": [
  {
   "cell_type": "markdown",
   "metadata": {},
   "source": [
    "# __Operadores de Python__"
   ]
  },
  {
   "cell_type": "markdown",
   "metadata": {},
   "source": [
    "Los operadores son simbolos especiales que representan calculos, coincidencias, condicionales, entre otros. Los valores que utiliza el operador se denomian operandos"
   ]
  },
  {
   "cell_type": "markdown",
   "metadata": {},
   "source": [
    "## _Operadores Aritmeticos_"
   ]
  },
  {
   "cell_type": "markdown",
   "metadata": {},
   "source": [
    "__Operador Suma (+)__"
   ]
  },
  {
   "cell_type": "code",
   "execution_count": 1,
   "metadata": {},
   "outputs": [
    {
     "name": "stdout",
     "output_type": "stream",
     "text": [
      "10\n"
     ]
    }
   ],
   "source": [
    "# definimos dos variables\n",
    "x = 3\n",
    "y = 7\n",
    "\n",
    "# mostramos resultado de la suma\n",
    "print(x + y)"
   ]
  },
  {
   "cell_type": "markdown",
   "metadata": {},
   "source": [
    "__Operador Resta (-)__"
   ]
  },
  {
   "cell_type": "code",
   "execution_count": 2,
   "metadata": {},
   "outputs": [
    {
     "name": "stdout",
     "output_type": "stream",
     "text": [
      "35\n"
     ]
    }
   ],
   "source": [
    "# definimos dos variables\n",
    "x = 41\n",
    "y = 6\n",
    "\n",
    "# mostramos resultado de la resta\n",
    "print(x - y)"
   ]
  },
  {
   "cell_type": "markdown",
   "metadata": {},
   "source": [
    "__Operador Producto (*)__"
   ]
  },
  {
   "cell_type": "code",
   "execution_count": 1,
   "metadata": {},
   "outputs": [
    {
     "name": "stdout",
     "output_type": "stream",
     "text": [
      "20\n"
     ]
    }
   ],
   "source": [
    "# definimos dos variables\n",
    "x = 4\n",
    "y = 5\n",
    "\n",
    "# mostramos resultado de la multiplicacin\n",
    "print(x*y)"
   ]
  },
  {
   "cell_type": "markdown",
   "metadata": {},
   "source": [
    "__Operador Division (/)__"
   ]
  },
  {
   "cell_type": "code",
   "execution_count": 2,
   "metadata": {},
   "outputs": [
    {
     "name": "stdout",
     "output_type": "stream",
     "text": [
      "0.7547169811320755\n"
     ]
    }
   ],
   "source": [
    "# definimos dos variables\n",
    "x = 4\n",
    "y = 5.3\n",
    "\n",
    "# mostramos resultado de la division\n",
    "print(x/y)"
   ]
  },
  {
   "cell_type": "markdown",
   "metadata": {},
   "source": [
    "Es importante recordar que la division de un numero por cero no esta definida por lo que en Python genera un error"
   ]
  },
  {
   "cell_type": "code",
   "execution_count": 3,
   "metadata": {},
   "outputs": [
    {
     "ename": "ZeroDivisionError",
     "evalue": "division by zero",
     "output_type": "error",
     "traceback": [
      "\u001b[0;31m---------------------------------------------------------------------------\u001b[0m",
      "\u001b[0;31mZeroDivisionError\u001b[0m                         Traceback (most recent call last)",
      "Input \u001b[0;32mIn [3]\u001b[0m, in \u001b[0;36m<cell line: 1>\u001b[0;34m()\u001b[0m\n\u001b[0;32m----> 1\u001b[0m \u001b[38;5;28mprint\u001b[39m(\u001b[38;5;241;43m3\u001b[39;49m\u001b[38;5;241;43m/\u001b[39;49m\u001b[38;5;241;43m0\u001b[39;49m)\n",
      "\u001b[0;31mZeroDivisionError\u001b[0m: division by zero"
     ]
    }
   ],
   "source": [
    "print(3/0)"
   ]
  },
  {
   "cell_type": "markdown",
   "metadata": {},
   "source": [
    "__Operador Modulo (%)__\n",
    "\n",
    "Calcula el resto de la division entera entre dos numeros. Es decir, si dividimos 10 entre 3, el cociente seria 3 y el resto 1. Ese resto es el modulo."
   ]
  },
  {
   "cell_type": "code",
   "execution_count": 4,
   "metadata": {},
   "outputs": [
    {
     "name": "stdout",
     "output_type": "stream",
     "text": [
      "1\n"
     ]
    }
   ],
   "source": [
    "# definimos dos variables\n",
    "x = 10\n",
    "y = 3\n",
    "\n",
    "# mostramos resultado del modulo\n",
    "print(x%3)"
   ]
  },
  {
   "cell_type": "markdown",
   "metadata": {},
   "source": [
    "__Operador Exponente (**)__\n",
    "\n",
    "Realiza el exponente de un numero"
   ]
  },
  {
   "cell_type": "code",
   "execution_count": 5,
   "metadata": {},
   "outputs": [
    {
     "name": "stdout",
     "output_type": "stream",
     "text": [
      "16\n"
     ]
    }
   ],
   "source": [
    "# definimos dos variables\n",
    "x = 2\n",
    "y = 4\n",
    "\n",
    "print(x**y)"
   ]
  },
  {
   "cell_type": "markdown",
   "metadata": {},
   "source": [
    "__Operador Cociente (//)__\n",
    "\n",
    "Calcula el cociente de la division entre dos numeros."
   ]
  },
  {
   "cell_type": "code",
   "execution_count": 7,
   "metadata": {},
   "outputs": [
    {
     "name": "stdout",
     "output_type": "stream",
     "text": [
      "3\n"
     ]
    }
   ],
   "source": [
    "# definimos dos variables\n",
    "x = 10\n",
    "y = 3\n",
    "\n",
    "print(x//y)"
   ]
  },
  {
   "cell_type": "markdown",
   "metadata": {},
   "source": [
    "## _Operadores de Asignacion_"
   ]
  },
  {
   "cell_type": "markdown",
   "metadata": {},
   "source": [
    "Permiten realizar una operacion y almacenar su resultado en la variable inicial. Surge de la combinacion del operador _=_ y los operadores aritmeticos."
   ]
  },
  {
   "cell_type": "markdown",
   "metadata": {},
   "source": [
    "__Operador =__\n",
    "\n",
    "Asigna a la variable de la izquierda el contenido que le ponemos a la derecha"
   ]
  },
  {
   "cell_type": "code",
   "execution_count": 8,
   "metadata": {},
   "outputs": [
    {
     "name": "stdout",
     "output_type": "stream",
     "text": [
      "33\n"
     ]
    }
   ],
   "source": [
    "# definimos la variable x\n",
    "x = 33\n",
    "\n",
    "# mostramos su valor\n",
    "print(x)"
   ]
  },
  {
   "cell_type": "markdown",
   "metadata": {},
   "source": [
    "__Operador +=__\n",
    "\n",
    "Los operadores de asignacion no son mas que atajos para escribir otros operadores de manera mas corta y asignar su resultado a la variable inicial. En _x += 1_  el operador _+=_ es equivalente a _x = x + 1_"
   ]
  },
  {
   "cell_type": "code",
   "execution_count": 11,
   "metadata": {},
   "outputs": [
    {
     "name": "stdout",
     "output_type": "stream",
     "text": [
      "2\n",
      "2\n"
     ]
    }
   ],
   "source": [
    "# operador +=\n",
    "x = 1 # definimos la variable\n",
    "x += 1\n",
    "print(x)\n",
    "\n",
    "# sin operador\n",
    "y = 1 # definimos la variable\n",
    "y = y + 1\n",
    "print(y)"
   ]
  },
  {
   "cell_type": "markdown",
   "metadata": {},
   "source": [
    "Aunque ambas expresiones llevan a resultados similares, no son lo mismo. El operador que Python invoca por debajo al ejecutar _x+=1_ es \"_iadd_\" mientras que en _x = x + 1_ invoca \"_add_\". La diferencia podria verse al aplicar el operador _+=_ en una lista "
   ]
  },
  {
   "cell_type": "code",
   "execution_count": 12,
   "metadata": {},
   "outputs": [
    {
     "name": "stdout",
     "output_type": "stream",
     "text": [
      "[1, 2, 3, 4, 5]\n"
     ]
    }
   ],
   "source": [
    "# definimos una lista\n",
    "x = [1,2,3]\n",
    "\n",
    "# aplicamos el operador para agregar dos elementos\n",
    "x += [4,5]\n",
    "\n",
    "# mostramos el resultado\n",
    "print(x)"
   ]
  },
  {
   "cell_type": "markdown",
   "metadata": {},
   "source": [
    "__Operador -=__\n",
    "\n",
    "Es equivalente a restar y asignar el resultado a la variable inicial. _x -= 1_ es equivalente a _x = x -1_. Es muy usado para decrementar el valor de una variable."
   ]
  },
  {
   "cell_type": "code",
   "execution_count": 13,
   "metadata": {},
   "outputs": [
    {
     "name": "stdout",
     "output_type": "stream",
     "text": [
      "2\n",
      "2\n"
     ]
    }
   ],
   "source": [
    "# operador -=\n",
    "x = 3\n",
    "x -= 1\n",
    "print(x)\n",
    "\n",
    "# sin operador\n",
    "y = 3\n",
    "y -= 1\n",
    "print(y)"
   ]
  },
  {
   "cell_type": "markdown",
   "metadata": {},
   "source": [
    "Una opcion para explorar los limites del lenguaje mas que sea practico es restar _-1_, lo que equivale a sumar. Evita hacerlo para no caer en confusiones."
   ]
  },
  {
   "cell_type": "code",
   "execution_count": 14,
   "metadata": {},
   "outputs": [
    {
     "name": "stdout",
     "output_type": "stream",
     "text": [
      "1\n"
     ]
    }
   ],
   "source": [
    "x = 0\n",
    "x -= -1\n",
    "print(x)"
   ]
  },
  {
   "cell_type": "markdown",
   "metadata": {},
   "source": [
    "__Operador *=__\n",
    "\n",
    "Equivale a multiplicar una variable por otra y almacenar el resultado en la primera. _x*=2_ es equivalente a _x=x*2_. Los operadores de asignacion tambien pueden usarse con dos variables."
   ]
  },
  {
   "cell_type": "code",
   "execution_count": 15,
   "metadata": {},
   "outputs": [
    {
     "name": "stdout",
     "output_type": "stream",
     "text": [
      "36\n"
     ]
    }
   ],
   "source": [
    "# definimos variables\n",
    "x = 12; y = 3\n",
    "\n",
    "# operador *=\n",
    "x *= y\n",
    "print(x)"
   ]
  }
 ],
 "metadata": {
  "kernelspec": {
   "display_name": "base",
   "language": "python",
   "name": "python3"
  },
  "language_info": {
   "codemirror_mode": {
    "name": "ipython",
    "version": 3
   },
   "file_extension": ".py",
   "mimetype": "text/x-python",
   "name": "python",
   "nbconvert_exporter": "python",
   "pygments_lexer": "ipython3",
   "version": "3.9.12"
  }
 },
 "nbformat": 4,
 "nbformat_minor": 2
}
