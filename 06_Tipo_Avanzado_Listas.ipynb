{
 "cells": [
  {
   "cell_type": "markdown",
   "metadata": {
    "id": "fN-p_QQVaacF"
   },
   "source": [
    "# **Tipo de dato avanzado : Listas**"
   ]
  },
  {
   "cell_type": "markdown",
   "metadata": {
    "id": "cSbtcZlhaacG"
   },
   "source": [
    "1. La lista es otro tipo de objeto en Python, tal como lo son los números, cadenas y booleanos. A diferencia de estos, las listas son utilizadas para almacenar varios objetos.\n",
    "\n",
    "2. Una lista se crea agrupando los objetos almacenados entre corchetes ($[\\ ]$) y separando estos con comas.\n",
    "\n",
    "NOTA: Entiéndase como objeto cualquier tipo de dato numérico, _string_, _booleano_, incluso otros tipos de datos como las mismas lista y más."
   ]
  },
  {
   "cell_type": "markdown",
   "metadata": {
    "id": "bVUtEWafaacH"
   },
   "source": [
    "![lista_pos2.png](data:image/png;base64,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)"
   ]
  },
  {
   "cell_type": "markdown",
   "metadata": {},
   "source": [
    "## _Creación de Listas_"
   ]
  },
  {
   "cell_type": "markdown",
   "metadata": {},
   "source": [
    "Existen dos formas para crear listas vacías."
   ]
  },
  {
   "cell_type": "code",
   "execution_count": 33,
   "metadata": {},
   "outputs": [
    {
     "data": {
      "text/plain": [
       "[]"
      ]
     },
     "execution_count": 33,
     "metadata": {},
     "output_type": "execute_result"
    }
   ],
   "source": [
    "# primera forma\n",
    "lista = list()\n",
    "lista"
   ]
  },
  {
   "cell_type": "code",
   "execution_count": 34,
   "metadata": {},
   "outputs": [
    {
     "data": {
      "text/plain": [
       "[]"
      ]
     },
     "execution_count": 34,
     "metadata": {},
     "output_type": "execute_result"
    }
   ],
   "source": [
    "# segunda forma\n",
    "lista = []\n",
    "lista"
   ]
  },
  {
   "cell_type": "markdown",
   "metadata": {
    "id": "u-DI5ZfwaacH"
   },
   "source": [
    "Pueden contener elementos del mismo tipos:"
   ]
  },
  {
   "cell_type": "code",
   "execution_count": 1,
   "metadata": {
    "id": "sra6D11CaacH"
   },
   "outputs": [
    {
     "data": {
      "text/plain": [
       "[2, 3, 5, 7, 11, 13]"
      ]
     },
     "execution_count": 1,
     "metadata": {},
     "output_type": "execute_result"
    }
   ],
   "source": [
    "primos = [2, 3, 5, 7, 11, 13]\n",
    "primos"
   ]
  },
  {
   "cell_type": "code",
   "execution_count": 49,
   "metadata": {
    "id": "woRzuu9OaacI"
   },
   "outputs": [
    {
     "data": {
      "text/plain": [
       "['Lunes', 'Martes', 'Miércoles', 'Jueves', 'Viernes', 'Sábado', 'Domingo']"
      ]
     },
     "execution_count": 49,
     "metadata": {},
     "output_type": "execute_result"
    }
   ],
   "source": [
    "diasSemana = [\"Lunes\", \"Martes\", \"Miércoles\", \"Jueves\", \"Viernes\", \"Sábado\", \"Domingo\"]\n",
    "diasSemana"
   ]
  },
  {
   "cell_type": "markdown",
   "metadata": {
    "id": "CIQ39vK4aacJ"
   },
   "source": [
    "O bien, pueden contener elementos de naturaleza diferente."
   ]
  },
  {
   "cell_type": "code",
   "execution_count": 3,
   "metadata": {
    "id": "VlhA2cahaacJ"
   },
   "outputs": [
    {
     "data": {
      "text/plain": [
       "['Lionel Messi', 9, 'Python', 3.141592, True]"
      ]
     },
     "execution_count": 3,
     "metadata": {},
     "output_type": "execute_result"
    }
   ],
   "source": [
    "fecha = [\"Lionel Messi\", 9 , \"Python\" , 3.141592, True]\n",
    "fecha"
   ]
  },
  {
   "cell_type": "markdown",
   "metadata": {},
   "source": [
    "## _Listas Anidadas_"
   ]
  },
  {
   "cell_type": "markdown",
   "metadata": {
    "id": "yAd3pzO-aacK"
   },
   "source": [
    "Son listas dentro de listas. Se conoce como $listas\\ anidadas$."
   ]
  },
  {
   "cell_type": "code",
   "execution_count": 36,
   "metadata": {
    "id": "uaNdBhk1aacK"
   },
   "outputs": [
    {
     "data": {
      "text/plain": [
       "[['Back to the future', 1985], ['Grease', 1978], ['Karate Kid', 1984]]"
      ]
     },
     "execution_count": 36,
     "metadata": {},
     "output_type": "execute_result"
    }
   ],
   "source": [
    "peliculas1 = [\n",
    "                [\"Back to the future\",   1985],\n",
    "                [\"Grease\"            ,   1978],\n",
    "                [\"Karate Kid\"        ,   1984]\n",
    "             ]\n",
    "peliculas1"
   ]
  },
  {
   "cell_type": "markdown",
   "metadata": {
    "id": "x-7sSRbeaacK"
   },
   "source": [
    "Las listas pueden tener varios niveles de anidación."
   ]
  },
  {
   "cell_type": "code",
   "execution_count": 37,
   "metadata": {
    "id": "LZsUAihIaacK"
   },
   "outputs": [
    {
     "data": {
      "text/plain": [
       "[['Back to the future',\n",
       "  1985,\n",
       "  [['Michael J. Fox', 1961], ['Christoper Lloyd', 1938]]],\n",
       " ['Grease', 1978, [['John Travolta', 1954], ['Olivia Newton-John', 1948]]],\n",
       " ['Karate Kid', 1984, [['Ralph Macchio', 1961], ['Pat Morita', 1932]]]]"
      ]
     },
     "execution_count": 37,
     "metadata": {},
     "output_type": "execute_result"
    }
   ],
   "source": [
    "peliculas2 = [\n",
    "              [\"Back to the future\",\n",
    "               1985,\n",
    "               [\n",
    "                   [\"Michael J. Fox\", 1961],\n",
    "                   [\"Christoper Lloyd\", 1938]\n",
    "               ]\n",
    "              ],\n",
    "              [\"Grease\", 1978,[[\"John Travolta\", 1954], [\"Olivia Newton-John\", 1948]]],\n",
    "              [\"Karate Kid\", 1984, [[\"Ralph Macchio\", 1961],[\"Pat Morita\", 1932]]]\n",
    "            ]\n",
    "peliculas2"
   ]
  },
  {
   "cell_type": "markdown",
   "metadata": {},
   "source": [
    "Las listas pueden ser __concatenadas__ y __multiplicadas__  de la misma manera que las cadenas."
   ]
  },
  {
   "cell_type": "code",
   "execution_count": 38,
   "metadata": {},
   "outputs": [
    {
     "name": "stdout",
     "output_type": "stream",
     "text": [
      "[1, 2, 3, 4, 5, 6]\n",
      "[4, 5, 6, 1, 2, 3]\n",
      "[1, 2, 3, 1, 2, 3, 1, 2, 3, 1, 2, 3, 1, 2, 3]\n",
      "[1, 2, 3]\n"
     ]
    }
   ],
   "source": [
    "nums = [1,2,3]\n",
    "print(nums + [4,5,6])\n",
    "print([4,5,6] + nums)\n",
    "print (nums * 5)\n",
    "print(nums)"
   ]
  },
  {
   "cell_type": "markdown",
   "metadata": {},
   "source": [
    "## _Subíndices_"
   ]
  },
  {
   "cell_type": "markdown",
   "metadata": {},
   "source": [
    "Una lista suele interpretarse como una fila de casillas, en donde cada casilla se almacena un elemento. Cada una de las casillas se identifica con un valor de una secuencia de números. Cada valor se conoce como subíndice.\n",
    "\n",
    "El primer elemento le corresponde el subíndice 0, el segundo elemento le corresponde el índice 1..., el enésimo elemento le corresponde el índice n-1.\n",
    "\n",
    "Para acceder al objeto almacenado en la lista, se utiliza el nombre de la lista, seguido de corchetes ($[\\ ]$) y dentro de estos la posición ($subíndice$) en la que se encuentra el objeto de interés."
   ]
  },
  {
   "cell_type": "code",
   "execution_count": 39,
   "metadata": {},
   "outputs": [
    {
     "data": {
      "text/plain": [
       "[['Back to the future',\n",
       "  1985,\n",
       "  [['Michael J. Fox', 1961], ['Christoper Lloyd', 1938]]],\n",
       " ['Grease', 1978, [['John Travolta', 1954], ['Olivia Newton-John', 1948]]],\n",
       " ['Karate Kid', 1984, [['Ralph Macchio', 1961], ['Pat Morita', 1932]]]]"
      ]
     },
     "execution_count": 39,
     "metadata": {},
     "output_type": "execute_result"
    }
   ],
   "source": [
    "peliculas2"
   ]
  },
  {
   "cell_type": "code",
   "execution_count": 8,
   "metadata": {},
   "outputs": [
    {
     "data": {
      "text/plain": [
       "['Back to the future',\n",
       " 1985,\n",
       " [['Michael J. Fox', 1961], ['Christoper Lloyd', 1938]]]"
      ]
     },
     "execution_count": 8,
     "metadata": {},
     "output_type": "execute_result"
    }
   ],
   "source": [
    "# primer elemento de la lista anterior\n",
    "peliculas2[0]"
   ]
  },
  {
   "cell_type": "code",
   "execution_count": 40,
   "metadata": {},
   "outputs": [
    {
     "data": {
      "text/plain": [
       "['Grease', 1978, [['John Travolta', 1954], ['Olivia Newton-John', 1948]]]"
      ]
     },
     "execution_count": 40,
     "metadata": {},
     "output_type": "execute_result"
    }
   ],
   "source": [
    "# Segundo elemento\n",
    "peliculas2[1]"
   ]
  },
  {
   "cell_type": "markdown",
   "metadata": {},
   "source": [
    "Para el caso en que sean listas anidadas, se utilizan los corchetes ($[\\ ]$) tantas veces como listas haya para ingresar."
   ]
  },
  {
   "cell_type": "code",
   "execution_count": 41,
   "metadata": {},
   "outputs": [
    {
     "data": {
      "text/plain": [
       "[['Back to the future', 1985], ['Grease', 1978], ['Karate Kid', 1984]]"
      ]
     },
     "execution_count": 41,
     "metadata": {},
     "output_type": "execute_result"
    }
   ],
   "source": [
    "# lista de peliculas y su respectivo year\n",
    "peliculas1"
   ]
  },
  {
   "cell_type": "code",
   "execution_count": 43,
   "metadata": {},
   "outputs": [
    {
     "data": {
      "text/plain": [
       "['Back to the future', 1985]"
      ]
     },
     "execution_count": 43,
     "metadata": {},
     "output_type": "execute_result"
    }
   ],
   "source": [
    "# obtener informacion de la primera pelicula\n",
    "peliculas1[0]"
   ]
  },
  {
   "cell_type": "code",
   "execution_count": 44,
   "metadata": {},
   "outputs": [
    {
     "data": {
      "text/plain": [
       "'Karate Kid'"
      ]
     },
     "execution_count": 44,
     "metadata": {},
     "output_type": "execute_result"
    }
   ],
   "source": [
    "# obtener nombre de la tercera pelicula\n",
    "peliculas1[2][0]"
   ]
  },
  {
   "cell_type": "code",
   "execution_count": 45,
   "metadata": {},
   "outputs": [
    {
     "data": {
      "text/plain": [
       "[['Back to the future',\n",
       "  1985,\n",
       "  [['Michael J. Fox', 1961], ['Christoper Lloyd', 1938]]],\n",
       " ['Grease', 1978, [['John Travolta', 1954], ['Olivia Newton-John', 1948]]],\n",
       " ['Karate Kid', 1984, [['Ralph Macchio', 1961], ['Pat Morita', 1932]]]]"
      ]
     },
     "execution_count": 45,
     "metadata": {},
     "output_type": "execute_result"
    }
   ],
   "source": [
    "# lista con varios niveles de anidacion\n",
    "peliculas2"
   ]
  },
  {
   "cell_type": "code",
   "execution_count": 46,
   "metadata": {},
   "outputs": [
    {
     "data": {
      "text/plain": [
       "'Olivia Newton-John'"
      ]
     },
     "execution_count": 46,
     "metadata": {},
     "output_type": "execute_result"
    }
   ],
   "source": [
    "# obtener la protagonista de Grease\n",
    "peliculas2[1][2][1][0]"
   ]
  },
  {
   "cell_type": "code",
   "execution_count": 47,
   "metadata": {},
   "outputs": [
    {
     "data": {
      "text/plain": [
       "1984"
      ]
     },
     "execution_count": 47,
     "metadata": {},
     "output_type": "execute_result"
    }
   ],
   "source": [
    "# obtener el year de la pelicula Karate Kid\n",
    "peliculas2[2][1]"
   ]
  },
  {
   "cell_type": "markdown",
   "metadata": {},
   "source": [
    "Indexar fuera de los límites de los valores posibles de una lista genera un <b>IndexError</b>."
   ]
  },
  {
   "cell_type": "code",
   "execution_count": 50,
   "metadata": {},
   "outputs": [
    {
     "data": {
      "text/plain": [
       "['Lunes', 'Martes', 'Miércoles', 'Jueves', 'Viernes', 'Sábado', 'Domingo']"
      ]
     },
     "execution_count": 50,
     "metadata": {},
     "output_type": "execute_result"
    }
   ],
   "source": [
    "diasSemana"
   ]
  },
  {
   "cell_type": "code",
   "execution_count": 51,
   "metadata": {},
   "outputs": [
    {
     "ename": "IndexError",
     "evalue": "list index out of range",
     "output_type": "error",
     "traceback": [
      "\u001b[0;31m---------------------------------------------------------------------------\u001b[0m",
      "\u001b[0;31mIndexError\u001b[0m                                Traceback (most recent call last)",
      "Input \u001b[0;32mIn [51]\u001b[0m, in \u001b[0;36m<cell line: 1>\u001b[0;34m()\u001b[0m\n\u001b[0;32m----> 1\u001b[0m \u001b[43mdiasSemana\u001b[49m\u001b[43m[\u001b[49m\u001b[38;5;241;43m7\u001b[39;49m\u001b[43m]\u001b[49m\n",
      "\u001b[0;31mIndexError\u001b[0m: list index out of range"
     ]
    }
   ],
   "source": [
    "diasSemana[7]"
   ]
  },
  {
   "cell_type": "code",
   "execution_count": 52,
   "metadata": {
    "id": "Y06FsZMPaacL"
   },
   "outputs": [
    {
     "name": "stdout",
     "output_type": "stream",
     "text": [
      "Hola\n",
      "mundo\n",
      "!!!\n",
      "2.71\n",
      "Python\n",
      "True\n"
     ]
    }
   ],
   "source": [
    "cosas = [\"Hola\", \"mundo\", \"!!!\", 2.71, \"Python\", True]\n",
    "print(cosas[0])\n",
    "print(cosas[1])\n",
    "print(cosas[2])\n",
    "print(cosas[3])\n",
    "print(cosas[4])\n",
    "print(cosas[5])"
   ]
  },
  {
   "cell_type": "markdown",
   "metadata": {},
   "source": [
    "También podemos utilizar subíndices con valores negativos.\n",
    "\n",
    "Los subíndices negativos referencian a los elementos de la lista en reversa. -1 indica el último elemento de la lista, -2 el penúltimo..., y -n el primer elemento de la lista, siendo n el número de elementos de la lista"
   ]
  },
  {
   "cell_type": "code",
   "execution_count": 53,
   "metadata": {},
   "outputs": [
    {
     "data": {
      "text/plain": [
       "True"
      ]
     },
     "execution_count": 53,
     "metadata": {},
     "output_type": "execute_result"
    }
   ],
   "source": [
    "# ultimo elemento de la lista\n",
    "cosas[-1]"
   ]
  },
  {
   "cell_type": "code",
   "execution_count": 54,
   "metadata": {},
   "outputs": [
    {
     "data": {
      "text/plain": [
       "'Python'"
      ]
     },
     "execution_count": 54,
     "metadata": {},
     "output_type": "execute_result"
    }
   ],
   "source": [
    "# penultimo elemento de la lista\n",
    "cosas[-2]"
   ]
  },
  {
   "cell_type": "code",
   "execution_count": 55,
   "metadata": {},
   "outputs": [
    {
     "data": {
      "text/plain": [
       "'Hola'"
      ]
     },
     "execution_count": 55,
     "metadata": {},
     "output_type": "execute_result"
    }
   ],
   "source": [
    "# primer elemento de la lista\n",
    "cosas[-6]"
   ]
  },
  {
   "cell_type": "markdown",
   "metadata": {},
   "source": [
    "## _Modificar Elementos_"
   ]
  },
  {
   "cell_type": "markdown",
   "metadata": {},
   "source": [
    "Para cambiar el dato almacenado en un subíndice de la lista, utilizamos la misma sintaxis de acceso acompañado del operador de asignación (=) y el valor a asignar."
   ]
  },
  {
   "cell_type": "code",
   "execution_count": 56,
   "metadata": {},
   "outputs": [
    {
     "data": {
      "text/plain": [
       "['Hola', 'mundo', '!!!', 2.71, 'Python', True]"
      ]
     },
     "execution_count": 56,
     "metadata": {},
     "output_type": "execute_result"
    }
   ],
   "source": [
    "cosas"
   ]
  },
  {
   "cell_type": "code",
   "execution_count": 57,
   "metadata": {},
   "outputs": [
    {
     "data": {
      "text/plain": [
       "['Hola', 'Gente', '!!!', 2.71, 'Python', True]"
      ]
     },
     "execution_count": 57,
     "metadata": {},
     "output_type": "execute_result"
    }
   ],
   "source": [
    "# modificar segundo elemento de la lista\n",
    "cosas[1] = 'Gente'\n",
    "cosas"
   ]
  },
  {
   "cell_type": "markdown",
   "metadata": {},
   "source": [
    "## _Agregar Elementos_"
   ]
  },
  {
   "cell_type": "markdown",
   "metadata": {},
   "source": [
    "#### __Método Append__"
   ]
  },
  {
   "cell_type": "markdown",
   "metadata": {},
   "source": [
    "Para agregar un dato a una lista, utilizamos el método append. El método append recibe como argumento el dato a agregar, aumenta el tamaño de la lista y agrega el nuevo dato como su último elemento."
   ]
  },
  {
   "cell_type": "code",
   "execution_count": 38,
   "metadata": {},
   "outputs": [
    {
     "data": {
      "text/plain": [
       "['Hola', 'Gente', '!!!', 2.71, 'Python', True]"
      ]
     },
     "execution_count": 38,
     "metadata": {},
     "output_type": "execute_result"
    }
   ],
   "source": [
    "cosas"
   ]
  },
  {
   "cell_type": "code",
   "execution_count": 39,
   "metadata": {},
   "outputs": [
    {
     "data": {
      "text/plain": [
       "['Hola', 'Gente', '!!!', 2.71, 'Python', True, False]"
      ]
     },
     "execution_count": 39,
     "metadata": {},
     "output_type": "execute_result"
    }
   ],
   "source": [
    "# agregar valor False a la lista\n",
    "cosas.append(False)\n",
    "cosas"
   ]
  },
  {
   "cell_type": "markdown",
   "metadata": {},
   "source": [
    "#### __Método Extend__"
   ]
  },
  {
   "cell_type": "markdown",
   "metadata": {},
   "source": [
    "El método extend nos permite añadir múltiples datos a través de una lista. _extend_ recibe como argumento una lista que contiene los datos a agregar."
   ]
  },
  {
   "cell_type": "code",
   "execution_count": 40,
   "metadata": {},
   "outputs": [
    {
     "data": {
      "text/plain": [
       "['Hola', 'Gente', '!!!', 2.71, 'Python', True, False]"
      ]
     },
     "execution_count": 40,
     "metadata": {},
     "output_type": "execute_result"
    }
   ],
   "source": [
    "cosas"
   ]
  },
  {
   "cell_type": "code",
   "execution_count": 41,
   "metadata": {},
   "outputs": [
    {
     "data": {
      "text/plain": [
       "['Hola', 'Gente', '!!!', 2.71, 'Python', True, False, 'tarde', 'noche']"
      ]
     },
     "execution_count": 41,
     "metadata": {},
     "output_type": "execute_result"
    }
   ],
   "source": [
    "# agregar varios elementos a la lista\n",
    "cosas.extend(['tarde', 'noche'])\n",
    "cosas"
   ]
  },
  {
   "cell_type": "markdown",
   "metadata": {},
   "source": [
    "#### __Método Operador__"
   ]
  },
  {
   "cell_type": "markdown",
   "metadata": {},
   "source": [
    "También podemos añadir múltiples datos utilizando el operador de asignación suma (+=), con los nuevos datos introducidos en otra lista."
   ]
  },
  {
   "cell_type": "code",
   "execution_count": 42,
   "metadata": {},
   "outputs": [
    {
     "data": {
      "text/plain": [
       "['Hola',\n",
       " 'Gente',\n",
       " '!!!',\n",
       " 2.71,\n",
       " 'Python',\n",
       " True,\n",
       " False,\n",
       " 'tarde',\n",
       " 'noche',\n",
       " 'zapato',\n",
       " 27]"
      ]
     },
     "execution_count": 42,
     "metadata": {},
     "output_type": "execute_result"
    }
   ],
   "source": [
    "cosas += ['zapato', 27]\n",
    "cosas"
   ]
  },
  {
   "cell_type": "markdown",
   "metadata": {},
   "source": [
    "#### __Método insert__"
   ]
  },
  {
   "cell_type": "markdown",
   "metadata": {},
   "source": [
    "El método _insert()_, inserta un objeto en una posición determinada de la lista."
   ]
  },
  {
   "cell_type": "code",
   "execution_count": 43,
   "metadata": {},
   "outputs": [
    {
     "name": "stdout",
     "output_type": "stream",
     "text": [
      "['Python', 'Método', 'Funciones']\n",
      "[['IA', 'Redes Neuronales', 2.71], 'Python', 'Método', 'Funciones']\n"
     ]
    }
   ],
   "source": [
    "cosas = [\"Python\",\"Funciones\"]\n",
    "\n",
    "# indicamos el indice donde deseamos insertar el nuevo elemento\n",
    "index = 1\n",
    "# utilizamos insert\n",
    "cosas.insert(index,\"Método\")\n",
    "# mostramos la lista\n",
    "print(cosas)\n",
    "# agregamos mas valores a la lista\n",
    "cosas.insert(0 ,[\"IA\",\"Redes Neuronales\", 2.71])\n",
    "# mostramos la lista\n",
    "print(cosas)"
   ]
  },
  {
   "cell_type": "markdown",
   "metadata": {},
   "source": [
    "#### __Concatenación elementos de listas__"
   ]
  },
  {
   "cell_type": "code",
   "execution_count": 56,
   "metadata": {},
   "outputs": [
    {
     "data": {
      "text/plain": [
       "[['IA', 'Redes Neuronales', 2.71], 'Python', 'Método', 'Funciones']"
      ]
     },
     "execution_count": 56,
     "metadata": {},
     "output_type": "execute_result"
    }
   ],
   "source": [
    "cosas"
   ]
  },
  {
   "cell_type": "code",
   "execution_count": 58,
   "metadata": {},
   "outputs": [
    {
     "data": {
      "text/plain": [
       "'Método Python'"
      ]
     },
     "execution_count": 58,
     "metadata": {},
     "output_type": "execute_result"
    }
   ],
   "source": [
    "# concatenacion de elementos de una lista\n",
    "cosas[2] + ' ' + cosas[1]"
   ]
  },
  {
   "cell_type": "markdown",
   "metadata": {},
   "source": [
    "## Eliminar Elementos"
   ]
  },
  {
   "cell_type": "markdown",
   "metadata": {
    "id": "TVG9Sf4waacL"
   },
   "source": [
    "Al momento de eliminar un dato de la lista, esta se reacomodará.\n",
    "\n",
    "Con la reacomodación, el tamaño de la lista se verá reducido en uno y los elementos ubicados a la derecha del dato eliminado cambiarán su subíndice. Para remover un dato de una lista tenemos varias alternativas"
   ]
  },
  {
   "cell_type": "markdown",
   "metadata": {
    "id": "1rIDlh_uaacM"
   },
   "source": [
    "### $Sentencia\\ del$"
   ]
  },
  {
   "cell_type": "markdown",
   "metadata": {
    "id": "mub7YhTPaacM"
   },
   "source": [
    "Podemos utilizar la sentencia **del** acompañada del dato accedido a través del subíndice."
   ]
  },
  {
   "cell_type": "code",
   "execution_count": 77,
   "metadata": {
    "id": "5zj4o30haacM"
   },
   "outputs": [
    {
     "data": {
      "text/plain": [
       "['manzana', 'durazno', 'pera', 'piña']"
      ]
     },
     "execution_count": 77,
     "metadata": {},
     "output_type": "execute_result"
    }
   ],
   "source": [
    "frutas = ['manzana', 'durazno', 'pera', 'piña']\n",
    "frutas"
   ]
  },
  {
   "cell_type": "code",
   "execution_count": 78,
   "metadata": {
    "id": "i6Hez6OQaacM"
   },
   "outputs": [
    {
     "data": {
      "text/plain": [
       "['manzana', 'durazno', 'piña']"
      ]
     },
     "execution_count": 78,
     "metadata": {},
     "output_type": "execute_result"
    }
   ],
   "source": [
    "# eliminar el elemento 'pera'\n",
    "del frutas[2]\n",
    "frutas"
   ]
  },
  {
   "cell_type": "code",
   "execution_count": 79,
   "metadata": {},
   "outputs": [
    {
     "data": {
      "text/plain": [
       "['manzana']"
      ]
     },
     "execution_count": 79,
     "metadata": {},
     "output_type": "execute_result"
    }
   ],
   "source": [
    "# eliminar todos los elementos excepto el primero\n",
    "del frutas[1:]\n",
    "frutas"
   ]
  },
  {
   "cell_type": "code",
   "execution_count": 80,
   "metadata": {
    "id": "qU3LCQ1MaacM"
   },
   "outputs": [],
   "source": [
    "# eliminar la lista completa\n",
    "del frutas"
   ]
  },
  {
   "cell_type": "markdown",
   "metadata": {
    "id": "1lXz8L-xaacM"
   },
   "source": [
    "### $Metodo\\ remove$"
   ]
  },
  {
   "cell_type": "markdown",
   "metadata": {
    "id": "VjG6elyHaacM"
   },
   "source": [
    "El método remove nos ayuda a eliminar un dato. remove recibirá como argumento el dato a eliminar"
   ]
  },
  {
   "cell_type": "code",
   "execution_count": 1,
   "metadata": {},
   "outputs": [
    {
     "data": {
      "text/plain": [
       "['manzana', 'durazno', 'pera', 'piña']"
      ]
     },
     "execution_count": 1,
     "metadata": {},
     "output_type": "execute_result"
    }
   ],
   "source": [
    "frutas = ['manzana', 'durazno', 'pera', 'piña']\n",
    "frutas"
   ]
  },
  {
   "cell_type": "code",
   "execution_count": 2,
   "metadata": {
    "id": "_f8srWXtaacN"
   },
   "outputs": [
    {
     "data": {
      "text/plain": [
       "['manzana', 'pera', 'piña']"
      ]
     },
     "execution_count": 2,
     "metadata": {},
     "output_type": "execute_result"
    }
   ],
   "source": [
    "frutas.remove('durazno')\n",
    "frutas"
   ]
  },
  {
   "cell_type": "markdown",
   "metadata": {
    "id": "fzkbJN4GaacN"
   },
   "source": [
    "Si existe uno o más datos del mismo valor, remove eliminará el dato ubicado en el menor subíndice."
   ]
  },
  {
   "cell_type": "code",
   "execution_count": 3,
   "metadata": {
    "id": "KgP57FTbaacN"
   },
   "outputs": [
    {
     "data": {
      "text/plain": [
       "['manzana', 'pera', 'piña', 'manzana', 'pera']"
      ]
     },
     "execution_count": 3,
     "metadata": {},
     "output_type": "execute_result"
    }
   ],
   "source": [
    "frutas += ['manzana', 'pera']\n",
    "frutas"
   ]
  },
  {
   "cell_type": "code",
   "execution_count": 4,
   "metadata": {
    "id": "Cvamg6YwaacN"
   },
   "outputs": [
    {
     "data": {
      "text/plain": [
       "['manzana', 'piña', 'manzana', 'pera']"
      ]
     },
     "execution_count": 4,
     "metadata": {},
     "output_type": "execute_result"
    }
   ],
   "source": [
    "frutas.remove('pera')\n",
    "frutas"
   ]
  },
  {
   "cell_type": "markdown",
   "metadata": {
    "id": "2FduAa4QaacO"
   },
   "source": [
    "Si el elemento no existe en lista, retorna un ValueError"
   ]
  },
  {
   "cell_type": "code",
   "execution_count": 5,
   "metadata": {},
   "outputs": [
    {
     "ename": "ValueError",
     "evalue": "list.remove(x): x not in list",
     "output_type": "error",
     "traceback": [
      "\u001b[0;31m---------------------------------------------------------------------------\u001b[0m",
      "\u001b[0;31mValueError\u001b[0m                                Traceback (most recent call last)",
      "Input \u001b[0;32mIn [5]\u001b[0m, in \u001b[0;36m<cell line: 1>\u001b[0;34m()\u001b[0m\n\u001b[0;32m----> 1\u001b[0m \u001b[43mfrutas\u001b[49m\u001b[38;5;241;43m.\u001b[39;49m\u001b[43mremove\u001b[49m\u001b[43m(\u001b[49m\u001b[38;5;124;43m'\u001b[39;49m\u001b[38;5;124;43mmango\u001b[39;49m\u001b[38;5;124;43m'\u001b[39;49m\u001b[43m)\u001b[49m\n\u001b[1;32m      2\u001b[0m frutas\n",
      "\u001b[0;31mValueError\u001b[0m: list.remove(x): x not in list"
     ]
    }
   ],
   "source": [
    "frutas.remove('mango')\n",
    "frutas"
   ]
  },
  {
   "cell_type": "markdown",
   "metadata": {},
   "source": [
    "### $Metodo\\ pop$"
   ]
  },
  {
   "cell_type": "markdown",
   "metadata": {},
   "source": [
    "El método `pop` nos ayuda a eliminar un dato a través de su subíndice. `pop` recibirá como argumento el **subíndice** que indica el dato a eliminar y devolverá como valor el dato eliminado."
   ]
  },
  {
   "cell_type": "code",
   "execution_count": 7,
   "metadata": {},
   "outputs": [
    {
     "data": {
      "text/plain": [
       "['manzana', 'piña', 'manzana', 'pera']"
      ]
     },
     "execution_count": 7,
     "metadata": {},
     "output_type": "execute_result"
    }
   ],
   "source": [
    "frutas"
   ]
  },
  {
   "cell_type": "code",
   "execution_count": 8,
   "metadata": {},
   "outputs": [
    {
     "name": "stdout",
     "output_type": "stream",
     "text": [
      "El elemento eliminado fue pera\n"
     ]
    }
   ],
   "source": [
    "ele_eliminado = frutas.pop(3)\n",
    "print(f'El elemento eliminado fue {ele_eliminado}')"
   ]
  },
  {
   "cell_type": "markdown",
   "metadata": {},
   "source": [
    "Si no se pasa argumento al metodo, entonces se elimina el ultimo elemento de la lista"
   ]
  },
  {
   "cell_type": "code",
   "execution_count": 9,
   "metadata": {},
   "outputs": [
    {
     "data": {
      "text/plain": [
       "['manzana', 'piña', 'manzana']"
      ]
     },
     "execution_count": 9,
     "metadata": {},
     "output_type": "execute_result"
    }
   ],
   "source": [
    "frutas"
   ]
  },
  {
   "cell_type": "code",
   "execution_count": 10,
   "metadata": {},
   "outputs": [
    {
     "name": "stdout",
     "output_type": "stream",
     "text": [
      "manzana\n"
     ]
    }
   ],
   "source": [
    "ele_eliminado = frutas.pop()\n",
    "print(ele_eliminado)"
   ]
  },
  {
   "cell_type": "markdown",
   "metadata": {},
   "source": [
    "### $Metodo\\ clear$"
   ]
  },
  {
   "cell_type": "markdown",
   "metadata": {},
   "source": [
    "Con este metodo podemos dejar la lista sin sus elementos, dejarla vacia."
   ]
  },
  {
   "cell_type": "code",
   "execution_count": 81,
   "metadata": {},
   "outputs": [
    {
     "data": {
      "text/plain": [
       "['manzana', 'durazno', 'pera', 'piña']"
      ]
     },
     "execution_count": 81,
     "metadata": {},
     "output_type": "execute_result"
    }
   ],
   "source": [
    "frutas = ['manzana', 'durazno', 'pera', 'piña']\n",
    "frutas"
   ]
  },
  {
   "cell_type": "code",
   "execution_count": 83,
   "metadata": {},
   "outputs": [
    {
     "data": {
      "text/plain": [
       "[]"
      ]
     },
     "execution_count": 83,
     "metadata": {},
     "output_type": "execute_result"
    }
   ],
   "source": [
    "frutas.clear()\n",
    "frutas"
   ]
  },
  {
   "cell_type": "markdown",
   "metadata": {},
   "source": [
    "## Secciones de lista"
   ]
  },
  {
   "cell_type": "markdown",
   "metadata": {},
   "source": [
    "Podemos crear \"secciones\" o sublistas a partir de una lista existente.\n",
    "\n",
    "Una sublista es una lista que se crea a partir de otra lista. Al crearse, siempre tendrá elementos en común con la lista \"padre\".\n",
    "\n",
    "Su sintaxis es similar a la de acceder un dato."
   ]
  },
  {
   "cell_type": "code",
   "execution_count": 14,
   "metadata": {},
   "outputs": [
    {
     "data": {
      "text/plain": [
       "['manzana', 'durazno', 'pera', 'piña', 'ciruela', 'kiwi']"
      ]
     },
     "execution_count": 14,
     "metadata": {},
     "output_type": "execute_result"
    }
   ],
   "source": [
    "frutas = ['manzana', 'durazno', 'pera', 'piña', 'ciruela', 'kiwi']\n",
    "frutas"
   ]
  },
  {
   "cell_type": "code",
   "execution_count": 15,
   "metadata": {},
   "outputs": [
    {
     "data": {
      "text/plain": [
       "['pera', 'piña']"
      ]
     },
     "execution_count": 15,
     "metadata": {},
     "output_type": "execute_result"
    }
   ],
   "source": [
    "# acceder a los dos elementos de la mitad de la lista\n",
    "frutas[2:4]"
   ]
  },
  {
   "cell_type": "markdown",
   "metadata": {},
   "source": [
    "Una sublista tiene una posición inicial y una posición final. Así que, en lugar de indicar un único valor numérico en los corchetes, debemos indicarlo de la siguiente manera:\n",
    "\n",
    "1.   subíndice del primer elemento de la sublista\n",
    "2.   operador dos puntos (:)\n",
    "3.   subíndice del `último-1` elemento de la sublista\n",
    "\n",
    "Esto quiere decir que el primer valor es **inclusivo** y el último valor es **exclusivo**.\n",
    "\n",
    "En la celda anterior, la sintaxis fue la siguiente:\n",
    "\n",
    "*   2\n",
    "*   :\n",
    "*   4\n",
    "\n",
    "Si restamos el segundo valor con el primer valor `(4 - 2)`, obtenemos la cantidad de elementos de la sublista (si tienen el mismo signo). En este caso, fueron dos: `'pera'` y `'pina'`.\n",
    "\n",
    "\n"
   ]
  },
  {
   "cell_type": "code",
   "execution_count": 17,
   "metadata": {},
   "outputs": [
    {
     "data": {
      "text/plain": [
       "['durazno', 'pera', 'piña', 'ciruela']"
      ]
     },
     "execution_count": 17,
     "metadata": {},
     "output_type": "execute_result"
    }
   ],
   "source": [
    "# acceder a los 4 elementos desde la posicion 1\n",
    "frutas[1:5]"
   ]
  },
  {
   "cell_type": "markdown",
   "metadata": {},
   "source": [
    "Si omitimos el primer subindice, toma por defecto la posicion 0."
   ]
  },
  {
   "cell_type": "code",
   "execution_count": 18,
   "metadata": {},
   "outputs": [
    {
     "data": {
      "text/plain": [
       "['manzana', 'durazno']"
      ]
     },
     "execution_count": 18,
     "metadata": {},
     "output_type": "execute_result"
    }
   ],
   "source": [
    "frutas[:2]"
   ]
  },
  {
   "cell_type": "markdown",
   "metadata": {},
   "source": [
    "Si omitimos el ultimo sub indice, tomara como valor por defecto la cantidad de elementos de la lista padre"
   ]
  },
  {
   "cell_type": "markdown",
   "metadata": {},
   "source": []
  },
  {
   "cell_type": "code",
   "execution_count": 19,
   "metadata": {},
   "outputs": [
    {
     "data": {
      "text/plain": [
       "['piña', 'ciruela', 'kiwi']"
      ]
     },
     "execution_count": 19,
     "metadata": {},
     "output_type": "execute_result"
    }
   ],
   "source": [
    "frutas[3:]"
   ]
  },
  {
   "cell_type": "markdown",
   "metadata": {},
   "source": [
    "Incluso si omitimos ambos subindices, tendran los mismos valores por defecto de la lista padre"
   ]
  },
  {
   "cell_type": "code",
   "execution_count": 20,
   "metadata": {},
   "outputs": [
    {
     "data": {
      "text/plain": [
       "['manzana', 'durazno', 'pera', 'piña', 'ciruela', 'kiwi']"
      ]
     },
     "execution_count": 20,
     "metadata": {},
     "output_type": "execute_result"
    }
   ],
   "source": [
    "frutas[:]"
   ]
  },
  {
   "cell_type": "markdown",
   "metadata": {},
   "source": [
    "Si pasamos un valor de subindice mayor que la cantidad de elementos de la lista, devolvera solo los elementos de la lista"
   ]
  },
  {
   "cell_type": "code",
   "execution_count": 21,
   "metadata": {},
   "outputs": [
    {
     "data": {
      "text/plain": [
       "['manzana', 'durazno', 'pera', 'piña', 'ciruela', 'kiwi']"
      ]
     },
     "execution_count": 21,
     "metadata": {},
     "output_type": "execute_result"
    }
   ],
   "source": [
    "frutas[:20]"
   ]
  },
  {
   "cell_type": "code",
   "execution_count": 22,
   "metadata": {},
   "outputs": [
    {
     "data": {
      "text/plain": [
       "['pera', 'piña', 'ciruela', 'kiwi']"
      ]
     },
     "execution_count": 22,
     "metadata": {},
     "output_type": "execute_result"
    }
   ],
   "source": [
    "frutas[2:40]"
   ]
  },
  {
   "cell_type": "markdown",
   "metadata": {},
   "source": [
    "Podemos utilizar valores negativo en la sintaxis para acceder a los elementos de forma inversa."
   ]
  },
  {
   "cell_type": "code",
   "execution_count": 23,
   "metadata": {},
   "outputs": [
    {
     "data": {
      "text/plain": [
       "['kiwi']"
      ]
     },
     "execution_count": 23,
     "metadata": {},
     "output_type": "execute_result"
    }
   ],
   "source": [
    "# ultimo elemento de la lista\n",
    "frutas[-1:]"
   ]
  },
  {
   "cell_type": "code",
   "execution_count": 24,
   "metadata": {},
   "outputs": [
    {
     "data": {
      "text/plain": [
       "['durazno', 'pera', 'piña']"
      ]
     },
     "execution_count": 24,
     "metadata": {},
     "output_type": "execute_result"
    }
   ],
   "source": [
    "# acceder a elemento de forma inversa\n",
    "frutas[-5:-2]"
   ]
  },
  {
   "cell_type": "markdown",
   "metadata": {},
   "source": [
    "Si a la sintaxis `[:]` añadimos otro operador dos puntos (:) y un valor numérico, se determinará la secuencia que utilizará la sublista para añadir los elementos. Por ejemplo, `[::2]` tendrá en cuenta todos los elementos de la lista y los añadirá a la sublista de dos en dos."
   ]
  },
  {
   "cell_type": "code",
   "execution_count": 26,
   "metadata": {},
   "outputs": [
    {
     "data": {
      "text/plain": [
       "['manzana', 'durazno', 'pera', 'piña', 'ciruela', 'kiwi']"
      ]
     },
     "execution_count": 26,
     "metadata": {},
     "output_type": "execute_result"
    }
   ],
   "source": [
    "frutas"
   ]
  },
  {
   "cell_type": "code",
   "execution_count": 25,
   "metadata": {},
   "outputs": [
    {
     "data": {
      "text/plain": [
       "['manzana', 'pera', 'ciruela']"
      ]
     },
     "execution_count": 25,
     "metadata": {},
     "output_type": "execute_result"
    }
   ],
   "source": [
    "# mostrar los elementos de cada dos posiciones\n",
    "frutas[::2]"
   ]
  },
  {
   "cell_type": "markdown",
   "metadata": {},
   "source": [
    "Cualquier secuencia puede utilizar la sintaxis de secciones, como el *string*"
   ]
  },
  {
   "cell_type": "code",
   "execution_count": 27,
   "metadata": {},
   "outputs": [
    {
     "data": {
      "text/plain": [
       "'Mesa'"
      ]
     },
     "execution_count": 27,
     "metadata": {},
     "output_type": "execute_result"
    }
   ],
   "source": [
    "'Mesada'[:4]"
   ]
  },
  {
   "cell_type": "markdown",
   "metadata": {},
   "source": [
    "## Recorrido de Listas"
   ]
  },
  {
   "cell_type": "markdown",
   "metadata": {},
   "source": [
    "Como una lista es una secuencia de elementos, podemos recorrerla a través de `for`."
   ]
  },
  {
   "cell_type": "code",
   "execution_count": 28,
   "metadata": {},
   "outputs": [
    {
     "data": {
      "text/plain": [
       "['manzana', 'durazno', 'pera', 'piña', 'ciruela', 'kiwi']"
      ]
     },
     "execution_count": 28,
     "metadata": {},
     "output_type": "execute_result"
    }
   ],
   "source": [
    "frutas"
   ]
  },
  {
   "cell_type": "code",
   "execution_count": 29,
   "metadata": {},
   "outputs": [
    {
     "name": "stdout",
     "output_type": "stream",
     "text": [
      "manzana\n",
      "durazno\n",
      "pera\n",
      "piña\n",
      "ciruela\n",
      "kiwi\n"
     ]
    }
   ],
   "source": [
    "for i in frutas:\n",
    "    print(i)"
   ]
  },
  {
   "cell_type": "markdown",
   "metadata": {},
   "source": [
    "Podemos usar la función `enumerate` para referir el número y el elemento de la secuencia de la iteración actual."
   ]
  },
  {
   "cell_type": "code",
   "execution_count": 30,
   "metadata": {},
   "outputs": [
    {
     "name": "stdout",
     "output_type": "stream",
     "text": [
      "(0, 'manzana')\n",
      "(1, 'durazno')\n",
      "(2, 'pera')\n",
      "(3, 'piña')\n",
      "(4, 'ciruela')\n",
      "(5, 'kiwi')\n"
     ]
    }
   ],
   "source": [
    "for i in enumerate(frutas):\n",
    "    print(i)"
   ]
  },
  {
   "cell_type": "markdown",
   "metadata": {},
   "source": [
    "Podemos asignar este valor numérico a otra variable iteradora en `for`."
   ]
  },
  {
   "cell_type": "code",
   "execution_count": 31,
   "metadata": {},
   "outputs": [
    {
     "name": "stdout",
     "output_type": "stream",
     "text": [
      "El elemento numero 0 es manzana\n",
      "El elemento numero 1 es durazno\n",
      "El elemento numero 2 es pera\n",
      "El elemento numero 3 es piña\n",
      "El elemento numero 4 es ciruela\n",
      "El elemento numero 5 es kiwi\n"
     ]
    }
   ],
   "source": [
    "for indice, fruta in enumerate(frutas):\n",
    "    print(f'El elemento numero {indice} es {fruta}')"
   ]
  },
  {
   "cell_type": "markdown",
   "metadata": {},
   "source": [
    "## Desempaquetar Listas"
   ]
  },
  {
   "cell_type": "markdown",
   "metadata": {},
   "source": [
    "Los elementos de las listas pueden asignarse a otras variables de forma directa como sigue"
   ]
  },
  {
   "cell_type": "code",
   "execution_count": 58,
   "metadata": {},
   "outputs": [
    {
     "data": {
      "text/plain": [
       "['val_1', 'val_2', 'val_3', 'val_4', 'val_5']"
      ]
     },
     "execution_count": 58,
     "metadata": {},
     "output_type": "execute_result"
    }
   ],
   "source": [
    "lista = ['val_1', 'val_2', 'val_3', 'val_4', 'val_5']\n",
    "lista"
   ]
  },
  {
   "cell_type": "code",
   "execution_count": 60,
   "metadata": {},
   "outputs": [
    {
     "name": "stdout",
     "output_type": "stream",
     "text": [
      "val_1\n",
      "val_2\n",
      "val_3\n",
      "val_4\n",
      "val_5\n"
     ]
    }
   ],
   "source": [
    "# asignacion a igual cantidad de variables\n",
    "media1, media2, media3, media4, media5 = lista\n",
    "\n",
    "# mostrar valores de las variables\n",
    "print(media1)\n",
    "print(media2)\n",
    "print(media3)\n",
    "print(media4)\n",
    "print(media5)"
   ]
  },
  {
   "cell_type": "markdown",
   "metadata": {},
   "source": [
    "Tambien se pueden asignar a una cantidad de variables menor que la cantidad de elementos de la lista  "
   ]
  },
  {
   "cell_type": "code",
   "execution_count": 62,
   "metadata": {},
   "outputs": [
    {
     "name": "stdout",
     "output_type": "stream",
     "text": [
      "val_1\n",
      "val_2\n",
      "['val_3', 'val_4', 'val_5']\n"
     ]
    }
   ],
   "source": [
    "# se asigna los elementos val_3, val_4 y val_5 a media3\n",
    "# a traves de una lista\n",
    "media1, media2, *media3 = lista\n",
    "\n",
    "print(media1)\n",
    "print(media2)\n",
    "print(media3)"
   ]
  },
  {
   "cell_type": "code",
   "execution_count": 63,
   "metadata": {},
   "outputs": [
    {
     "name": "stdout",
     "output_type": "stream",
     "text": [
      "val_1\n",
      "['val_2', 'val_3', 'val_4']\n",
      "val_5\n"
     ]
    }
   ],
   "source": [
    "# se asigna los elementos val_2, val_3 y val_4 a media2\n",
    "# a traves de una lista\n",
    "media1, *media2, media5 = lista\n",
    "\n",
    "print(media1)\n",
    "print(media2)\n",
    "print(media5)"
   ]
  },
  {
   "cell_type": "markdown",
   "metadata": {},
   "source": [
    "## Elementos en Lista"
   ]
  },
  {
   "cell_type": "markdown",
   "metadata": {},
   "source": [
    "Para saber si un elemento se encuentra en una lista basta con usar el operador *in*. Devuelve True si el elemento se encuentra en la lista y False en caso contrario."
   ]
  },
  {
   "cell_type": "code",
   "execution_count": 65,
   "metadata": {},
   "outputs": [
    {
     "data": {
      "text/plain": [
       "['Aguacate', 'naranja', 'mango', 'limon']"
      ]
     },
     "execution_count": 65,
     "metadata": {},
     "output_type": "execute_result"
    }
   ],
   "source": [
    "frutas = ['Aguacate', 'naranja', 'mango', 'limon']\n",
    "frutas"
   ]
  },
  {
   "cell_type": "code",
   "execution_count": 66,
   "metadata": {},
   "outputs": [
    {
     "name": "stdout",
     "output_type": "stream",
     "text": [
      "True\n"
     ]
    }
   ],
   "source": [
    "print('naranja' in frutas)"
   ]
  },
  {
   "cell_type": "code",
   "execution_count": 67,
   "metadata": {},
   "outputs": [
    {
     "name": "stdout",
     "output_type": "stream",
     "text": [
      "False\n"
     ]
    }
   ],
   "source": [
    "print('pera' in frutas)"
   ]
  },
  {
   "cell_type": "markdown",
   "metadata": {},
   "source": [
    "## Copiar Lista"
   ]
  },
  {
   "cell_type": "markdown",
   "metadata": {},
   "source": [
    "utilizamos el metodo *copy* para crear una copia de una lista completamente independiente de las demas."
   ]
  },
  {
   "cell_type": "code",
   "execution_count": 84,
   "metadata": {},
   "outputs": [
    {
     "data": {
      "text/plain": [
       "['Aguacate', 'naranja', 'mango', 'limon']"
      ]
     },
     "execution_count": 84,
     "metadata": {},
     "output_type": "execute_result"
    }
   ],
   "source": [
    "frutas = ['Aguacate', 'naranja', 'mango', 'limon']\n",
    "frutas"
   ]
  },
  {
   "cell_type": "code",
   "execution_count": 85,
   "metadata": {},
   "outputs": [
    {
     "data": {
      "text/plain": [
       "['Aguacate', 'naranja', 'mango', 'limon']"
      ]
     },
     "execution_count": 85,
     "metadata": {},
     "output_type": "execute_result"
    }
   ],
   "source": [
    "copia_frutas = frutas.copy()\n",
    "copia_frutas"
   ]
  },
  {
   "cell_type": "markdown",
   "metadata": {},
   "source": [
    "## Unir listas"
   ]
  },
  {
   "cell_type": "markdown",
   "metadata": {},
   "source": [
    "Podemos unir listas de diferentes tamanos, tipos de datos o formas con el operador *+*."
   ]
  },
  {
   "cell_type": "code",
   "execution_count": 86,
   "metadata": {},
   "outputs": [
    {
     "name": "stdout",
     "output_type": "stream",
     "text": [
      "[-5, -4, -3, -2, -1, 0, 1, 2, 3, 4, 5]\n"
     ]
    }
   ],
   "source": [
    "numeros_positivos = [1,2,3,4,5]\n",
    "cero = [0]\n",
    "numeros_negativos = [-5,-4,-3,-2,-1]\n",
    "\n",
    "entero = numeros_negativos + cero + numeros_positivos\n",
    "print(entero)"
   ]
  },
  {
   "cell_type": "code",
   "execution_count": 87,
   "metadata": {},
   "outputs": [
    {
     "name": "stdout",
     "output_type": "stream",
     "text": [
      "['lunes', 'miercoles', 'viernes', 2, 4, 6, ['tomate', 'cebolla', 'cilantro'], [2, 3, 1]]\n"
     ]
    }
   ],
   "source": [
    "# dias\n",
    "dias = ['lunes', 'miercoles', 'viernes']\n",
    "# numeros pares\n",
    "num_pares = [2,4,6]\n",
    "# variado\n",
    "lista_compras = [['tomate', 'cebolla', 'cilantro'], [2, 3, 1]]\n",
    "\n",
    "# unir listas\n",
    "\n",
    "planificacion = dias + num_pares + lista_compras\n",
    "print(planificacion)"
   ]
  },
  {
   "cell_type": "markdown",
   "metadata": {},
   "source": [
    "## Comprension de Listas"
   ]
  },
  {
   "cell_type": "markdown",
   "metadata": {},
   "source": [
    "Ofrecen una manera concisa de crear listas. Crea nuevas listas donde cada elemento es el resultado de algunas operaciones aplicada a cada mienbro de otra secuencia o iterable."
   ]
  },
  {
   "cell_type": "code",
   "execution_count": 1,
   "metadata": {},
   "outputs": [
    {
     "data": {
      "text/plain": [
       "[0, 1, 4, 9, 16, 25, 36, 49, 64, 81]"
      ]
     },
     "execution_count": 1,
     "metadata": {},
     "output_type": "execute_result"
    }
   ],
   "source": [
    "# cuadrado de cada numero del o al 9\n",
    "cuadrado = [x**2 for x in range(10)]\n",
    "cuadrado"
   ]
  },
  {
   "cell_type": "markdown",
   "metadata": {},
   "source": [
    "Consiste de corchetes rodeado de una expresion seguida de la declaracion for y luego cero o mas declaraciones for o if que le siguen."
   ]
  },
  {
   "cell_type": "code",
   "execution_count": 2,
   "metadata": {},
   "outputs": [
    {
     "data": {
      "text/plain": [
       "[(1, 3), (1, 4), (2, 3), (2, 1), (2, 4), (3, 1), (3, 4)]"
      ]
     },
     "execution_count": 2,
     "metadata": {},
     "output_type": "execute_result"
    }
   ],
   "source": [
    "# combinar los elementos de dos listas si no son iguales\n",
    "[(x, y) for x in [1,2,3] for y in [3,1,4] if x != y]"
   ]
  },
  {
   "cell_type": "markdown",
   "metadata": {},
   "source": [
    "Tambien podemos operar sobre listas ya creadas"
   ]
  },
  {
   "cell_type": "code",
   "execution_count": 3,
   "metadata": {},
   "outputs": [
    {
     "data": {
      "text/plain": [
       "[-6, -4, -2, 0, 2, 4, 6]"
      ]
     },
     "execution_count": 3,
     "metadata": {},
     "output_type": "execute_result"
    }
   ],
   "source": [
    "# vector\n",
    "vec = [-3,-2,-1,0,1,2,3]\n",
    "\n",
    "# crear un nuevo vector con sus valores al cuadrado\n",
    "vec_2 = [x*2 for x in vec]\n",
    "vec_2"
   ]
  },
  {
   "cell_type": "code",
   "execution_count": 4,
   "metadata": {},
   "outputs": [
    {
     "data": {
      "text/plain": [
       "[0, 1, 2, 3]"
      ]
     },
     "execution_count": 4,
     "metadata": {},
     "output_type": "execute_result"
    }
   ],
   "source": [
    "# excluir los valores negativos del vector\n",
    "[x for x in vec if x>= 0]"
   ]
  },
  {
   "cell_type": "code",
   "execution_count": 5,
   "metadata": {},
   "outputs": [
    {
     "data": {
      "text/plain": [
       "[3, 2, 1, 0, 1, 2, 3]"
      ]
     },
     "execution_count": 5,
     "metadata": {},
     "output_type": "execute_result"
    }
   ],
   "source": [
    "# aplicar el valor absoluto sobre todos los valores del vector\n",
    "[abs(x) for x in vec]"
   ]
  },
  {
   "cell_type": "markdown",
   "metadata": {},
   "source": [
    "Tambien podemos aplicar un metodo sobre cada elemento de la lista\n"
   ]
  },
  {
   "cell_type": "code",
   "execution_count": 6,
   "metadata": {},
   "outputs": [
    {
     "data": {
      "text/plain": [
       "['banana', 'pera', 'manzana']"
      ]
     },
     "execution_count": 6,
     "metadata": {},
     "output_type": "execute_result"
    }
   ],
   "source": [
    "# lista de frutas\n",
    "frutas = [' banana', 'pera  ', ' manzana ']\n",
    "\n",
    "# aplicar la funcion strip que omite los espacios en blanco en una cadena\n",
    "new_frutas = [fruta.strip() for fruta in frutas]\n",
    "new_frutas"
   ]
  },
  {
   "cell_type": "markdown",
   "metadata": {},
   "source": [
    "Nos permite crear listas de dos tuplas. Para ello, debemos encerrar entre parentesis los valores de tuplas "
   ]
  },
  {
   "cell_type": "code",
   "execution_count": 7,
   "metadata": {},
   "outputs": [
    {
     "data": {
      "text/plain": [
       "[(0, 0), (1, 1), (2, 4), (3, 9), (4, 16), (5, 25)]"
      ]
     },
     "execution_count": 7,
     "metadata": {},
     "output_type": "execute_result"
    }
   ],
   "source": [
    "# tuplas de numeros con su respectivo cuadrado\n",
    "[(x, x**2) for x in range(6)]"
   ]
  },
  {
   "cell_type": "markdown",
   "metadata": {},
   "source": [
    "Util para aplanar listas de varios niveles."
   ]
  },
  {
   "cell_type": "code",
   "execution_count": 8,
   "metadata": {},
   "outputs": [
    {
     "data": {
      "text/plain": [
       "[1, 2, 3, 4, 5, 6, 7, 8, 9]"
      ]
     },
     "execution_count": 8,
     "metadata": {},
     "output_type": "execute_result"
    }
   ],
   "source": [
    "# vector de 3 dimenesiones\n",
    "vec = [[1,2,3], [4,5,6], [7,8,9]]\n",
    "\n",
    "# aplanar a 1 dimension\n",
    "[num for elem in vec for num in elem]"
   ]
  },
  {
   "cell_type": "markdown",
   "metadata": {},
   "source": [
    "La expresion inicial de una comprension de listas puede ser cualquier expresion arbitraria, incluyendo otra comprension de listas."
   ]
  },
  {
   "cell_type": "code",
   "execution_count": 9,
   "metadata": {},
   "outputs": [
    {
     "data": {
      "text/plain": [
       "[[1, 2, 3, 4], [5, 6, 7, 8], [9, 10, 11, 12]]"
      ]
     },
     "execution_count": 9,
     "metadata": {},
     "output_type": "execute_result"
    }
   ],
   "source": [
    "#matriz 3x4\n",
    "matriz = [\n",
    "    [1,2,3,4],\n",
    "    [5,6,7,8],\n",
    "    [9,10,11,12]\n",
    "]\n",
    "\n",
    "matriz"
   ]
  },
  {
   "cell_type": "code",
   "execution_count": 10,
   "metadata": {},
   "outputs": [
    {
     "data": {
      "text/plain": [
       "[[1, 5, 9], [2, 6, 10], [3, 7, 11], [4, 8, 12]]"
      ]
     },
     "execution_count": 10,
     "metadata": {},
     "output_type": "execute_result"
    }
   ],
   "source": [
    "# trasponer las filas por columnas\n",
    "[[fila[i] for fila in matriz] for i in range(4)]"
   ]
  },
  {
   "cell_type": "markdown",
   "metadata": {
    "id": "XDJv8Zb2aacO"
   },
   "source": [
    "# **Mas Funciones y métodos de listas**"
   ]
  },
  {
   "cell_type": "markdown",
   "metadata": {
    "id": "bGJgPJu_aacO"
   },
   "source": [
    "### $len()$"
   ]
  },
  {
   "cell_type": "markdown",
   "metadata": {},
   "source": [
    "Retorna la longitud de un iterable, es decir, el número de objetos que tiene un iterable."
   ]
  },
  {
   "cell_type": "code",
   "execution_count": 25,
   "metadata": {
    "id": "JZGFhBQFaacO"
   },
   "outputs": [
    {
     "name": "stdout",
     "output_type": "stream",
     "text": [
      "5\n"
     ]
    }
   ],
   "source": [
    "nums = [ 1 , ['Python' , 'IA'] , 3.141592 , True , 'Hola mundo']\n",
    "print(len(nums))"
   ]
  },
  {
   "cell_type": "markdown",
   "metadata": {
    "id": "KmJdSMMzaacP"
   },
   "source": [
    "### $index()$"
   ]
  },
  {
   "cell_type": "markdown",
   "metadata": {
    "id": "IEmkwHSxaacP"
   },
   "source": [
    "El método <span style=\"background:#BEBEBE\" > <b> index() </b> </span>, retorna el índice (la posición) de objeto. Sí el objeto está varias veces en la lista, retornará la posición del primero que se encuentre de izquierda a decha. Sí el objeto no está en la lista, retorna la excepción ValueError"
   ]
  },
  {
   "cell_type": "code",
   "execution_count": 88,
   "metadata": {
    "id": "a3NYpdaaaacP"
   },
   "outputs": [
    {
     "data": {
      "text/plain": [
       "4"
      ]
     },
     "execution_count": 88,
     "metadata": {},
     "output_type": "execute_result"
    }
   ],
   "source": [
    "letras = ['o','q','r','s','p','u','p']\n",
    "letras.index('p')"
   ]
  },
  {
   "cell_type": "markdown",
   "metadata": {},
   "source": [
    "### $max()$"
   ]
  },
  {
   "cell_type": "markdown",
   "metadata": {
    "id": "YzMmEL_MaacP"
   },
   "source": [
    "La función <span style=\"background:#BEBEBE\" > <b> max(list) </b> </span> devuelve el elemento de una lista con el máximo valor."
   ]
  },
  {
   "cell_type": "code",
   "execution_count": 90,
   "metadata": {
    "id": "gMqkpEmQaacP"
   },
   "outputs": [
    {
     "name": "stdout",
     "output_type": "stream",
     "text": [
      "u\n",
      "9\n"
     ]
    }
   ],
   "source": [
    "letras = ['p','q','r','s','p','u','a']\n",
    "numeros = [2,5,8,9,4,5,1,0,5]\n",
    "print(max(letras))\n",
    "print(max(numeros))"
   ]
  },
  {
   "cell_type": "markdown",
   "metadata": {
    "id": "SN_Lq4mfaacP"
   },
   "source": [
    "### $min()$"
   ]
  },
  {
   "cell_type": "markdown",
   "metadata": {
    "id": "zBISyb-MaacP"
   },
   "source": [
    "La función <span style=\"background:#BEBEBE\" > <b> min(list) </b> </span> devuelve el elemento de una lista con el mínimo valor."
   ]
  },
  {
   "cell_type": "code",
   "execution_count": 91,
   "metadata": {
    "id": "KcewiHXuaacQ"
   },
   "outputs": [
    {
     "name": "stdout",
     "output_type": "stream",
     "text": [
      "b\n",
      "0\n"
     ]
    }
   ],
   "source": [
    "letras = ['p','q','r', 'b','s','p','u']\n",
    "numeros = [2,5,8,9,4,5,1,0,5]\n",
    "print(min(letras))\n",
    "print(min(numeros))"
   ]
  },
  {
   "cell_type": "markdown",
   "metadata": {
    "id": "8f-EBlb0aacQ"
   },
   "source": [
    "### $count()$"
   ]
  },
  {
   "cell_type": "markdown",
   "metadata": {
    "id": "r19yRbkDaacQ"
   },
   "source": [
    "El método <span style=\"background:#BEBEBE\" > <b> lista.count(obj) </b> </span> devuelve un conteo de cuántas veces un elemento está en una lista."
   ]
  },
  {
   "cell_type": "code",
   "execution_count": 92,
   "metadata": {},
   "outputs": [
    {
     "data": {
      "text/plain": [
       "[2, 5, 8, 9, 4, 5, 1, 0, 5]"
      ]
     },
     "execution_count": 92,
     "metadata": {},
     "output_type": "execute_result"
    }
   ],
   "source": [
    "numeros"
   ]
  },
  {
   "cell_type": "code",
   "execution_count": 93,
   "metadata": {
    "id": "bjzNaEVnaacQ"
   },
   "outputs": [
    {
     "data": {
      "text/plain": [
       "3"
      ]
     },
     "execution_count": 93,
     "metadata": {},
     "output_type": "execute_result"
    }
   ],
   "source": [
    "# Cuenta cuántas veces está el número 5 en la lista\n",
    "numeros.count(5)"
   ]
  },
  {
   "cell_type": "code",
   "execution_count": 94,
   "metadata": {},
   "outputs": [
    {
     "data": {
      "text/plain": [
       "['p', 'q', 'r', 'b', 's', 'p', 'u']"
      ]
     },
     "execution_count": 94,
     "metadata": {},
     "output_type": "execute_result"
    }
   ],
   "source": [
    "letras"
   ]
  },
  {
   "cell_type": "code",
   "execution_count": 95,
   "metadata": {
    "id": "HQ4nxRuHaacQ"
   },
   "outputs": [
    {
     "data": {
      "text/plain": [
       "2"
      ]
     },
     "execution_count": 95,
     "metadata": {},
     "output_type": "execute_result"
    }
   ],
   "source": [
    "# Cuenta cuántas veces está la letra 'p' en la lista\n",
    "letras.count('p')"
   ]
  },
  {
   "cell_type": "markdown",
   "metadata": {
    "id": "lmKsHcCoaacR"
   },
   "source": [
    "### $reverse()$"
   ]
  },
  {
   "cell_type": "markdown",
   "metadata": {
    "id": "UL-wVbaqaacR"
   },
   "source": [
    "El método <span style=\"background:#BEBEBE\" > <b> lista.reverse() </b> </span> invierte los elementos de una lista"
   ]
  },
  {
   "cell_type": "code",
   "execution_count": 96,
   "metadata": {},
   "outputs": [
    {
     "data": {
      "text/plain": [
       "[2, 5, 8, 9, 4, 5, 1, 0, 5]"
      ]
     },
     "execution_count": 96,
     "metadata": {},
     "output_type": "execute_result"
    }
   ],
   "source": [
    "numeros"
   ]
  },
  {
   "cell_type": "code",
   "execution_count": 97,
   "metadata": {
    "id": "3sR9LtT-aacR"
   },
   "outputs": [
    {
     "name": "stdout",
     "output_type": "stream",
     "text": [
      "None\n",
      "[5, 0, 1, 5, 4, 9, 8, 5, 2]\n"
     ]
    }
   ],
   "source": [
    "print(numeros.reverse())\n",
    "print(numeros)"
   ]
  },
  {
   "cell_type": "code",
   "execution_count": 98,
   "metadata": {},
   "outputs": [
    {
     "data": {
      "text/plain": [
       "['p', 'q', 'r', 'b', 's', 'p', 'u']"
      ]
     },
     "execution_count": 98,
     "metadata": {},
     "output_type": "execute_result"
    }
   ],
   "source": [
    "letras"
   ]
  },
  {
   "cell_type": "code",
   "execution_count": 99,
   "metadata": {
    "id": "qLTtba8HaacR"
   },
   "outputs": [
    {
     "name": "stdout",
     "output_type": "stream",
     "text": [
      "None\n",
      "['u', 'p', 's', 'b', 'r', 'q', 'p']\n"
     ]
    }
   ],
   "source": [
    "print(letras.reverse())\n",
    "print(letras)"
   ]
  },
  {
   "cell_type": "markdown",
   "metadata": {},
   "source": [
    "### $sort()$"
   ]
  },
  {
   "cell_type": "markdown",
   "metadata": {
    "id": "iHAym63raacR"
   },
   "source": [
    "El método <span style=\"background:#BEBEBE\" > <b> lista.sort() </b> </span> ordena los elementos de una lista."
   ]
  },
  {
   "cell_type": "code",
   "execution_count": 100,
   "metadata": {},
   "outputs": [
    {
     "data": {
      "text/plain": [
       "[5, 0, 1, 5, 4, 9, 8, 5, 2]"
      ]
     },
     "execution_count": 100,
     "metadata": {},
     "output_type": "execute_result"
    }
   ],
   "source": [
    "numeros"
   ]
  },
  {
   "cell_type": "code",
   "execution_count": 101,
   "metadata": {
    "id": "Kmwt4WFUaacR"
   },
   "outputs": [
    {
     "name": "stdout",
     "output_type": "stream",
     "text": [
      "None\n",
      "[0, 1, 2, 4, 5, 5, 5, 8, 9]\n"
     ]
    }
   ],
   "source": [
    "print(numeros.sort())\n",
    "print(numeros)"
   ]
  },
  {
   "cell_type": "code",
   "execution_count": 102,
   "metadata": {},
   "outputs": [
    {
     "data": {
      "text/plain": [
       "['u', 'p', 's', 'b', 'r', 'q', 'p']"
      ]
     },
     "execution_count": 102,
     "metadata": {},
     "output_type": "execute_result"
    }
   ],
   "source": [
    "letras"
   ]
  },
  {
   "cell_type": "code",
   "execution_count": 103,
   "metadata": {
    "id": "KiCAat4HaacR"
   },
   "outputs": [
    {
     "name": "stdout",
     "output_type": "stream",
     "text": [
      "None\n",
      "['b', 'p', 'p', 'q', 'r', 's', 'u']\n"
     ]
    }
   ],
   "source": [
    "print(letras.sort())\n",
    "print(letras)"
   ]
  },
  {
   "cell_type": "markdown",
   "metadata": {},
   "source": [
    "### $sorted()$"
   ]
  },
  {
   "cell_type": "markdown",
   "metadata": {},
   "source": [
    "Funcion que devuelve la lista ordenada sin modificar la original"
   ]
  },
  {
   "cell_type": "code",
   "execution_count": 105,
   "metadata": {},
   "outputs": [
    {
     "data": {
      "text/plain": [
       "[2, 5, 8, 9, 4, 5, 1, 0, 5]"
      ]
     },
     "execution_count": 105,
     "metadata": {},
     "output_type": "execute_result"
    }
   ],
   "source": [
    "numeros = [2,5,8,9,4,5,1,0,5]\n",
    "numeros"
   ]
  },
  {
   "cell_type": "code",
   "execution_count": 107,
   "metadata": {},
   "outputs": [
    {
     "name": "stdout",
     "output_type": "stream",
     "text": [
      "[0, 1, 2, 4, 5, 5, 5, 8, 9]\n"
     ]
    }
   ],
   "source": [
    "new_lista = sorted(numeros)\n",
    "print(new_lista)"
   ]
  },
  {
   "cell_type": "markdown",
   "metadata": {},
   "source": [
    "### $sum()$"
   ]
  },
  {
   "cell_type": "markdown",
   "metadata": {},
   "source": [
    "Funcion que suma los elementos de una lista dada."
   ]
  },
  {
   "cell_type": "code",
   "execution_count": 108,
   "metadata": {},
   "outputs": [
    {
     "data": {
      "text/plain": [
       "[2, 5, 8, 9, 4, 5, 1, 0, 5]"
      ]
     },
     "execution_count": 108,
     "metadata": {},
     "output_type": "execute_result"
    }
   ],
   "source": [
    "numeros"
   ]
  },
  {
   "cell_type": "code",
   "execution_count": 109,
   "metadata": {},
   "outputs": [
    {
     "data": {
      "text/plain": [
       "39"
      ]
     },
     "execution_count": 109,
     "metadata": {},
     "output_type": "execute_result"
    }
   ],
   "source": [
    "sum(numeros)"
   ]
  },
  {
   "cell_type": "markdown",
   "metadata": {},
   "source": [
    "### $any()$"
   ]
  },
  {
   "cell_type": "markdown",
   "metadata": {},
   "source": [
    "Funcion que devuelve True si al menos un elemento de la lista es verdadero o si no esta vacia"
   ]
  },
  {
   "cell_type": "code",
   "execution_count": 114,
   "metadata": {},
   "outputs": [
    {
     "data": {
      "text/plain": [
       "False"
      ]
     },
     "execution_count": 114,
     "metadata": {},
     "output_type": "execute_result"
    }
   ],
   "source": [
    "# lista con booleanos falsos\n",
    "lista = [False, False, False]\n",
    "any(lista)"
   ]
  },
  {
   "cell_type": "code",
   "execution_count": 115,
   "metadata": {},
   "outputs": [
    {
     "data": {
      "text/plain": [
       "True"
      ]
     },
     "execution_count": 115,
     "metadata": {},
     "output_type": "execute_result"
    }
   ],
   "source": [
    "# lista con elementos de diferentes tipos\n",
    "lista = [False, 1, 2, 'casa']\n",
    "any(lista)"
   ]
  },
  {
   "cell_type": "code",
   "execution_count": 116,
   "metadata": {},
   "outputs": [
    {
     "data": {
      "text/plain": [
       "False"
      ]
     },
     "execution_count": 116,
     "metadata": {},
     "output_type": "execute_result"
    }
   ],
   "source": [
    "# lista vacia\n",
    "lista = []\n",
    "any(lista)"
   ]
  },
  {
   "cell_type": "markdown",
   "metadata": {},
   "source": [
    "### $all()$"
   ]
  },
  {
   "cell_type": "markdown",
   "metadata": {},
   "source": [
    "Funcion que devuelve True si todos los elementos de la lista son verdaderos"
   ]
  },
  {
   "cell_type": "code",
   "execution_count": 118,
   "metadata": {},
   "outputs": [
    {
     "data": {
      "text/plain": [
       "False"
      ]
     },
     "execution_count": 118,
     "metadata": {},
     "output_type": "execute_result"
    }
   ],
   "source": [
    "# lista con un elemento falso\n",
    "lista = [True, True, False]\n",
    "all(lista)"
   ]
  },
  {
   "cell_type": "code",
   "execution_count": 119,
   "metadata": {},
   "outputs": [
    {
     "data": {
      "text/plain": [
       "False"
      ]
     },
     "execution_count": 119,
     "metadata": {},
     "output_type": "execute_result"
    }
   ],
   "source": [
    "# lista con elementos de diferentes tipos\n",
    "lista = [1, 1.3, 'casa', False]\n",
    "all(lista)"
   ]
  },
  {
   "cell_type": "code",
   "execution_count": 120,
   "metadata": {},
   "outputs": [
    {
     "data": {
      "text/plain": [
       "True"
      ]
     },
     "execution_count": 120,
     "metadata": {},
     "output_type": "execute_result"
    }
   ],
   "source": [
    "# lista con elementos de diferentes tipos\n",
    "lista = [2.3, 3, 'Casa']\n",
    "all(lista)"
   ]
  },
  {
   "cell_type": "code",
   "execution_count": 121,
   "metadata": {},
   "outputs": [
    {
     "data": {
      "text/plain": [
       "True"
      ]
     },
     "execution_count": 121,
     "metadata": {},
     "output_type": "execute_result"
    }
   ],
   "source": [
    "# lista con todos sus elementos verdaderos\n",
    "lista = [True, True, True]\n",
    "all(lista)"
   ]
  },
  {
   "cell_type": "markdown",
   "metadata": {},
   "source": [
    "### $enumerate()$"
   ]
  },
  {
   "cell_type": "markdown",
   "metadata": {},
   "source": [
    "Funcion que devuelve un objeto enumerado que puede ser iterado"
   ]
  },
  {
   "cell_type": "code",
   "execution_count": 123,
   "metadata": {},
   "outputs": [
    {
     "name": "stdout",
     "output_type": "stream",
     "text": [
      "Indice 0: 1\n",
      "Indice 1: 1.3\n",
      "Indice 2: casa\n",
      "Indice 3: True\n"
     ]
    }
   ],
   "source": [
    "lista = [1, 1.3, 'casa', True]\n",
    "cosas = enumerate(lista)\n",
    "\n",
    "for indice, cosa in cosas:\n",
    "    print(f'Indice {indice}: {cosa}')"
   ]
  },
  {
   "cell_type": "markdown",
   "metadata": {},
   "source": [
    "### $filter()$"
   ]
  },
  {
   "cell_type": "markdown",
   "metadata": {},
   "source": [
    "Filtra la lista segun una funcion que devuelve verdadero o falso. Debemos guardar el resultado de filter en una lista para poder visualizarlo."
   ]
  },
  {
   "cell_type": "code",
   "execution_count": 124,
   "metadata": {},
   "outputs": [],
   "source": [
    "# funcion que determina si un numero es par\n",
    "def es_par(n):\n",
    "    return n % 2 == 0"
   ]
  },
  {
   "cell_type": "code",
   "execution_count": 129,
   "metadata": {},
   "outputs": [
    {
     "name": "stdout",
     "output_type": "stream",
     "text": [
      "[22, 8, 12, 0]\n"
     ]
    }
   ],
   "source": [
    "# lista de numeros\n",
    "numeros = [1, 7, 3, 22, 5, 11, 5, 8, 12, 0]\n",
    "# aplicar filter, pasar los valores a una lista y mostrarlo\n",
    "print(list(filter(es_par, numeros)))"
   ]
  },
  {
   "cell_type": "markdown",
   "metadata": {},
   "source": [
    "### $map()$"
   ]
  },
  {
   "cell_type": "markdown",
   "metadata": {},
   "source": [
    "Aplica una funcion a cada elemento de la lista. Devuelve una nueva lista con los resultados, por tanto, debemos asignar los resultados a una lista."
   ]
  },
  {
   "cell_type": "code",
   "execution_count": 128,
   "metadata": {},
   "outputs": [],
   "source": [
    "# funcion que eleva el cuadrado un numero\n",
    "def cuadrado(n):\n",
    "    return n*n"
   ]
  },
  {
   "cell_type": "code",
   "execution_count": 130,
   "metadata": {},
   "outputs": [
    {
     "name": "stdout",
     "output_type": "stream",
     "text": [
      "[1, 49, 9, 484, 25, 121, 25, 64, 144, 0]\n"
     ]
    }
   ],
   "source": [
    "# lista de numeros\n",
    "numeros = [1, 7, 3, 22, 5, 11, 5, 8, 12, 0]\n",
    "\n",
    "# aplicar map para elevar el cuadrado cada numero\n",
    "numeros_cuadrados = list(map(cuadrado, numeros))\n",
    "print(numeros_cuadrados)"
   ]
  },
  {
   "cell_type": "markdown",
   "metadata": {},
   "source": [
    "### $zip()$"
   ]
  },
  {
   "cell_type": "markdown",
   "metadata": {},
   "source": [
    "Agrupa elementos de varias listas y en tuplas contenidas en una lista"
   ]
  },
  {
   "cell_type": "code",
   "execution_count": 131,
   "metadata": {},
   "outputs": [],
   "source": [
    "# lista de nombres y edades\n",
    "nombres = [\"Ana\", \"Juan\", \"Maria\", \"Pedro\"]\n",
    "edades = [25, 30, 22, 35]"
   ]
  },
  {
   "cell_type": "code",
   "execution_count": 132,
   "metadata": {},
   "outputs": [
    {
     "name": "stdout",
     "output_type": "stream",
     "text": [
      "[('Ana', 25), ('Juan', 30), ('Maria', 22), ('Pedro', 35)]\n"
     ]
    }
   ],
   "source": [
    "# aplicamos zip para combinar las dos listas\n",
    "combinar = list(zip(nombres, edades))\n",
    "print(combinar)"
   ]
  },
  {
   "cell_type": "markdown",
   "metadata": {},
   "source": [
    "Si las listas son de diferentes tamanos, zip solo combina hasta el menor tamano de las listas, ignorando los elementos restantes de la lista mas larga"
   ]
  },
  {
   "cell_type": "code",
   "execution_count": 133,
   "metadata": {},
   "outputs": [],
   "source": [
    "nombres = [\"Ana\", \"Juan\", \"Maria\"]\n",
    "edades = [25, 30]"
   ]
  },
  {
   "cell_type": "code",
   "execution_count": 134,
   "metadata": {},
   "outputs": [
    {
     "name": "stdout",
     "output_type": "stream",
     "text": [
      "[('Ana', 25), ('Juan', 30)]\n"
     ]
    }
   ],
   "source": [
    "combinar = list(zip(nombres, edades))\n",
    "print(combinar)"
   ]
  },
  {
   "cell_type": "markdown",
   "metadata": {
    "id": "Vlg7uhleaacR"
   },
   "source": [
    "# **Ejercicio de lista**\n",
    "\n",
    "Diseñe un algoritmo en Python que permita amacenar la información de cliente en listas anidadas. La forma de las lista debe ser la siguiente.\n",
    "\n",
    "cliente = [\n",
    "            [documento1, nombre1, apellido1 , edad1 ] ,\n",
    "            [documento2, nombre2, apellido2 , edad2 ] ,\n",
    "            ...\n",
    "            [documento_n, nombre_n, apellido_n , edad_n ] ,\n",
    "]\n",
    "\n",
    "Inicialmente, el algoritmo deberá pedir cuantos cliente van a ser almacenadas en la \"base de datos\"."
   ]
  },
  {
   "cell_type": "code",
   "execution_count": 41,
   "metadata": {
    "id": "gT1kMq6haacS"
   },
   "outputs": [
    {
     "name": "stdout",
     "output_type": "stream",
     "text": [
      "Cuantos clientes deseas registrar: 2\n",
      "Ingrese el documento del cliente 1:234321\n",
      "Ingrese el nombre del cliente 1: Jose\n",
      "Ingrese el apellido del cliente 1: Bernal\n",
      "Ingrese la edad del cliente 1: 30\n",
      "Ingrese el documento del cliente 2:211123\n",
      "Ingrese el nombre del cliente 2: Isabella\n",
      "Ingrese el apellido del cliente 2: Alvarez\n",
      "Ingrese la edad del cliente 2: 7\n"
     ]
    },
    {
     "data": {
      "text/plain": [
       "[[234321, 'Jose', 'Bernal', 30], [211123, 'Isabella', 'Alvarez', 7]]"
      ]
     },
     "execution_count": 41,
     "metadata": {},
     "output_type": "execute_result"
    }
   ],
   "source": [
    "# cantidad de clientes a almacenar\n",
    "n_clientes = int(input('Cuantos clientes deseas registrar: '))\n",
    "\n",
    "# lista base de datos\n",
    "BD = []\n",
    "\n",
    "for i in range(1, n_clientes+1):\n",
    "    # lista informacion clientes\n",
    "    cliente = []\n",
    "    DNI = int(input(f'Ingrese el documento del cliente {i}:'))\n",
    "    cliente.append(DNI)                \n",
    "    nombre = input(f'Ingrese el nombre del cliente {i}: ')\n",
    "    cliente.append(nombre)\n",
    "    apellido = input(f'Ingrese el apellido del cliente {i}: ')\n",
    "    cliente.append(apellido)\n",
    "    edad = int(input(f'Ingrese la edad del cliente {i}: '))\n",
    "    cliente.append(edad)\n",
    "    \n",
    "    # agregar datos del cliente a la BD\n",
    "    BD.append(cliente)\n",
    "    \n",
    "BD\n",
    "    \n",
    "    "
   ]
  },
  {
   "cell_type": "code",
   "execution_count": 27,
   "metadata": {
    "id": "x3J2zhuOaacS"
   },
   "outputs": [
    {
     "name": "stdout",
     "output_type": "stream",
     "text": [
      "{False: 0, True: 3}\n"
     ]
    }
   ],
   "source": [
    "cond = {\n",
    "\n",
    "    False: 0,\n",
    "    True: 1\n",
    "}\n",
    "\n",
    "cond[True or False] = 2\n",
    "cond[True and False or True] = 3\n",
    "print(cond)"
   ]
  },
  {
   "cell_type": "code",
   "execution_count": 30,
   "metadata": {
    "id": "2Ihcvo01aacS"
   },
   "outputs": [
    {
     "name": "stdout",
     "output_type": "stream",
     "text": [
      "True\n"
     ]
    }
   ],
   "source": [
    "print({1,2,3} == {1,2,3})"
   ]
  }
 ],
 "metadata": {
  "colab": {
   "provenance": []
  },
  "kernelspec": {
   "display_name": "Python 3 (ipykernel)",
   "language": "python",
   "name": "python3"
  },
  "language_info": {
   "codemirror_mode": {
    "name": "ipython",
    "version": 3
   },
   "file_extension": ".py",
   "mimetype": "text/x-python",
   "name": "python",
   "nbconvert_exporter": "python",
   "pygments_lexer": "ipython3",
   "version": "3.8.10"
  }
 },
 "nbformat": 4,
 "nbformat_minor": 1
}
